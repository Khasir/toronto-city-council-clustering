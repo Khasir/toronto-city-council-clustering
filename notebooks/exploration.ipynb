{
 "cells": [
  {
   "cell_type": "code",
   "execution_count": 1,
   "metadata": {},
   "outputs": [],
   "source": [
    "import csv\n",
    "import pandas as pd\n",
    "from tqdm import tqdm"
   ]
  },
  {
   "cell_type": "code",
   "execution_count": 2,
   "metadata": {},
   "outputs": [],
   "source": [
    "filename = \"data/member-voting-record-2006-2010.csv\"\n",
    "# with open(filename, 'r', newline='') as file:\n",
    "#     reader = csv.DictReader(file)\n",
    "#     data = [r for r in reader]\n",
    "data = pd.read_csv(filename)"
   ]
  },
  {
   "cell_type": "code",
   "execution_count": 4,
   "metadata": {},
   "outputs": [
    {
     "data": {
      "text/plain": [
       "{'_id': '2',\n",
       " 'Term': '2006-2010',\n",
       " 'First Name': 'Brian',\n",
       " 'Last Name': 'Ashton',\n",
       " 'Committee': 'City Council',\n",
       " 'Date/Time': '',\n",
       " 'Agenda Item #': '2009.IA30.5',\n",
       " 'Agenda Item Title': 'One Cent Now Campaign - Further Questions',\n",
       " 'Motion Type': 'Refer Item',\n",
       " 'Vote': 'Yes',\n",
       " 'Result': 'Lost, 18-25',\n",
       " 'Vote Description': 'Majority required - IA30.5 - Refer to Executive Committee'}"
      ]
     },
     "execution_count": 4,
     "metadata": {},
     "output_type": "execute_result"
    }
   ],
   "source": [
    "data[1]"
   ]
  },
  {
   "cell_type": "code",
   "execution_count": 12,
   "metadata": {},
   "outputs": [
    {
     "data": {
      "text/plain": [
       "{'Affordable Housing Committee',\n",
       " 'Audit Committee',\n",
       " 'Board of Management of the Toronto Zoo',\n",
       " 'Budget Committee',\n",
       " 'City Council',\n",
       " 'Community Development and Recreation Committee',\n",
       " 'Debenture Committee',\n",
       " 'Economic Development Committee',\n",
       " 'Employee and Labour Relations Committee',\n",
       " 'Etobicoke York Community Council',\n",
       " 'Executive Committee',\n",
       " 'Government Management Committee',\n",
       " 'North York Community Council',\n",
       " 'Parks and Environment Committee',\n",
       " 'Planning and Growth Management Committee',\n",
       " 'Public Works and Infrastructure Committee',\n",
       " 'Scarborough Community Council',\n",
       " 'Toronto and East York Community Council'}"
      ]
     },
     "execution_count": 12,
     "metadata": {},
     "output_type": "execute_result"
    }
   ],
   "source": [
    "set([r['Committee'] for r in data])"
   ]
  },
  {
   "cell_type": "code",
   "execution_count": null,
   "metadata": {},
   "outputs": [],
   "source": [
    "# Agenda Item # --> Dict of councillor votes\n",
    "# Dict of councillor votes = Councillor name --> Vote"
   ]
  },
  {
   "cell_type": "code",
   "execution_count": null,
   "metadata": {},
   "outputs": [],
   "source": [
    "class AgendaItem:\n",
    "    def __init__(self, id: str) -> None:\n",
    "        self.id: str = id\n",
    "        self.votes: dict = {}\n",
    "\n",
    "    def add_councillor_vote(self, councillor_first_name: str, councillor_last_name: str, vote: str) -> None:\n",
    "        councillor_first_name = councillor_first_name.lower().strip()\n",
    "        councillor_last_name = councillor_last_name.lower().strip()\n",
    "        vote = vote.lower.strip()\n",
    "\n",
    "        name = f\"{councillor_first_name} {councillor_last_name}\"\n",
    "        if vote == 'yes':\n",
    "            vote = 1\n",
    "        elif vote == 'no' or vote == 'absent':\n",
    "            vote = 0\n",
    "        else:\n",
    "            raise ValueError(f\"Unexpected vote type: {vote}\")\n",
    "\n",
    "        self.votes[name] = vote"
   ]
  }
 ],
 "metadata": {
  "kernelspec": {
   "display_name": ".venv",
   "language": "python",
   "name": "python3"
  },
  "language_info": {
   "codemirror_mode": {
    "name": "ipython",
    "version": 3
   },
   "file_extension": ".py",
   "mimetype": "text/x-python",
   "name": "python",
   "nbconvert_exporter": "python",
   "pygments_lexer": "ipython3",
   "version": "3.10.13"
  }
 },
 "nbformat": 4,
 "nbformat_minor": 2
}
