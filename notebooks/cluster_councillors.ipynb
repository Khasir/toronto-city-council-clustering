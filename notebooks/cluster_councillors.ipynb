{
 "cells": [
  {
   "cell_type": "code",
   "execution_count": 2,
   "metadata": {},
   "outputs": [
    {
     "name": "stdout",
     "output_type": "stream",
     "text": [
      "Requirement already satisfied: scikit-learn in c:\\users\\trraa\\documents\\repos\\toronto-city-council-clustering\\.venv\\lib\\site-packages (1.4.2)\n",
      "Requirement already satisfied: numpy>=1.19.5 in c:\\users\\trraa\\documents\\repos\\toronto-city-council-clustering\\.venv\\lib\\site-packages (from scikit-learn) (2.0.1)\n",
      "Requirement already satisfied: scipy>=1.6.0 in c:\\users\\trraa\\documents\\repos\\toronto-city-council-clustering\\.venv\\lib\\site-packages (from scikit-learn) (1.14.0)\n",
      "Requirement already satisfied: joblib>=1.2.0 in c:\\users\\trraa\\documents\\repos\\toronto-city-council-clustering\\.venv\\lib\\site-packages (from scikit-learn) (1.4.2)\n",
      "Requirement already satisfied: threadpoolctl>=2.0.0 in c:\\users\\trraa\\documents\\repos\\toronto-city-council-clustering\\.venv\\lib\\site-packages (from scikit-learn) (3.5.0)\n",
      "Note: you may need to restart the kernel to use updated packages.\n",
      "Collecting ipywidgets\n",
      "  Using cached ipywidgets-8.1.3-py3-none-any.whl.metadata (2.4 kB)\n",
      "Requirement already satisfied: comm>=0.1.3 in c:\\users\\trraa\\documents\\repos\\toronto-city-council-clustering\\.venv\\lib\\site-packages (from ipywidgets) (0.2.2)\n",
      "Requirement already satisfied: ipython>=6.1.0 in c:\\users\\trraa\\documents\\repos\\toronto-city-council-clustering\\.venv\\lib\\site-packages (from ipywidgets) (8.26.0)\n",
      "Requirement already satisfied: traitlets>=4.3.1 in c:\\users\\trraa\\documents\\repos\\toronto-city-council-clustering\\.venv\\lib\\site-packages (from ipywidgets) (5.14.3)\n",
      "Collecting widgetsnbextension~=4.0.11 (from ipywidgets)\n",
      "  Using cached widgetsnbextension-4.0.11-py3-none-any.whl.metadata (1.6 kB)\n",
      "Collecting jupyterlab-widgets~=3.0.11 (from ipywidgets)\n",
      "  Using cached jupyterlab_widgets-3.0.11-py3-none-any.whl.metadata (4.1 kB)\n",
      "Requirement already satisfied: decorator in c:\\users\\trraa\\documents\\repos\\toronto-city-council-clustering\\.venv\\lib\\site-packages (from ipython>=6.1.0->ipywidgets) (5.1.1)\n",
      "Requirement already satisfied: jedi>=0.16 in c:\\users\\trraa\\documents\\repos\\toronto-city-council-clustering\\.venv\\lib\\site-packages (from ipython>=6.1.0->ipywidgets) (0.19.1)\n",
      "Requirement already satisfied: matplotlib-inline in c:\\users\\trraa\\documents\\repos\\toronto-city-council-clustering\\.venv\\lib\\site-packages (from ipython>=6.1.0->ipywidgets) (0.1.7)\n",
      "Requirement already satisfied: prompt-toolkit<3.1.0,>=3.0.41 in c:\\users\\trraa\\documents\\repos\\toronto-city-council-clustering\\.venv\\lib\\site-packages (from ipython>=6.1.0->ipywidgets) (3.0.47)\n",
      "Requirement already satisfied: pygments>=2.4.0 in c:\\users\\trraa\\documents\\repos\\toronto-city-council-clustering\\.venv\\lib\\site-packages (from ipython>=6.1.0->ipywidgets) (2.18.0)\n",
      "Requirement already satisfied: stack-data in c:\\users\\trraa\\documents\\repos\\toronto-city-council-clustering\\.venv\\lib\\site-packages (from ipython>=6.1.0->ipywidgets) (0.6.3)\n",
      "Requirement already satisfied: typing-extensions>=4.6 in c:\\users\\trraa\\documents\\repos\\toronto-city-council-clustering\\.venv\\lib\\site-packages (from ipython>=6.1.0->ipywidgets) (4.12.2)\n",
      "Requirement already satisfied: colorama in c:\\users\\trraa\\documents\\repos\\toronto-city-council-clustering\\.venv\\lib\\site-packages (from ipython>=6.1.0->ipywidgets) (0.4.6)\n",
      "Requirement already satisfied: parso<0.9.0,>=0.8.3 in c:\\users\\trraa\\documents\\repos\\toronto-city-council-clustering\\.venv\\lib\\site-packages (from jedi>=0.16->ipython>=6.1.0->ipywidgets) (0.8.4)\n",
      "Requirement already satisfied: wcwidth in c:\\users\\trraa\\documents\\repos\\toronto-city-council-clustering\\.venv\\lib\\site-packages (from prompt-toolkit<3.1.0,>=3.0.41->ipython>=6.1.0->ipywidgets) (0.2.13)\n",
      "Requirement already satisfied: executing>=1.2.0 in c:\\users\\trraa\\documents\\repos\\toronto-city-council-clustering\\.venv\\lib\\site-packages (from stack-data->ipython>=6.1.0->ipywidgets) (2.0.1)\n",
      "Requirement already satisfied: asttokens>=2.1.0 in c:\\users\\trraa\\documents\\repos\\toronto-city-council-clustering\\.venv\\lib\\site-packages (from stack-data->ipython>=6.1.0->ipywidgets) (2.4.1)\n",
      "Requirement already satisfied: pure-eval in c:\\users\\trraa\\documents\\repos\\toronto-city-council-clustering\\.venv\\lib\\site-packages (from stack-data->ipython>=6.1.0->ipywidgets) (0.2.3)\n",
      "Requirement already satisfied: six>=1.12.0 in c:\\users\\trraa\\documents\\repos\\toronto-city-council-clustering\\.venv\\lib\\site-packages (from asttokens>=2.1.0->stack-data->ipython>=6.1.0->ipywidgets) (1.16.0)\n",
      "Using cached ipywidgets-8.1.3-py3-none-any.whl (139 kB)\n",
      "Using cached jupyterlab_widgets-3.0.11-py3-none-any.whl (214 kB)\n",
      "Using cached widgetsnbextension-4.0.11-py3-none-any.whl (2.3 MB)\n",
      "Installing collected packages: widgetsnbextension, jupyterlab-widgets, ipywidgets\n",
      "Successfully installed ipywidgets-8.1.3 jupyterlab-widgets-3.0.11 widgetsnbextension-4.0.11\n",
      "Note: you may need to restart the kernel to use updated packages.\n",
      "Collecting matplotlib\n",
      "  Downloading matplotlib-3.9.1-cp311-cp311-win_amd64.whl.metadata (11 kB)\n",
      "Collecting contourpy>=1.0.1 (from matplotlib)\n",
      "  Downloading contourpy-1.2.1-cp311-cp311-win_amd64.whl.metadata (5.8 kB)\n",
      "Collecting cycler>=0.10 (from matplotlib)\n",
      "  Downloading cycler-0.12.1-py3-none-any.whl.metadata (3.8 kB)\n",
      "Collecting fonttools>=4.22.0 (from matplotlib)\n",
      "  Downloading fonttools-4.53.1-cp311-cp311-win_amd64.whl.metadata (165 kB)\n",
      "     ---------------------------------------- 0.0/165.9 kB ? eta -:--:--\n",
      "     ---------------------------------------- 165.9/165.9 kB ? eta 0:00:00\n",
      "Collecting kiwisolver>=1.3.1 (from matplotlib)\n",
      "  Downloading kiwisolver-1.4.5-cp311-cp311-win_amd64.whl.metadata (6.5 kB)\n",
      "Requirement already satisfied: numpy>=1.23 in c:\\users\\trraa\\documents\\repos\\toronto-city-council-clustering\\.venv\\lib\\site-packages (from matplotlib) (2.0.1)\n",
      "Requirement already satisfied: packaging>=20.0 in c:\\users\\trraa\\documents\\repos\\toronto-city-council-clustering\\.venv\\lib\\site-packages (from matplotlib) (24.1)\n",
      "Collecting pillow>=8 (from matplotlib)\n",
      "  Downloading pillow-10.4.0-cp311-cp311-win_amd64.whl.metadata (9.3 kB)\n",
      "Collecting pyparsing>=2.3.1 (from matplotlib)\n",
      "  Using cached pyparsing-3.1.2-py3-none-any.whl.metadata (5.1 kB)\n",
      "Requirement already satisfied: python-dateutil>=2.7 in c:\\users\\trraa\\documents\\repos\\toronto-city-council-clustering\\.venv\\lib\\site-packages (from matplotlib) (2.9.0.post0)\n",
      "Requirement already satisfied: six>=1.5 in c:\\users\\trraa\\documents\\repos\\toronto-city-council-clustering\\.venv\\lib\\site-packages (from python-dateutil>=2.7->matplotlib) (1.16.0)\n",
      "Downloading matplotlib-3.9.1-cp311-cp311-win_amd64.whl (8.0 MB)\n",
      "   ---------------------------------------- 0.0/8.0 MB ? eta -:--:--\n",
      "   ------- -------------------------------- 1.5/8.0 MB 46.9 MB/s eta 0:00:01\n",
      "   ------------------- -------------------- 4.0/8.0 MB 42.3 MB/s eta 0:00:01\n",
      "   ---------------------------- ----------- 5.6/8.0 MB 44.7 MB/s eta 0:00:01\n",
      "   ------------------------------------- -- 7.5/8.0 MB 43.3 MB/s eta 0:00:01\n",
      "   ---------------------------------------- 8.0/8.0 MB 39.2 MB/s eta 0:00:00\n",
      "Downloading contourpy-1.2.1-cp311-cp311-win_amd64.whl (188 kB)\n",
      "   ---------------------------------------- 0.0/188.2 kB ? eta -:--:--\n",
      "   ---------------------------------------- 188.2/188.2 kB ? eta 0:00:00\n",
      "Downloading cycler-0.12.1-py3-none-any.whl (8.3 kB)\n",
      "Downloading fonttools-4.53.1-cp311-cp311-win_amd64.whl (2.2 MB)\n",
      "   ---------------------------------------- 0.0/2.2 MB ? eta -:--:--\n",
      "   ------------------------------------- -- 2.1/2.2 MB 44.2 MB/s eta 0:00:01\n",
      "   ---------------------------------------- 2.2/2.2 MB 35.4 MB/s eta 0:00:00\n",
      "Downloading kiwisolver-1.4.5-cp311-cp311-win_amd64.whl (56 kB)\n",
      "   ---------------------------------------- 0.0/56.1 kB ? eta -:--:--\n",
      "   ---------------------------------------- 56.1/56.1 kB ? eta 0:00:00\n",
      "Downloading pillow-10.4.0-cp311-cp311-win_amd64.whl (2.6 MB)\n",
      "   ---------------------------------------- 0.0/2.6 MB ? eta -:--:--\n",
      "   ---------------------------- ----------- 1.8/2.6 MB 57.5 MB/s eta 0:00:01\n",
      "   ---------------------------------------- 2.6/2.6 MB 41.0 MB/s eta 0:00:00\n",
      "Using cached pyparsing-3.1.2-py3-none-any.whl (103 kB)\n",
      "Installing collected packages: pyparsing, pillow, kiwisolver, fonttools, cycler, contourpy, matplotlib\n",
      "Successfully installed contourpy-1.2.1 cycler-0.12.1 fonttools-4.53.1 kiwisolver-1.4.5 matplotlib-3.9.1 pillow-10.4.0 pyparsing-3.1.2\n",
      "Note: you may need to restart the kernel to use updated packages.\n",
      "Collecting nbformat\n",
      "  Downloading nbformat-5.10.4-py3-none-any.whl.metadata (3.6 kB)\n",
      "Collecting fastjsonschema>=2.15 (from nbformat)\n",
      "  Downloading fastjsonschema-2.20.0-py3-none-any.whl.metadata (2.1 kB)\n",
      "Collecting jsonschema>=2.6 (from nbformat)\n",
      "  Using cached jsonschema-4.23.0-py3-none-any.whl.metadata (7.9 kB)\n",
      "Requirement already satisfied: jupyter-core!=5.0.*,>=4.12 in c:\\users\\trraa\\documents\\repos\\toronto-city-council-clustering\\.venv\\lib\\site-packages (from nbformat) (5.7.2)\n",
      "Requirement already satisfied: traitlets>=5.1 in c:\\users\\trraa\\documents\\repos\\toronto-city-council-clustering\\.venv\\lib\\site-packages (from nbformat) (5.14.3)\n",
      "Collecting attrs>=22.2.0 (from jsonschema>=2.6->nbformat)\n",
      "  Using cached attrs-23.2.0-py3-none-any.whl.metadata (9.5 kB)\n",
      "Collecting jsonschema-specifications>=2023.03.6 (from jsonschema>=2.6->nbformat)\n",
      "  Using cached jsonschema_specifications-2023.12.1-py3-none-any.whl.metadata (3.0 kB)\n",
      "Collecting referencing>=0.28.4 (from jsonschema>=2.6->nbformat)\n",
      "  Using cached referencing-0.35.1-py3-none-any.whl.metadata (2.8 kB)\n",
      "Collecting rpds-py>=0.7.1 (from jsonschema>=2.6->nbformat)\n",
      "  Using cached rpds_py-0.19.0-cp311-none-win_amd64.whl.metadata (4.2 kB)\n",
      "Requirement already satisfied: platformdirs>=2.5 in c:\\users\\trraa\\documents\\repos\\toronto-city-council-clustering\\.venv\\lib\\site-packages (from jupyter-core!=5.0.*,>=4.12->nbformat) (4.2.2)\n",
      "Requirement already satisfied: pywin32>=300 in c:\\users\\trraa\\documents\\repos\\toronto-city-council-clustering\\.venv\\lib\\site-packages (from jupyter-core!=5.0.*,>=4.12->nbformat) (306)\n",
      "Downloading nbformat-5.10.4-py3-none-any.whl (78 kB)\n",
      "   ---------------------------------------- 0.0/78.5 kB ? eta -:--:--\n",
      "   ---------------------------------------- 78.5/78.5 kB 2.2 MB/s eta 0:00:00\n",
      "Downloading fastjsonschema-2.20.0-py3-none-any.whl (23 kB)\n",
      "Using cached jsonschema-4.23.0-py3-none-any.whl (88 kB)\n",
      "Using cached attrs-23.2.0-py3-none-any.whl (60 kB)\n",
      "Using cached jsonschema_specifications-2023.12.1-py3-none-any.whl (18 kB)\n",
      "Using cached referencing-0.35.1-py3-none-any.whl (26 kB)\n",
      "Using cached rpds_py-0.19.0-cp311-none-win_amd64.whl (211 kB)\n",
      "Installing collected packages: fastjsonschema, rpds-py, attrs, referencing, jsonschema-specifications, jsonschema, nbformat\n",
      "Successfully installed attrs-23.2.0 fastjsonschema-2.20.0 jsonschema-4.23.0 jsonschema-specifications-2023.12.1 nbformat-5.10.4 referencing-0.35.1 rpds-py-0.19.0\n",
      "Note: you may need to restart the kernel to use updated packages.\n"
     ]
    }
   ],
   "source": [
    "%pip install scikit-learn\n",
    "%pip install ipywidgets\n",
    "%pip install matplotlib\n",
    "\n",
    "# For Plotly\n",
    "%pip install nbformat"
   ]
  },
  {
   "cell_type": "code",
   "execution_count": 4,
   "metadata": {},
   "outputs": [
    {
     "name": "stdout",
     "output_type": "stream",
     "text": [
      "Collecting tqdm\n",
      "  Using cached tqdm-4.66.4-py3-none-any.whl.metadata (57 kB)\n",
      "Requirement already satisfied: colorama in c:\\users\\trraa\\documents\\repos\\toronto-city-council-clustering\\.venv\\lib\\site-packages (from tqdm) (0.4.6)\n",
      "Using cached tqdm-4.66.4-py3-none-any.whl (78 kB)\n",
      "Installing collected packages: tqdm\n",
      "Successfully installed tqdm-4.66.4\n",
      "Note: you may need to restart the kernel to use updated packages.\n"
     ]
    }
   ],
   "source": [
    "%pip install tqdm"
   ]
  },
  {
   "cell_type": "markdown",
   "metadata": {},
   "source": [
    "# Initialize"
   ]
  },
  {
   "cell_type": "code",
   "execution_count": 1,
   "metadata": {},
   "outputs": [],
   "source": [
    "import csv\n",
    "import json\n",
    "import os\n",
    "\n",
    "import numpy as np\n",
    "import pandas as pd\n",
    "from tqdm.notebook import tqdm"
   ]
  },
  {
   "cell_type": "code",
   "execution_count": 15,
   "metadata": {},
   "outputs": [
    {
     "data": {
      "text/plain": [
       "['../data/member-voting-record-2006-2010.csv',\n",
       " '../data/member-voting-record-2010-2014.csv',\n",
       " '../data/member-voting-record-2014-2018.csv',\n",
       " '../data/member-voting-record-2018-2022.csv',\n",
       " '../data/member-voting-record-2022-2026.csv']"
      ]
     },
     "execution_count": 15,
     "metadata": {},
     "output_type": "execute_result"
    }
   ],
   "source": [
    "records = sorted(os.listdir('../data/'))\n",
    "records = [os.path.join('../data/', record) for record in records if record.endswith('.csv')]\n",
    "records"
   ]
  },
  {
   "cell_type": "markdown",
   "metadata": {},
   "source": [
    "# Table conversion\n",
    "\n",
    "Currently, each row in the voting record files corresponds to a single councillor and their vote on an item.  \n",
    "We want to make it so that each row is instead a councillor, and the columns correspond to a how they voted for an item."
   ]
  },
  {
   "cell_type": "code",
   "execution_count": 16,
   "metadata": {},
   "outputs": [
    {
     "data": {
      "application/vnd.jupyter.widget-view+json": {
       "model_id": "cdbbbb0f16da4fc3a790fadbd90a3437",
       "version_major": 2,
       "version_minor": 0
      },
      "text/plain": [
       "Loading Agenda Items:   0%|          | 0/5 [00:00<?, ?it/s]"
      ]
     },
     "metadata": {},
     "output_type": "display_data"
    },
    {
     "data": {
      "application/vnd.jupyter.widget-view+json": {
       "model_id": "2f9de3bb1460436b890f8937d28dd845",
       "version_major": 2,
       "version_minor": 0
      },
      "text/plain": [
       "0it [00:00, ?it/s]"
      ]
     },
     "metadata": {},
     "output_type": "display_data"
    },
    {
     "data": {
      "application/vnd.jupyter.widget-view+json": {
       "model_id": "6c19a4eef95d437ab41ccbc82be181ae",
       "version_major": 2,
       "version_minor": 0
      },
      "text/plain": [
       "0it [00:00, ?it/s]"
      ]
     },
     "metadata": {},
     "output_type": "display_data"
    },
    {
     "data": {
      "application/vnd.jupyter.widget-view+json": {
       "model_id": "605e12a4020e461089ea8d2a65a2003a",
       "version_major": 2,
       "version_minor": 0
      },
      "text/plain": [
       "0it [00:00, ?it/s]"
      ]
     },
     "metadata": {},
     "output_type": "display_data"
    },
    {
     "data": {
      "application/vnd.jupyter.widget-view+json": {
       "model_id": "db89f6bee100442b8212577a186ce881",
       "version_major": 2,
       "version_minor": 0
      },
      "text/plain": [
       "0it [00:00, ?it/s]"
      ]
     },
     "metadata": {},
     "output_type": "display_data"
    },
    {
     "data": {
      "application/vnd.jupyter.widget-view+json": {
       "model_id": "864bd6a693b6451b9e9c4bacf9bd71df",
       "version_major": 2,
       "version_minor": 0
      },
      "text/plain": [
       "0it [00:00, ?it/s]"
      ]
     },
     "metadata": {},
     "output_type": "display_data"
    },
    {
     "name": "stdout",
     "output_type": "stream",
     "text": [
      "Found 8838 unique Agenda Items.\n"
     ]
    },
    {
     "data": {
      "application/vnd.jupyter.widget-view+json": {
       "model_id": "eecb0f68dc094d4b91891daebe8f09df",
       "version_major": 2,
       "version_minor": 0
      },
      "text/plain": [
       "Loading Councillor Votes:   0%|          | 0/5 [00:00<?, ?it/s]"
      ]
     },
     "metadata": {},
     "output_type": "display_data"
    },
    {
     "data": {
      "application/vnd.jupyter.widget-view+json": {
       "model_id": "3293cc5af0274c2b8af39690569a1bee",
       "version_major": 2,
       "version_minor": 0
      },
      "text/plain": [
       "0it [00:00, ?it/s]"
      ]
     },
     "metadata": {},
     "output_type": "display_data"
    },
    {
     "data": {
      "application/vnd.jupyter.widget-view+json": {
       "model_id": "a5c694c40c0e4d47a8f57685ffea74d2",
       "version_major": 2,
       "version_minor": 0
      },
      "text/plain": [
       "0it [00:00, ?it/s]"
      ]
     },
     "metadata": {},
     "output_type": "display_data"
    },
    {
     "data": {
      "application/vnd.jupyter.widget-view+json": {
       "model_id": "f974efe0e1114f4aa68a148c60ce055d",
       "version_major": 2,
       "version_minor": 0
      },
      "text/plain": [
       "0it [00:00, ?it/s]"
      ]
     },
     "metadata": {},
     "output_type": "display_data"
    },
    {
     "data": {
      "application/vnd.jupyter.widget-view+json": {
       "model_id": "313076b1f413415dbecfe2a9a6ea0c32",
       "version_major": 2,
       "version_minor": 0
      },
      "text/plain": [
       "0it [00:00, ?it/s]"
      ]
     },
     "metadata": {},
     "output_type": "display_data"
    },
    {
     "data": {
      "application/vnd.jupyter.widget-view+json": {
       "model_id": "e87bba753f2b43c6bb2ca385c8c29452",
       "version_major": 2,
       "version_minor": 0
      },
      "text/plain": [
       "0it [00:00, ?it/s]"
      ]
     },
     "metadata": {},
     "output_type": "display_data"
    },
    {
     "name": "stdout",
     "output_type": "stream",
     "text": [
      "Done.\n"
     ]
    }
   ],
   "source": [
    "# Read each file\n",
    "rows = {}  # Councillor[str] -> Votes[list]\n",
    "indices = {}  # Voting item[str] -> Index[int]\n",
    "next_index = 0\n",
    "\n",
    "# First pass: Obtain set of Agenda Items\n",
    "for filename in tqdm(records, desc='Loading Agenda Items', position=0):\n",
    "    with open(filename, 'r', encoding='utf-8', newline='') as file:\n",
    "        reader = csv.DictReader(file)\n",
    "        for row in tqdm(reader, position=1):\n",
    "            assert row['Agenda Item #'], row\n",
    "            if row['Agenda Item #'] not in indices:\n",
    "                indices[row['Agenda Item #']] = next_index\n",
    "                next_index += 1\n",
    "print(\"Found\", len(indices), \"unique Agenda Items.\")\n",
    "\n",
    "# Second pass: Obtain councillor votes\n",
    "for filename in tqdm(records, desc='Loading Councillor Votes', position=0):\n",
    "    with open(filename, 'r', encoding='utf-8', newline='') as file:\n",
    "        reader = csv.DictReader(file)\n",
    "        for row in tqdm(reader, position=1):\n",
    "\n",
    "            assert row['First Name'], row\n",
    "            assert row['Last Name'], row\n",
    "            assert row['Vote'], row\n",
    "\n",
    "            name = f\"{row['First Name'].strip()} {row['Last Name'].strip()}\"\n",
    "            index = indices[row['Agenda Item #']]\n",
    "\n",
    "            # Merge Michelle Berardinetti into Michelle Holland\n",
    "            if name == 'Michelle Berardinetti':\n",
    "                name = 'Michelle Holland'\n",
    "\n",
    "            # Initialize councillor\n",
    "            \"\"\"\n",
    "            Method 1:\n",
    "                Yes: 1.0\n",
    "                No: 0.0\n",
    "                Absent: -1.0\n",
    "                N/A: -1.0 (similar results with -2)\n",
    "\n",
    "            Method 2:\n",
    "                Yes: 1.0\n",
    "                No: 0.0\n",
    "                Absent: 0.5\n",
    "                N/A: -1.0\n",
    "\n",
    "            Method 3:\n",
    "                Yes: 1.0\n",
    "                No: 0.0\n",
    "                Absent: 0.5\n",
    "                N/A: 0.5\n",
    "            \"\"\"\n",
    "            if name not in rows:\n",
    "                # Use -1 like 'Absent'\n",
    "                rows[name] = [-1. for __ in range(len(indices))]  # Tested with -2, and results are almost exactly the same\n",
    "\n",
    "            # Store vote\n",
    "            if row['Vote'] == 'Yes':\n",
    "                rows[name][index] = 1.\n",
    "            elif row['Vote'] == 'No':\n",
    "                rows[name][index] = 0.\n",
    "            elif row['Vote'] == 'Absent':\n",
    "                rows[name][index] = -1.\n",
    "            else:\n",
    "                raise ValueError(f\"Invalid vote type: {row['Vote']}\")\n",
    "print(\"Done.\")"
   ]
  },
  {
   "cell_type": "code",
   "execution_count": 17,
   "metadata": {},
   "outputs": [],
   "source": [
    "# Correct encoding issue with Ana Bailão\n",
    "rows['Ana Bailão'] = rows['Ana BailÃ£o']\n",
    "del rows['Ana BailÃ£o']"
   ]
  },
  {
   "cell_type": "code",
   "execution_count": 19,
   "metadata": {},
   "outputs": [],
   "source": [
    "assert 'Michelle Berardinetti' not in rows"
   ]
  },
  {
   "cell_type": "code",
   "execution_count": 20,
   "metadata": {},
   "outputs": [
    {
     "name": "stdout",
     "output_type": "stream",
     "text": [
      "92\n",
      "A.A. Heaps\n",
      "Adam Giambrone\n",
      "Adam Vaughan\n",
      "Alejandra Bravo\n",
      "Amber Morley\n",
      "Ana Bailão\n",
      "Anthony Perruzza\n",
      "Ausma Malik\n",
      "Bill Saundercook\n",
      "Brad Bradford\n",
      "Brian Ashton\n",
      "Case Ootes\n",
      "Cesar Palacio\n",
      "Ceta Ramkhalawansingh\n",
      "Chin Lee\n",
      "Chris Moise\n",
      "Christin Carmichael Greb\n",
      "Cliff Jenkins\n",
      "Cynthia Lai\n",
      "David Miller\n",
      "David Shiner\n",
      "Denzil Minnan-Wong\n",
      "Dianne Saxe\n",
      "Doug Ford\n",
      "Doug Holyday\n",
      "Frances Nunziata\n",
      "Frank Di Giorgio\n",
      "Gary Crawford\n",
      "Giorgio Mammoliti\n",
      "Glenn De Baeremaeker\n",
      "Gloria Lindsay Luby\n",
      "Gord Perks\n",
      "Howard Moscoe\n",
      "Jamaal Myers\n",
      "James Maloney\n",
      "James Pasternak\n",
      "Janet Davis\n",
      "Jaye Robinson\n",
      "Jennifer McKelvie\n",
      "Jim Hart\n",
      "Jim Karygiannis\n",
      "Joe Cressy\n",
      "Joe Mihevc\n",
      "Joe Pantalone\n",
      "John Campbell\n",
      "John Filion\n",
      "John Parker\n",
      "John Tory\n",
      "Jon Burnside\n",
      "Jonathan Tsao\n",
      "Josh Colle\n",
      "Josh Matlow\n",
      "Justin J. Di Ciano\n",
      "Karen Stintz\n",
      "Kristyn Wong-Tam\n",
      "Kyle Rae\n",
      "Lily Cheng\n",
      "Lucy Troisi\n",
      "Maria Augimeri\n",
      "Mark Grimes\n",
      "Mary Fragedakis\n",
      "Mary-Margaret McMahon\n",
      "Michael Ford\n",
      "Michael Thompson\n",
      "Michael Walker\n",
      "Michelle Holland\n",
      "Miganoush Megardichian\n",
      "Mike Colle\n",
      "Mike Del Grande\n",
      "Mike Feldman\n",
      "Mike Layton\n",
      "Neethan Shan\n",
      "Nick Mantas\n",
      "Norman Kelly\n",
      "Olivia Chow\n",
      "Pam McConnell\n",
      "Parthi Kandavel\n",
      "Paul Ainslie\n",
      "Paula Fletcher\n",
      "Peter Leon\n",
      "Peter Milczyn\n",
      "Raymond Cho\n",
      "Rob Ford\n",
      "Robin Buxton Potts\n",
      "Ron Moeser\n",
      "Rose Milczyn\n",
      "Sandra Bussin\n",
      "Sarah Doucette\n",
      "Shelley Carroll\n",
      "Stephen Holyday\n",
      "Suzan Hall\n",
      "Vincent Crisanti\n"
     ]
    }
   ],
   "source": [
    "# print(rows['Paul Ainslie'])\n",
    "print(len(rows))\n",
    "for name in sorted(rows):\n",
    "    print(name)"
   ]
  },
  {
   "cell_type": "code",
   "execution_count": 21,
   "metadata": {},
   "outputs": [
    {
     "data": {
      "text/html": [
       "<div>\n",
       "<style scoped>\n",
       "    .dataframe tbody tr th:only-of-type {\n",
       "        vertical-align: middle;\n",
       "    }\n",
       "\n",
       "    .dataframe tbody tr th {\n",
       "        vertical-align: top;\n",
       "    }\n",
       "\n",
       "    .dataframe thead th {\n",
       "        text-align: right;\n",
       "    }\n",
       "</style>\n",
       "<table border=\"1\" class=\"dataframe\">\n",
       "  <thead>\n",
       "    <tr style=\"text-align: right;\">\n",
       "      <th></th>\n",
       "      <th>2009.IA30.5</th>\n",
       "      <th>2009.RM30.5</th>\n",
       "      <th>2009.EX28.8</th>\n",
       "      <th>2009.EX28.2</th>\n",
       "      <th>2009.CD21.4</th>\n",
       "      <th>2009.ED18.2</th>\n",
       "      <th>2009.GM20.5</th>\n",
       "      <th>2009.PE21.5</th>\n",
       "      <th>2009.PG22.2</th>\n",
       "      <th>2009.BL30.1</th>\n",
       "      <th>...</th>\n",
       "      <th>2024.IE14.3</th>\n",
       "      <th>2024.IE14.4</th>\n",
       "      <th>2024.IE15.3</th>\n",
       "      <th>2024.NY15.4</th>\n",
       "      <th>2024.NY15.30</th>\n",
       "      <th>2024.TE15.10</th>\n",
       "      <th>2024.PH14.14</th>\n",
       "      <th>2024.SC15.1</th>\n",
       "      <th>2024.EX16.4</th>\n",
       "      <th>2024.EX16.20</th>\n",
       "    </tr>\n",
       "  </thead>\n",
       "  <tbody>\n",
       "    <tr>\n",
       "      <th>Paul Ainslie</th>\n",
       "      <td>0.0</td>\n",
       "      <td>1.0</td>\n",
       "      <td>1.0</td>\n",
       "      <td>1.0</td>\n",
       "      <td>-1.0</td>\n",
       "      <td>1.0</td>\n",
       "      <td>0.0</td>\n",
       "      <td>1.0</td>\n",
       "      <td>1.0</td>\n",
       "      <td>1.0</td>\n",
       "      <td>...</td>\n",
       "      <td>-1.0</td>\n",
       "      <td>-1.0</td>\n",
       "      <td>-1.0</td>\n",
       "      <td>-1.0</td>\n",
       "      <td>-1.0</td>\n",
       "      <td>-1.0</td>\n",
       "      <td>-1.0</td>\n",
       "      <td>1.0</td>\n",
       "      <td>1.0</td>\n",
       "      <td>1.0</td>\n",
       "    </tr>\n",
       "    <tr>\n",
       "      <th>Brian Ashton</th>\n",
       "      <td>1.0</td>\n",
       "      <td>-1.0</td>\n",
       "      <td>1.0</td>\n",
       "      <td>1.0</td>\n",
       "      <td>1.0</td>\n",
       "      <td>1.0</td>\n",
       "      <td>1.0</td>\n",
       "      <td>0.0</td>\n",
       "      <td>-1.0</td>\n",
       "      <td>-1.0</td>\n",
       "      <td>...</td>\n",
       "      <td>-1.0</td>\n",
       "      <td>-1.0</td>\n",
       "      <td>-1.0</td>\n",
       "      <td>-1.0</td>\n",
       "      <td>-1.0</td>\n",
       "      <td>-1.0</td>\n",
       "      <td>-1.0</td>\n",
       "      <td>-1.0</td>\n",
       "      <td>-1.0</td>\n",
       "      <td>-1.0</td>\n",
       "    </tr>\n",
       "    <tr>\n",
       "      <th>Maria Augimeri</th>\n",
       "      <td>0.0</td>\n",
       "      <td>-1.0</td>\n",
       "      <td>1.0</td>\n",
       "      <td>1.0</td>\n",
       "      <td>1.0</td>\n",
       "      <td>1.0</td>\n",
       "      <td>1.0</td>\n",
       "      <td>1.0</td>\n",
       "      <td>-1.0</td>\n",
       "      <td>-1.0</td>\n",
       "      <td>...</td>\n",
       "      <td>-1.0</td>\n",
       "      <td>-1.0</td>\n",
       "      <td>-1.0</td>\n",
       "      <td>-1.0</td>\n",
       "      <td>-1.0</td>\n",
       "      <td>-1.0</td>\n",
       "      <td>-1.0</td>\n",
       "      <td>-1.0</td>\n",
       "      <td>-1.0</td>\n",
       "      <td>-1.0</td>\n",
       "    </tr>\n",
       "    <tr>\n",
       "      <th>Sandra Bussin</th>\n",
       "      <td>0.0</td>\n",
       "      <td>1.0</td>\n",
       "      <td>1.0</td>\n",
       "      <td>1.0</td>\n",
       "      <td>1.0</td>\n",
       "      <td>1.0</td>\n",
       "      <td>1.0</td>\n",
       "      <td>-1.0</td>\n",
       "      <td>-1.0</td>\n",
       "      <td>1.0</td>\n",
       "      <td>...</td>\n",
       "      <td>-1.0</td>\n",
       "      <td>-1.0</td>\n",
       "      <td>-1.0</td>\n",
       "      <td>-1.0</td>\n",
       "      <td>-1.0</td>\n",
       "      <td>-1.0</td>\n",
       "      <td>-1.0</td>\n",
       "      <td>-1.0</td>\n",
       "      <td>-1.0</td>\n",
       "      <td>-1.0</td>\n",
       "    </tr>\n",
       "    <tr>\n",
       "      <th>Shelley Carroll</th>\n",
       "      <td>0.0</td>\n",
       "      <td>-1.0</td>\n",
       "      <td>1.0</td>\n",
       "      <td>1.0</td>\n",
       "      <td>1.0</td>\n",
       "      <td>-1.0</td>\n",
       "      <td>-1.0</td>\n",
       "      <td>1.0</td>\n",
       "      <td>1.0</td>\n",
       "      <td>1.0</td>\n",
       "      <td>...</td>\n",
       "      <td>1.0</td>\n",
       "      <td>1.0</td>\n",
       "      <td>-1.0</td>\n",
       "      <td>0.0</td>\n",
       "      <td>0.0</td>\n",
       "      <td>-1.0</td>\n",
       "      <td>-1.0</td>\n",
       "      <td>-1.0</td>\n",
       "      <td>1.0</td>\n",
       "      <td>1.0</td>\n",
       "    </tr>\n",
       "    <tr>\n",
       "      <th>...</th>\n",
       "      <td>...</td>\n",
       "      <td>...</td>\n",
       "      <td>...</td>\n",
       "      <td>...</td>\n",
       "      <td>...</td>\n",
       "      <td>...</td>\n",
       "      <td>...</td>\n",
       "      <td>...</td>\n",
       "      <td>...</td>\n",
       "      <td>...</td>\n",
       "      <td>...</td>\n",
       "      <td>...</td>\n",
       "      <td>...</td>\n",
       "      <td>...</td>\n",
       "      <td>...</td>\n",
       "      <td>...</td>\n",
       "      <td>...</td>\n",
       "      <td>...</td>\n",
       "      <td>...</td>\n",
       "      <td>...</td>\n",
       "      <td>...</td>\n",
       "    </tr>\n",
       "    <tr>\n",
       "      <th>Jamaal Myers</th>\n",
       "      <td>-1.0</td>\n",
       "      <td>-1.0</td>\n",
       "      <td>-1.0</td>\n",
       "      <td>-1.0</td>\n",
       "      <td>-1.0</td>\n",
       "      <td>-1.0</td>\n",
       "      <td>-1.0</td>\n",
       "      <td>-1.0</td>\n",
       "      <td>-1.0</td>\n",
       "      <td>-1.0</td>\n",
       "      <td>...</td>\n",
       "      <td>1.0</td>\n",
       "      <td>1.0</td>\n",
       "      <td>-1.0</td>\n",
       "      <td>-1.0</td>\n",
       "      <td>-1.0</td>\n",
       "      <td>-1.0</td>\n",
       "      <td>-1.0</td>\n",
       "      <td>1.0</td>\n",
       "      <td>-1.0</td>\n",
       "      <td>-1.0</td>\n",
       "    </tr>\n",
       "    <tr>\n",
       "      <th>Dianne Saxe</th>\n",
       "      <td>-1.0</td>\n",
       "      <td>-1.0</td>\n",
       "      <td>-1.0</td>\n",
       "      <td>-1.0</td>\n",
       "      <td>-1.0</td>\n",
       "      <td>-1.0</td>\n",
       "      <td>-1.0</td>\n",
       "      <td>-1.0</td>\n",
       "      <td>-1.0</td>\n",
       "      <td>-1.0</td>\n",
       "      <td>...</td>\n",
       "      <td>1.0</td>\n",
       "      <td>1.0</td>\n",
       "      <td>0.0</td>\n",
       "      <td>-1.0</td>\n",
       "      <td>-1.0</td>\n",
       "      <td>1.0</td>\n",
       "      <td>-1.0</td>\n",
       "      <td>-1.0</td>\n",
       "      <td>-1.0</td>\n",
       "      <td>-1.0</td>\n",
       "    </tr>\n",
       "    <tr>\n",
       "      <th>Olivia Chow</th>\n",
       "      <td>-1.0</td>\n",
       "      <td>-1.0</td>\n",
       "      <td>-1.0</td>\n",
       "      <td>-1.0</td>\n",
       "      <td>-1.0</td>\n",
       "      <td>-1.0</td>\n",
       "      <td>-1.0</td>\n",
       "      <td>-1.0</td>\n",
       "      <td>-1.0</td>\n",
       "      <td>-1.0</td>\n",
       "      <td>...</td>\n",
       "      <td>1.0</td>\n",
       "      <td>1.0</td>\n",
       "      <td>-1.0</td>\n",
       "      <td>-1.0</td>\n",
       "      <td>-1.0</td>\n",
       "      <td>-1.0</td>\n",
       "      <td>-1.0</td>\n",
       "      <td>-1.0</td>\n",
       "      <td>1.0</td>\n",
       "      <td>1.0</td>\n",
       "    </tr>\n",
       "    <tr>\n",
       "      <th>Parthi Kandavel</th>\n",
       "      <td>-1.0</td>\n",
       "      <td>-1.0</td>\n",
       "      <td>-1.0</td>\n",
       "      <td>-1.0</td>\n",
       "      <td>-1.0</td>\n",
       "      <td>-1.0</td>\n",
       "      <td>-1.0</td>\n",
       "      <td>-1.0</td>\n",
       "      <td>-1.0</td>\n",
       "      <td>-1.0</td>\n",
       "      <td>...</td>\n",
       "      <td>-1.0</td>\n",
       "      <td>-1.0</td>\n",
       "      <td>-1.0</td>\n",
       "      <td>-1.0</td>\n",
       "      <td>-1.0</td>\n",
       "      <td>-1.0</td>\n",
       "      <td>-1.0</td>\n",
       "      <td>0.0</td>\n",
       "      <td>-1.0</td>\n",
       "      <td>-1.0</td>\n",
       "    </tr>\n",
       "    <tr>\n",
       "      <th>Ana Bailão</th>\n",
       "      <td>-1.0</td>\n",
       "      <td>-1.0</td>\n",
       "      <td>-1.0</td>\n",
       "      <td>-1.0</td>\n",
       "      <td>-1.0</td>\n",
       "      <td>-1.0</td>\n",
       "      <td>-1.0</td>\n",
       "      <td>-1.0</td>\n",
       "      <td>-1.0</td>\n",
       "      <td>-1.0</td>\n",
       "      <td>...</td>\n",
       "      <td>-1.0</td>\n",
       "      <td>-1.0</td>\n",
       "      <td>-1.0</td>\n",
       "      <td>-1.0</td>\n",
       "      <td>-1.0</td>\n",
       "      <td>-1.0</td>\n",
       "      <td>-1.0</td>\n",
       "      <td>-1.0</td>\n",
       "      <td>-1.0</td>\n",
       "      <td>-1.0</td>\n",
       "    </tr>\n",
       "  </tbody>\n",
       "</table>\n",
       "<p>92 rows × 8838 columns</p>\n",
       "</div>"
      ],
      "text/plain": [
       "                 2009.IA30.5  2009.RM30.5  2009.EX28.8  2009.EX28.2  \\\n",
       "Paul Ainslie             0.0          1.0          1.0          1.0   \n",
       "Brian Ashton             1.0         -1.0          1.0          1.0   \n",
       "Maria Augimeri           0.0         -1.0          1.0          1.0   \n",
       "Sandra Bussin            0.0          1.0          1.0          1.0   \n",
       "Shelley Carroll          0.0         -1.0          1.0          1.0   \n",
       "...                      ...          ...          ...          ...   \n",
       "Jamaal Myers            -1.0         -1.0         -1.0         -1.0   \n",
       "Dianne Saxe             -1.0         -1.0         -1.0         -1.0   \n",
       "Olivia Chow             -1.0         -1.0         -1.0         -1.0   \n",
       "Parthi Kandavel         -1.0         -1.0         -1.0         -1.0   \n",
       "Ana Bailão              -1.0         -1.0         -1.0         -1.0   \n",
       "\n",
       "                 2009.CD21.4  2009.ED18.2  2009.GM20.5  2009.PE21.5  \\\n",
       "Paul Ainslie            -1.0          1.0          0.0          1.0   \n",
       "Brian Ashton             1.0          1.0          1.0          0.0   \n",
       "Maria Augimeri           1.0          1.0          1.0          1.0   \n",
       "Sandra Bussin            1.0          1.0          1.0         -1.0   \n",
       "Shelley Carroll          1.0         -1.0         -1.0          1.0   \n",
       "...                      ...          ...          ...          ...   \n",
       "Jamaal Myers            -1.0         -1.0         -1.0         -1.0   \n",
       "Dianne Saxe             -1.0         -1.0         -1.0         -1.0   \n",
       "Olivia Chow             -1.0         -1.0         -1.0         -1.0   \n",
       "Parthi Kandavel         -1.0         -1.0         -1.0         -1.0   \n",
       "Ana Bailão              -1.0         -1.0         -1.0         -1.0   \n",
       "\n",
       "                 2009.PG22.2  2009.BL30.1  ...  2024.IE14.3  2024.IE14.4  \\\n",
       "Paul Ainslie             1.0          1.0  ...         -1.0         -1.0   \n",
       "Brian Ashton            -1.0         -1.0  ...         -1.0         -1.0   \n",
       "Maria Augimeri          -1.0         -1.0  ...         -1.0         -1.0   \n",
       "Sandra Bussin           -1.0          1.0  ...         -1.0         -1.0   \n",
       "Shelley Carroll          1.0          1.0  ...          1.0          1.0   \n",
       "...                      ...          ...  ...          ...          ...   \n",
       "Jamaal Myers            -1.0         -1.0  ...          1.0          1.0   \n",
       "Dianne Saxe             -1.0         -1.0  ...          1.0          1.0   \n",
       "Olivia Chow             -1.0         -1.0  ...          1.0          1.0   \n",
       "Parthi Kandavel         -1.0         -1.0  ...         -1.0         -1.0   \n",
       "Ana Bailão              -1.0         -1.0  ...         -1.0         -1.0   \n",
       "\n",
       "                 2024.IE15.3  2024.NY15.4  2024.NY15.30  2024.TE15.10  \\\n",
       "Paul Ainslie            -1.0         -1.0          -1.0          -1.0   \n",
       "Brian Ashton            -1.0         -1.0          -1.0          -1.0   \n",
       "Maria Augimeri          -1.0         -1.0          -1.0          -1.0   \n",
       "Sandra Bussin           -1.0         -1.0          -1.0          -1.0   \n",
       "Shelley Carroll         -1.0          0.0           0.0          -1.0   \n",
       "...                      ...          ...           ...           ...   \n",
       "Jamaal Myers            -1.0         -1.0          -1.0          -1.0   \n",
       "Dianne Saxe              0.0         -1.0          -1.0           1.0   \n",
       "Olivia Chow             -1.0         -1.0          -1.0          -1.0   \n",
       "Parthi Kandavel         -1.0         -1.0          -1.0          -1.0   \n",
       "Ana Bailão              -1.0         -1.0          -1.0          -1.0   \n",
       "\n",
       "                 2024.PH14.14  2024.SC15.1  2024.EX16.4  2024.EX16.20  \n",
       "Paul Ainslie             -1.0          1.0          1.0           1.0  \n",
       "Brian Ashton             -1.0         -1.0         -1.0          -1.0  \n",
       "Maria Augimeri           -1.0         -1.0         -1.0          -1.0  \n",
       "Sandra Bussin            -1.0         -1.0         -1.0          -1.0  \n",
       "Shelley Carroll          -1.0         -1.0          1.0           1.0  \n",
       "...                       ...          ...          ...           ...  \n",
       "Jamaal Myers             -1.0          1.0         -1.0          -1.0  \n",
       "Dianne Saxe              -1.0         -1.0         -1.0          -1.0  \n",
       "Olivia Chow              -1.0         -1.0          1.0           1.0  \n",
       "Parthi Kandavel          -1.0          0.0         -1.0          -1.0  \n",
       "Ana Bailão               -1.0         -1.0         -1.0          -1.0  \n",
       "\n",
       "[92 rows x 8838 columns]"
      ]
     },
     "execution_count": 21,
     "metadata": {},
     "output_type": "execute_result"
    }
   ],
   "source": [
    "# Convert to DataFrame\n",
    "councillor_df = pd.DataFrame(\n",
    "    [rows[name] for name in rows],\n",
    "    columns=[agenda_item for agenda_item in indices],\n",
    "    index=[name for name in rows]\n",
    ")\n",
    "\n",
    "councillor_df"
   ]
  },
  {
   "cell_type": "code",
   "execution_count": 22,
   "metadata": {},
   "outputs": [],
   "source": [
    "councillor_df.to_csv('output/raw_councillor_df.csv')\n",
    "# councillor_df.to_csv('output/raw_councillor_df_absent_0.5_na_-1.csv')\n",
    "# councillor_df.to_csv('output/raw_councillor_df_absent_0.5_na_0.5.csv')"
   ]
  },
  {
   "cell_type": "markdown",
   "metadata": {},
   "source": [
    "### Drop years outside of selection range (optional)"
   ]
  },
  {
   "cell_type": "code",
   "execution_count": 20,
   "metadata": {},
   "outputs": [],
   "source": [
    "# Limit to min and max years\n",
    "min_year = 2010\n",
    "max_year = 2015\n",
    "\n",
    "columns_to_drop = []\n",
    "for column in councillor_df:\n",
    "    year = int(column[:4])  # The year is encoded in the agenda item name\n",
    "    if not (min_year <= year <= max_year):\n",
    "        columns_to_drop.append(column)"
   ]
  },
  {
   "cell_type": "code",
   "execution_count": 21,
   "metadata": {},
   "outputs": [
    {
     "data": {
      "text/plain": [
       "['2009.IA30.5',\n",
       " '2009.RM30.5',\n",
       " '2009.EX28.8',\n",
       " '2009.EX28.2',\n",
       " '2009.CD21.4',\n",
       " '2009.ED18.2',\n",
       " '2009.GM20.5',\n",
       " '2009.PE21.5',\n",
       " '2009.PG22.2',\n",
       " '2009.BL30.1',\n",
       " '2009.EX28.1',\n",
       " '2009.MM30.1',\n",
       " '2009.MM30.2',\n",
       " '2009.MM30.3',\n",
       " '2009.MM30.4',\n",
       " '2009.MM30.5',\n",
       " '2009.MM30.6',\n",
       " '2009.MM30.7',\n",
       " '2009.MM30.8',\n",
       " '2009.MM30.9',\n",
       " '2009.MM30.10',\n",
       " '2009.MM30.11',\n",
       " '2009.MM30.12',\n",
       " '2009.MM30.14',\n",
       " '2009.MM30.15',\n",
       " '2009.MM30.16',\n",
       " '2009.MM30.17',\n",
       " '2009.MM30.18',\n",
       " '2009.MM30.19',\n",
       " '2009.MM30.20',\n",
       " '2009.PW21.5',\n",
       " '2009.PW21.6',\n",
       " '2009.PG22.4',\n",
       " '2009.PW21.8',\n",
       " '2009.NY22.40',\n",
       " '2009.SC22.4',\n",
       " '2009.TE22.9',\n",
       " '2009.TE22.16',\n",
       " '2009.CC30.4',\n",
       " '2009.IA31.1',\n",
       " '2009.SC23.12',\n",
       " '2009.EX29.10',\n",
       " '2009.GM21.5',\n",
       " '2009.EX29.1',\n",
       " '2009.MM31.5',\n",
       " '2009.BL31.1',\n",
       " '2009.RM31.7',\n",
       " '2009.MM31.1',\n",
       " '2009.MM31.2',\n",
       " '2009.MM31.4',\n",
       " '2009.MM31.11',\n",
       " '2009.CD22.8',\n",
       " '2009.TE23.1',\n",
       " '2009.CD22.7',\n",
       " '2009.EX29.8',\n",
       " '2009.EX29.19',\n",
       " '2009.EX29.20',\n",
       " '2009.EX29.21',\n",
       " '2009.EX29.5',\n",
       " '2009.EX29.2',\n",
       " '2009.SC23.4',\n",
       " '2009.CD22.4',\n",
       " '2009.LS19.7',\n",
       " '2009.CD22.6',\n",
       " '2009.PG23.2',\n",
       " '2009.GM21.15',\n",
       " '2009.PG23.1',\n",
       " '2009.EY24.7',\n",
       " '2009.CC31.2',\n",
       " '2009.EL13.6',\n",
       " '2009.RM32.2',\n",
       " '2009.RM32.4',\n",
       " '2009.EX30.1',\n",
       " '2009.BL32.1',\n",
       " '2009.RM33.5',\n",
       " '2009.NY24.31',\n",
       " '2009.NY24.35',\n",
       " '2009.NY24.34',\n",
       " '2009.TE24.12',\n",
       " '2009.TE24.11',\n",
       " '2009.TE24.69',\n",
       " '2009.TE24.71',\n",
       " '2009.EY25.27',\n",
       " '2009.BL33.1',\n",
       " '2009.RM34.3',\n",
       " '2009.CC34.1',\n",
       " '2009.BL34.1',\n",
       " '2009.EL15.1',\n",
       " '2009.EX31.16',\n",
       " '2009.EX31.19',\n",
       " '2009.EY24.15',\n",
       " '2009.EX31.4',\n",
       " '2008.TE20.65',\n",
       " '2009.RM35.6',\n",
       " '2009.EX31.18',\n",
       " '2009.BL35.1',\n",
       " '2009.CD23.4',\n",
       " '2009.GM22.3',\n",
       " '2009.ED20.10',\n",
       " '2009.RM35.7',\n",
       " '2009.EX31.5',\n",
       " '2009.EX31.22',\n",
       " '2009.AU10.4',\n",
       " '2009.GM22.4',\n",
       " '2009.MM35.1',\n",
       " '2009.MM35.3',\n",
       " '2009.MM35.5',\n",
       " '2009.MM35.8',\n",
       " '2009.PG24.5',\n",
       " '2009.PG24.8',\n",
       " '2009.PW23.10',\n",
       " '2009.EY26.5',\n",
       " '2009.NY25.1',\n",
       " '2009.TE25.16',\n",
       " '2009.TE25.28',\n",
       " '2009.MM35.11',\n",
       " '2009.MM35.6',\n",
       " '2009.RM36.6',\n",
       " '2009.PW24.15',\n",
       " '2009.EX32.5',\n",
       " '2009.BL36.1',\n",
       " '2009.MM36.3',\n",
       " '2009.NY26.21',\n",
       " '2009.EX32.2',\n",
       " '2009.EX32.1',\n",
       " '2009.EX32.12',\n",
       " '2009.EX32.4',\n",
       " '2009.TE26.24',\n",
       " '2009.MM36.1',\n",
       " '2009.MM36.2',\n",
       " '2009.NY26.44',\n",
       " '2009.EX32.6',\n",
       " '2009.CD24.5',\n",
       " '2009.CD24.6',\n",
       " '2009.GM23.15',\n",
       " '2009.GM23.16',\n",
       " '2009.LS21.2',\n",
       " '2009.PG25.3',\n",
       " '2009.RM36.7',\n",
       " '2009.EX32.3',\n",
       " '2009.CC36.2',\n",
       " '2009.PG25.6',\n",
       " '2009.PW24.5',\n",
       " '2009.PW24.6',\n",
       " '2009.RM36.1',\n",
       " '2009.EY27.1',\n",
       " '2009.EY27.37',\n",
       " '2009.EY27.40',\n",
       " '2009.MM36.7',\n",
       " '2009.CC37.1',\n",
       " '2009.BL37.1',\n",
       " '2009.RM37.4',\n",
       " '2009.EL17.1',\n",
       " '2009.RM39.3',\n",
       " '2009.CC39.1',\n",
       " '2009.BL39.1',\n",
       " '2009.RM38.4',\n",
       " '2009.RM38.7',\n",
       " '2009.PW25.21',\n",
       " '2009.EX33.46',\n",
       " '2009.CD25.5',\n",
       " '2009.EX33.5',\n",
       " '2009.EX33.44',\n",
       " '2009.EX33.47',\n",
       " '2009.BL38.1',\n",
       " '2009.EX33.1',\n",
       " '2009.HL24.7',\n",
       " '2009.HL24.8',\n",
       " '2009.CD25.8',\n",
       " '2009.CD25.9',\n",
       " '2009.CD25.10',\n",
       " '2009.CD25.11',\n",
       " '2009.CD25.12',\n",
       " '2009.CD25.13',\n",
       " '2009.ED23.2',\n",
       " '2009.ED23.3',\n",
       " '2009.ED23.4',\n",
       " '2009.ED23.11',\n",
       " '2009.EX33.35',\n",
       " '2009.CC38.23',\n",
       " '2009.EX33.14',\n",
       " '2009.SC27.8',\n",
       " '2009.CC38.9',\n",
       " '2009.EX33.6',\n",
       " '2009.EX33.22',\n",
       " '2009.PW25.5',\n",
       " '2009.EX33.45',\n",
       " '2009.MM38.2',\n",
       " '2009.MM38.3',\n",
       " '2009.MM38.4',\n",
       " '2009.MM38.6',\n",
       " '2009.MM38.7',\n",
       " '2009.MM38.9',\n",
       " '2009.MM38.10',\n",
       " '2009.MM38.11',\n",
       " '2009.MM38.12',\n",
       " '2009.MM38.13',\n",
       " '2009.MM38.17',\n",
       " '2009.MM38.18',\n",
       " '2009.MM38.19',\n",
       " '2009.MM38.20',\n",
       " '2009.MM38.22',\n",
       " '2009.MM38.23',\n",
       " '2009.MM38.25',\n",
       " '2009.MM38.31',\n",
       " '2009.EX33.17',\n",
       " '2009.EX33.34',\n",
       " '2009.RM38.8',\n",
       " '2009.MM38.32',\n",
       " '2009.CD25.6',\n",
       " '2009.CC38.24',\n",
       " '2009.EY28.1',\n",
       " '2009.CD25.3',\n",
       " '2009.PW25.20',\n",
       " '2009.EY28.2',\n",
       " '2009.CC38.2',\n",
       " '2009.MM38.5',\n",
       " '2009.RM38.1',\n",
       " '2009.IA40.1',\n",
       " '2009.EX34.3',\n",
       " '2009.CD26.5',\n",
       " '2009.EX34.14',\n",
       " '2009.SC27.31',\n",
       " '2009.RM40.6',\n",
       " '2009.CC40.8',\n",
       " '2009.EX34.1',\n",
       " '2009.EX34.11',\n",
       " '2009.PG31.3',\n",
       " '2009.EX34.12',\n",
       " '2009.GM24.32',\n",
       " '2009.PW26.3',\n",
       " '2009.ST12.1',\n",
       " '2009.EY29.39',\n",
       " '2009.EY29.45',\n",
       " '2009.TE27.21',\n",
       " '2009.BL40.1',\n",
       " '2009.PG26.2',\n",
       " '2009.EX33.18',\n",
       " '2009.NY27.52',\n",
       " '2009.NY27.82',\n",
       " '2009.MM40.2',\n",
       " '2009.MM40.5',\n",
       " '2009.MM40.11',\n",
       " '2009.NY27.54',\n",
       " '2009.RM40.7',\n",
       " '2009.CC40.9',\n",
       " '2009.NY27.86',\n",
       " '2009.SC28.10',\n",
       " '2009.TE27.20',\n",
       " '2009.RM40.1',\n",
       " '2009.MM40.15',\n",
       " '2009.AU11.18',\n",
       " '2009.BU55.5',\n",
       " '2009.BU55.4',\n",
       " '2009.BU55.6',\n",
       " '2009.GM24.46',\n",
       " '2009.EX35.6',\n",
       " '2009.EX35.8',\n",
       " '2009.EX35.17',\n",
       " '2009.AU11.4',\n",
       " '2009.TE28.38',\n",
       " '2009.TE28.5',\n",
       " '2009.RM41.6',\n",
       " '2009.BL41.1',\n",
       " '2009.GM25.7',\n",
       " '2009.EX35.4',\n",
       " '2009.AU11.6',\n",
       " '2009.MM41.1',\n",
       " '2009.MM41.2',\n",
       " '2009.MM41.3',\n",
       " '2009.MM41.4',\n",
       " '2009.MM41.5',\n",
       " '2009.MM41.6',\n",
       " '2009.MM41.7',\n",
       " '2009.MM41.9',\n",
       " '2009.MM41.10',\n",
       " '2009.MM41.11',\n",
       " '2009.MM41.12',\n",
       " '2009.PW27.5',\n",
       " '2009.AU11.7',\n",
       " '2009.SC29.2',\n",
       " '2009.BU59.1',\n",
       " '2009.RM42.3',\n",
       " '2009.EX36.20',\n",
       " '2009.EY31.1',\n",
       " '2009.EX36.9',\n",
       " '2009.BL42.1',\n",
       " '2009.EX36.4',\n",
       " '2009.EX36.3',\n",
       " '2009.EX36.24',\n",
       " '2009.EX36.23',\n",
       " '2009.EX36.25',\n",
       " '2009.EX36.26',\n",
       " '2009.CD28.2',\n",
       " '2009.CD28.4',\n",
       " '2009.CD28.6',\n",
       " '2009.GM26.3',\n",
       " '2009.RM42.6',\n",
       " '2009.GM26.32',\n",
       " '2009.CC42.6',\n",
       " '2009.MM42.2',\n",
       " '2009.MM42.3',\n",
       " '2009.MM42.5',\n",
       " '2009.MM42.8',\n",
       " '2009.MM42.13',\n",
       " '2009.RM42.7',\n",
       " '2009.CC42.1',\n",
       " '2009.EX37.1',\n",
       " '2009.EX37.2',\n",
       " '2009.EX37.3',\n",
       " '2009.EX37.4',\n",
       " '2009.BL43.1',\n",
       " '2009.RM42.8',\n",
       " '2009.PG33.8',\n",
       " '2009.MM42.9',\n",
       " '2009.GM26.28',\n",
       " '2009.CC42.9',\n",
       " '2009.GM26.26',\n",
       " '2009.CC42.7',\n",
       " '2009.MM42.7',\n",
       " '2009.MM42.15',\n",
       " '2009.PG33.10',\n",
       " '2009.MM42.17',\n",
       " '2009.EX36.12',\n",
       " '2009.GM26.13',\n",
       " '2009.PG33.6',\n",
       " '2009.NY29.34',\n",
       " '2009.NY29.42',\n",
       " '2009.TE29.77',\n",
       " '2009.GM26.35',\n",
       " '2009.MM42.16',\n",
       " '2009.GM26.14',\n",
       " '2009.PW28.5',\n",
       " '2009.PW28.13',\n",
       " '2009.EY31.6',\n",
       " '2009.RM42.9',\n",
       " '2009.CC42.8',\n",
       " '2009.EX38.1',\n",
       " '2009.BL44.1',\n",
       " '2009.AU14.4',\n",
       " '2009.AU14.6',\n",
       " '2016.GM9.4',\n",
       " '2016.GM9.5',\n",
       " '2016.BU16.1',\n",
       " '2016.PE9.1',\n",
       " '2016.BU17.1',\n",
       " '2016.SC11.18',\n",
       " '2016.NY11.35',\n",
       " '2016.TE13.6',\n",
       " '2016.TE13.32',\n",
       " '2016.TE13.72',\n",
       " '2016.TE13.8',\n",
       " '2016.TE13.30',\n",
       " '2016.EY11.13',\n",
       " '2016.EY11.4',\n",
       " '2016.EY11.2',\n",
       " '2016.EY11.11',\n",
       " '2016.EY11.35',\n",
       " '2016.LS9.9',\n",
       " '2016.LS9.7',\n",
       " '2016.LS9.6',\n",
       " '2016.LS9.4',\n",
       " '2016.BU18.1',\n",
       " '2016.CD9.1',\n",
       " '2016.EX11.21',\n",
       " '2016.EX11.13',\n",
       " '2016.EX11.5',\n",
       " '2016.RM12.4',\n",
       " '2016.TE13.5',\n",
       " '2016.RM12.6',\n",
       " '2016.TE13.12',\n",
       " '2016.EX11.15',\n",
       " '2016.EX11.16',\n",
       " '2016.EY11.1',\n",
       " '2016.RM12.1',\n",
       " '2016.PG9.7',\n",
       " '2016.EX11.9',\n",
       " '2016.EX11.6',\n",
       " '2016.GM9.1',\n",
       " '2016.GM9.2',\n",
       " '2016.GM9.8',\n",
       " '2016.LS9.2',\n",
       " '2016.PG9.3',\n",
       " '2016.CC12.13',\n",
       " '2016.BL12.1',\n",
       " '2016.EY11.12',\n",
       " '2016.SC11.3',\n",
       " '2016.TE13.27',\n",
       " '2016.MM12.32',\n",
       " '2016.MM12.1',\n",
       " '2016.MM12.2',\n",
       " '2016.MM12.3',\n",
       " '2016.MM12.4',\n",
       " '2016.MM12.5',\n",
       " '2016.MM12.6',\n",
       " '2016.MM12.8',\n",
       " '2016.MM12.9',\n",
       " '2016.MM12.18',\n",
       " '2016.MM12.30',\n",
       " '2016.MM12.33',\n",
       " '2016.MM12.27',\n",
       " '2016.EX12.2',\n",
       " '2016.TS3.1',\n",
       " '2016.DI7.6',\n",
       " '2016.EX12.3',\n",
       " '2016.EX12.1',\n",
       " '2016.BL13.1',\n",
       " '2016.RM13.1',\n",
       " '2016.GM10.9',\n",
       " '2016.SC12.1',\n",
       " '2016.SC12.4',\n",
       " '2016.NY12.7',\n",
       " '2016.TE14.4',\n",
       " '2016.EY12.17',\n",
       " '2016.EY12.1',\n",
       " '2016.EY12.10',\n",
       " '2016.EY12.18',\n",
       " '2016.CC14.1',\n",
       " '2016.RM14.1',\n",
       " '2016.BL14.1',\n",
       " '2016.PW11.7',\n",
       " '2016.PW11.5',\n",
       " '2016.PW11.1',\n",
       " '2016.PW11.6',\n",
       " '2016.CD10.2',\n",
       " '2016.NT8.1',\n",
       " '2016.AU5.7',\n",
       " '2016.AU5.8',\n",
       " '2016.EX13.21',\n",
       " '2016.EX13.3',\n",
       " '2016.EX13.1',\n",
       " '2016.EX13.2',\n",
       " '2016.NY12.8',\n",
       " '2016.EY12.13',\n",
       " '2016.EY12.8',\n",
       " '2016.NY12.16',\n",
       " '2016.NY12.36',\n",
       " '2016.TE14.8',\n",
       " '2016.CC15.3',\n",
       " '2016.CC15.4',\n",
       " '2016.GM10.19',\n",
       " '2016.RM15.5',\n",
       " '2016.NY12.33',\n",
       " '2016.TE14.14',\n",
       " '2016.TE14.37',\n",
       " '2016.NY12.35',\n",
       " '2016.RM15.1',\n",
       " '2016.BL15.1',\n",
       " '2016.RM16.4',\n",
       " '2016.RM16.1',\n",
       " '2016.CC16.1',\n",
       " '2016.BL16.1',\n",
       " '2016.HL10.1',\n",
       " '2016.NC8.4',\n",
       " '2016.RM17.2',\n",
       " '2016.IA17.1',\n",
       " '2016.RM17.4',\n",
       " '2016.RM17.6',\n",
       " '2016.EX13.14',\n",
       " '2016.GM10.10',\n",
       " '2016.CC17.9',\n",
       " '2016.EX13.9',\n",
       " '2016.ED10.8',\n",
       " '2016.CD10.4',\n",
       " '2016.EX13.20',\n",
       " '2016.CD10.6',\n",
       " '2016.CC17.12',\n",
       " '2016.BL17.1',\n",
       " '2016.MM17.5',\n",
       " '2016.MM17.21',\n",
       " '2016.ED10.1',\n",
       " '2016.ED10.7',\n",
       " '2016.CC17.2',\n",
       " '2016.MM17.4',\n",
       " '2016.MM17.6',\n",
       " '2016.MM17.7',\n",
       " '2016.MM17.8',\n",
       " '2016.MM17.9',\n",
       " '2016.MM17.10',\n",
       " '2016.MM17.11',\n",
       " '2016.MM17.12',\n",
       " '2016.MM17.13',\n",
       " '2016.MM17.14',\n",
       " '2016.MM17.16',\n",
       " '2016.MM17.19',\n",
       " '2016.MM17.20',\n",
       " '2016.MM17.22',\n",
       " '2016.MM17.23',\n",
       " '2016.MM17.24',\n",
       " '2016.MM17.26',\n",
       " '2016.MM17.27',\n",
       " '2016.MM17.32',\n",
       " '2016.MM17.40',\n",
       " '2016.MM17.42',\n",
       " '2016.CC17.7',\n",
       " '2016.CC17.8',\n",
       " '2016.MM17.35',\n",
       " '2016.RM17.1',\n",
       " '2016.NY13.12',\n",
       " '2016.TE15.9',\n",
       " '2016.TE15.10',\n",
       " '2016.TE15.27',\n",
       " '2016.EY13.33',\n",
       " '2016.EY13.34',\n",
       " '2016.EY13.12',\n",
       " '2016.EY13.15',\n",
       " '2016.EY13.9',\n",
       " '2016.EY13.30',\n",
       " '2016.EY13.2',\n",
       " '2016.EY13.35',\n",
       " '2016.EY13.31',\n",
       " '2016.ZB8.2',\n",
       " '2016.CD11.12',\n",
       " '2016.LS10.3',\n",
       " '2016.LS10.1',\n",
       " '2016.LS10.2',\n",
       " '2016.LS10.5',\n",
       " '2016.EL3.3',\n",
       " '2016.EX14.2',\n",
       " '2016.EX14.8',\n",
       " '2016.DI8.4',\n",
       " '2016.HB11.3',\n",
       " '2016.PB14.4',\n",
       " '2016.NC9.1',\n",
       " '2016.PW12.1',\n",
       " '2016.PW12.16',\n",
       " '2016.PW12.2',\n",
       " '2016.NY13.11',\n",
       " '2016.NY13.13',\n",
       " '2016.SC13.4',\n",
       " '2016.RM18.6',\n",
       " '2016.ST8.3',\n",
       " '2016.NY13.27',\n",
       " '2016.GM11.12',\n",
       " '2016.CD11.4',\n",
       " '2016.CD11.3',\n",
       " '2016.EY13.14',\n",
       " '2016.RM18.1',\n",
       " '2016.BL18.1',\n",
       " '2016.TE15.77',\n",
       " '2016.CD11.9',\n",
       " '2016.CC18.8',\n",
       " '2016.MM18.1',\n",
       " '2016.MM18.2',\n",
       " '2016.MM18.3',\n",
       " '2016.MM18.4',\n",
       " '2016.MM18.5',\n",
       " '2016.MM18.6',\n",
       " '2016.MM18.7',\n",
       " '2016.MM18.9',\n",
       " '2016.MM18.10',\n",
       " '2016.MM18.11',\n",
       " '2016.MM18.14',\n",
       " '2016.MM18.18',\n",
       " '2016.MM18.24',\n",
       " '2016.MM18.29',\n",
       " '2016.MM18.32',\n",
       " '2016.MM18.34',\n",
       " '2016.CC18.2',\n",
       " '2016.MM18.41',\n",
       " '2016.MM18.8',\n",
       " '2016.HL11.4',\n",
       " '2016.MM18.15',\n",
       " '2016.ED11.10',\n",
       " '2016.PG11.5',\n",
       " '2016.PW11.4',\n",
       " '2016.EY13.54',\n",
       " '2016.MM18.43',\n",
       " '2016.EX14.7',\n",
       " '2016.CD11.2',\n",
       " '2016.ED11.4',\n",
       " '2016.NY14.4',\n",
       " '2016.NY14.9',\n",
       " '2016.NY14.5',\n",
       " '2016.NY14.3',\n",
       " '2016.NY14.28',\n",
       " '2016.NY14.10',\n",
       " '2016.TE16.10',\n",
       " '2016.TE16.4',\n",
       " '2016.TE16.5',\n",
       " '2016.TE16.1',\n",
       " '2016.EY14.11',\n",
       " '2016.EY14.26',\n",
       " '2016.EY14.24',\n",
       " '2016.EY14.19',\n",
       " '2016.EY14.53',\n",
       " '2016.EY14.23',\n",
       " '2016.EY14.50',\n",
       " '2016.EY14.2',\n",
       " '2016.PG12.8',\n",
       " '2016.LS11.4',\n",
       " '2016.EX15.7',\n",
       " '2016.EX15.1',\n",
       " '2016.EX15.8',\n",
       " '2016.ST9.3',\n",
       " '2016.HL12.2',\n",
       " '2016.RM19.3',\n",
       " '2016.SC14.5',\n",
       " '2016.SC14.6',\n",
       " '2016.SC14.7',\n",
       " '2016.SC14.8',\n",
       " '2016.TE16.16',\n",
       " '2016.RM19.6',\n",
       " '2016.EX15.28',\n",
       " '2016.EX15.13',\n",
       " '2016.ED12.3',\n",
       " '2016.ED12.4',\n",
       " '2016.EX15.10',\n",
       " '2016.EX15.18',\n",
       " '2016.BL19.1',\n",
       " '2016.EY14.52',\n",
       " '2016.CC19.2',\n",
       " '2016.ED12.5',\n",
       " '2016.ED12.6',\n",
       " '2016.EX15.20',\n",
       " '2016.MM19.2',\n",
       " '2016.MM19.4',\n",
       " '2016.MM19.6',\n",
       " '2016.MM19.7',\n",
       " '2016.MM19.8',\n",
       " '2016.MM19.10',\n",
       " '2016.MM19.11',\n",
       " '2016.MM19.12',\n",
       " '2016.MM19.16',\n",
       " '2016.MM19.19',\n",
       " '2016.MM19.23',\n",
       " '2016.MM19.28',\n",
       " '2016.MM19.29',\n",
       " '2016.MM19.33',\n",
       " '2016.MM19.36',\n",
       " '2016.LS11.3',\n",
       " '2016.ED12.1',\n",
       " '2016.CC19.9',\n",
       " '2016.MM19.41',\n",
       " '2016.MM19.42',\n",
       " '2016.PG12.7',\n",
       " '2016.RM19.1',\n",
       " '2016.PW13.11',\n",
       " '2016.CC19.6',\n",
       " '2016.TE16.70',\n",
       " '2016.GM13.35',\n",
       " '2016.GM13.25',\n",
       " '2016.GM13.13',\n",
       " '2016.SC15.4',\n",
       " '2016.SC15.15',\n",
       " '2016.NY15.24',\n",
       " '2016.NY15.11',\n",
       " '2016.NY15.14',\n",
       " '2016.NY15.13',\n",
       " '2016.NY15.3',\n",
       " '2016.TE17.23',\n",
       " '2016.TE17.126',\n",
       " '2016.TE17.62',\n",
       " '2016.EY15.23',\n",
       " '2016.EY15.61',\n",
       " '2016.EY15.29',\n",
       " '2016.EY15.64',\n",
       " '2016.EY15.22',\n",
       " '2016.EY15.5',\n",
       " '2016.EY15.31',\n",
       " '2016.EY15.67',\n",
       " '2016.EY15.9',\n",
       " '2016.EY15.24',\n",
       " '2016.EY15.14',\n",
       " '2016.AH5.3',\n",
       " '2016.BU22.4',\n",
       " '2016.ED13.7',\n",
       " '2016.ED13.5',\n",
       " '2016.CD13.1',\n",
       " '2016.NA5.1',\n",
       " '2016.LS12.1',\n",
       " '2016.EX16.11',\n",
       " '2016.EX16.21',\n",
       " '2016.EX16.1',\n",
       " '2016.EX16.16',\n",
       " '2016.EX16.43',\n",
       " '2016.EX16.46',\n",
       " '2016.HL13.2',\n",
       " '2016.TE17.21',\n",
       " '2016.RM20.6',\n",
       " '2016.CC20.7',\n",
       " '2016.GM13.15',\n",
       " '2016.PW14.8',\n",
       " '2016.EX16.37',\n",
       " '2016.CC20.15',\n",
       " '2016.EY15.15',\n",
       " '2016.SC15.5',\n",
       " '2016.TE17.56',\n",
       " '2016.CC20.6',\n",
       " '2016.EX16.4',\n",
       " '2016.RM20.1',\n",
       " '2016.MM20.58',\n",
       " '2016.MM20.59',\n",
       " '2016.BL20.1',\n",
       " '2016.EX16.25',\n",
       " '2016.CD13.14',\n",
       " '2016.EX16.6',\n",
       " '2016.CC20.19',\n",
       " '2016.PG13.1',\n",
       " '2016.CD13.11',\n",
       " '2016.PW14.10',\n",
       " '2016.TE15.78',\n",
       " '2016.EX16.50',\n",
       " '2016.PW14.1',\n",
       " '2016.GM13.12',\n",
       " '2016.AU6.9',\n",
       " '2016.AU6.10',\n",
       " '2016.CC20.3',\n",
       " '2016.MM20.6',\n",
       " '2016.MM20.7',\n",
       " '2016.MM20.8',\n",
       " '2016.MM20.9',\n",
       " '2016.MM20.10',\n",
       " '2016.MM20.11',\n",
       " '2016.MM20.13',\n",
       " '2016.MM20.15',\n",
       " '2016.MM20.16',\n",
       " '2016.MM20.18',\n",
       " '2016.MM20.19',\n",
       " '2016.MM20.23',\n",
       " '2016.MM20.32',\n",
       " '2016.MM20.40',\n",
       " '2016.MM20.41',\n",
       " '2016.MM20.42',\n",
       " '2016.MM20.51',\n",
       " '2016.MM20.54',\n",
       " '2016.MM20.55',\n",
       " '2016.MM20.68',\n",
       " '2016.MM20.69',\n",
       " '2016.MM20.71',\n",
       " '2016.MM20.72',\n",
       " '2016.MM20.73',\n",
       " '2016.MM20.67',\n",
       " '2016.TE17.18',\n",
       " '2016.EX16.5',\n",
       " '2016.EX16.10',\n",
       " '2016.EX16.15',\n",
       " '2016.EX16.17',\n",
       " '2016.TE17.55',\n",
       " '2016.PW14.11',\n",
       " '2016.EX16.26',\n",
       " '2016.MM20.61',\n",
       " '2016.PG13.6',\n",
       " '2016.ST10.1',\n",
       " '2016.MM20.4',\n",
       " '2016.MM20.74',\n",
       " '2016.GM14.11',\n",
       " '2016.SC16.21',\n",
       " '2016.SC16.3',\n",
       " '2016.TE18.7',\n",
       " '2016.TE18.28',\n",
       " '2016.TE18.15',\n",
       " '2016.EY16.18',\n",
       " '2016.EY16.6',\n",
       " '2016.EY16.10',\n",
       " '2016.EY16.55',\n",
       " '2016.EY16.8',\n",
       " '2016.EY16.53',\n",
       " '2016.EY16.32',\n",
       " '2016.EY16.56',\n",
       " '2016.PG14.8',\n",
       " '2016.NY16.47',\n",
       " '2016.NY16.1',\n",
       " '2016.NY16.43',\n",
       " '2016.XR2.1',\n",
       " '2016.LS13.4',\n",
       " '2016.EX17.28',\n",
       " '2016.EX17.1',\n",
       " '2016.EX17.31',\n",
       " '2016.PW15.12',\n",
       " '2016.PW15.10',\n",
       " '2016.PB17.4',\n",
       " '2016.HL14.12',\n",
       " '2016.EX17.4',\n",
       " '2016.RM21.6',\n",
       " '2016.TE18.25',\n",
       " '2016.EX17.9',\n",
       " '2016.EX17.10',\n",
       " '2016.EX17.15',\n",
       " '2016.EX17.27',\n",
       " '2016.CD14.6',\n",
       " '2016.CD14.4',\n",
       " '2016.CD14.8',\n",
       " '2016.CD14.11',\n",
       " '2016.CD14.15',\n",
       " '2016.GM14.5',\n",
       " '2016.MM21.34',\n",
       " '2016.MM21.39',\n",
       " '2016.MM21.35',\n",
       " '2016.TE18.5',\n",
       " '2016.GM14.17',\n",
       " '2016.EX17.32',\n",
       " '2016.GM14.10',\n",
       " '2016.BL21.1',\n",
       " '2016.LS13.3',\n",
       " '2016.EY16.11',\n",
       " '2016.EY16.12',\n",
       " '2016.SC16.5',\n",
       " '2016.TE18.82',\n",
       " '2016.TE18.6',\n",
       " '2016.TE18.26',\n",
       " '2016.CC21.7',\n",
       " '2016.MM21.2',\n",
       " '2016.MM21.3',\n",
       " '2016.MM21.5',\n",
       " '2016.MM21.8',\n",
       " '2016.MM21.11',\n",
       " '2016.MM21.12',\n",
       " '2016.MM21.14',\n",
       " '2016.MM21.15',\n",
       " '2016.MM21.16',\n",
       " '2016.MM21.17',\n",
       " '2016.MM21.19',\n",
       " '2016.MM21.21',\n",
       " '2016.MM21.22',\n",
       " '2016.MM21.24',\n",
       " '2016.MM21.26',\n",
       " '2016.MM21.27',\n",
       " '2016.MM21.29',\n",
       " '2016.MM21.33',\n",
       " '2016.MM21.36',\n",
       " '2016.MM21.38',\n",
       " '2016.MM21.40',\n",
       " '2016.CC21.1',\n",
       " '2016.RM21.1',\n",
       " '2016.CC21.2',\n",
       " '2016.NY16.45',\n",
       " '2016.CC21.3',\n",
       " '2016.SC17.3',\n",
       " '2016.SC17.14',\n",
       " '2016.NY17.26',\n",
       " '2016.NY17.8',\n",
       " '2016.NY17.27',\n",
       " '2016.NY17.11',\n",
       " '2016.TE19.10',\n",
       " '2016.TE19.13',\n",
       " '2016.TE19.6',\n",
       " '2016.TE19.15',\n",
       " '2016.TE19.2',\n",
       " '2016.EY17.10',\n",
       " '2016.EY17.3',\n",
       " '2016.EY17.4',\n",
       " '2016.EY17.2',\n",
       " '2016.EY17.19',\n",
       " '2016.CD15.2',\n",
       " '2016.CD15.9',\n",
       " '2016.LL2.1',\n",
       " '2016.LS14.3',\n",
       " '2016.EX18.3',\n",
       " '2016.EX18.4',\n",
       " '2016.EX18.13',\n",
       " '2016.EX18.2',\n",
       " '2016.EX18.7',\n",
       " '2016.EX18.19',\n",
       " '2016.EX18.12',\n",
       " '2016.AU7.14',\n",
       " '2016.EX19.1',\n",
       " '2016.TD4.1',\n",
       " '2016.PW16.5',\n",
       " '2016.SC17.9',\n",
       " '2016.TE19.28',\n",
       " '2016.EX18.25',\n",
       " '2016.AU7.1',\n",
       " '2016.RM22.6',\n",
       " '2016.HL14.5',\n",
       " '2016.MM22.27',\n",
       " '2016.BL22.1',\n",
       " '2016.PE14.2',\n",
       " '2016.TE19.18',\n",
       " '2016.RM22.4',\n",
       " '2016.PG15.5',\n",
       " '2016.MM22.1',\n",
       " '2016.MM22.5',\n",
       " '2016.MM22.6',\n",
       " '2016.MM22.7',\n",
       " '2016.MM22.9',\n",
       " '2016.MM22.10',\n",
       " '2016.MM22.11',\n",
       " '2016.MM22.12',\n",
       " '2016.MM22.13',\n",
       " '2016.MM22.14',\n",
       " '2016.MM22.16',\n",
       " '2016.MM22.17',\n",
       " '2016.MM22.20',\n",
       " '2016.MM22.22',\n",
       " '2016.MM22.23',\n",
       " '2016.MM22.25',\n",
       " '2016.MM22.26',\n",
       " '2016.MM22.28',\n",
       " '2016.MM22.29',\n",
       " '2016.MM22.32',\n",
       " '2016.MM22.35',\n",
       " '2016.MM22.30',\n",
       " '2016.CC22.1',\n",
       " '2016.CD15.7',\n",
       " '2016.EX18.5',\n",
       " '2016.CD15.5',\n",
       " '2016.CC22.2',\n",
       " '2016.MM22.38',\n",
       " '2016.MM22.39',\n",
       " '2016.MM22.40',\n",
       " '2016.GM16.10',\n",
       " '2016.PY2.1',\n",
       " '2016.SC18.16',\n",
       " '2016.SC18.6',\n",
       " '2016.TE20.17',\n",
       " '2016.TE20.7',\n",
       " '2016.TE20.25',\n",
       " '2016.TE20.80',\n",
       " '2016.TE20.73',\n",
       " '2016.TE20.50',\n",
       " '2016.EY18.5',\n",
       " '2016.EY18.12',\n",
       " '2016.EY18.6',\n",
       " '2016.EY18.33',\n",
       " '2016.EY18.26',\n",
       " '2016.BU26.1',\n",
       " '2016.PW17.17',\n",
       " '2016.PW17.18',\n",
       " '2016.ED16.2',\n",
       " '2016.CD16.11',\n",
       " '2016.LS15.1',\n",
       " '2016.LS15.3',\n",
       " '2016.EX20.5',\n",
       " '2016.EX20.2',\n",
       " '2016.EX20.10',\n",
       " '2016.EX20.23',\n",
       " '2016.EX20.6',\n",
       " '2016.RM23.3',\n",
       " '2016.RM23.6',\n",
       " '2016.GM16.15',\n",
       " '2016.CC23.8',\n",
       " '2016.RM23.1',\n",
       " '2016.EX20.1',\n",
       " '2016.EX20.16',\n",
       " '2016.TE18.56',\n",
       " '2016.ED16.8',\n",
       " '2016.ED16.9',\n",
       " '2016.BL23.1',\n",
       " '2016.CC23.9',\n",
       " '2016.EX20.30',\n",
       " '2016.EX20.32',\n",
       " '2016.EX20.3',\n",
       " '2016.EX20.4',\n",
       " '2016.EX20.45',\n",
       " '2016.EX20.28',\n",
       " '2016.CD16.9',\n",
       " '2016.GM16.9',\n",
       " '2016.TE20.14',\n",
       " '2016.PE15.4',\n",
       " '2016.EX20.7',\n",
       " '2016.MM23.30',\n",
       " '2016.MM23.3',\n",
       " '2016.MM23.5',\n",
       " '2016.MM23.8',\n",
       " '2016.MM23.9',\n",
       " '2016.MM23.10',\n",
       " '2016.MM23.11',\n",
       " '2016.MM23.17',\n",
       " '2016.MM23.21',\n",
       " '2016.MM23.22',\n",
       " '2016.MM23.23',\n",
       " '2016.MM23.26',\n",
       " '2016.MM23.27',\n",
       " '2016.EX20.9',\n",
       " '2016.GM16.18',\n",
       " '2016.TE20.9',\n",
       " '2016.MM23.33',\n",
       " '2016.CC23.4',\n",
       " '2016.EY18.13',\n",
       " '2016.NY18.14',\n",
       " '2016.TE20.8',\n",
       " '2016.MM23.40',\n",
       " '2016.EX20.25',\n",
       " '2016.EX20.26',\n",
       " '2016.PE15.2',\n",
       " '2016.MM23.37',\n",
       " '2016.MM23.39',\n",
       " '2016.NY18.12',\n",
       " '2016.MM23.36',\n",
       " '2016.MM23.38',\n",
       " '2016.MM23.35',\n",
       " '2016.TE20.69',\n",
       " '2016.CD16.1',\n",
       " '2016.LS15.4',\n",
       " '2016.TE20.18',\n",
       " '2016.EY18.54',\n",
       " '2016.TE20.15',\n",
       " '2016.EX20.29',\n",
       " '2016.PG15.1',\n",
       " '2016.PG16.1',\n",
       " '2016.PG16.2',\n",
       " '2016.EX20.14',\n",
       " '2016.MM23.41',\n",
       " '2016.EX20.22',\n",
       " '2016.ST11.1',\n",
       " '2016.EX20.41',\n",
       " '2016.CD16.6',\n",
       " '2016.PE15.1',\n",
       " '2016.MM23.43',\n",
       " ...]"
      ]
     },
     "execution_count": 21,
     "metadata": {},
     "output_type": "execute_result"
    }
   ],
   "source": [
    "columns_to_drop"
   ]
  },
  {
   "cell_type": "code",
   "execution_count": 22,
   "metadata": {},
   "outputs": [
    {
     "data": {
      "text/html": [
       "<div>\n",
       "<style scoped>\n",
       "    .dataframe tbody tr th:only-of-type {\n",
       "        vertical-align: middle;\n",
       "    }\n",
       "\n",
       "    .dataframe tbody tr th {\n",
       "        vertical-align: top;\n",
       "    }\n",
       "\n",
       "    .dataframe thead th {\n",
       "        text-align: right;\n",
       "    }\n",
       "</style>\n",
       "<table border=\"1\" class=\"dataframe\">\n",
       "  <thead>\n",
       "    <tr style=\"text-align: right;\">\n",
       "      <th></th>\n",
       "      <th>2010.SC31.8</th>\n",
       "      <th>2010.SC31.14</th>\n",
       "      <th>2010.SC31.4</th>\n",
       "      <th>2010.NY30.49</th>\n",
       "      <th>2010.NY30.16</th>\n",
       "      <th>2010.TE30.7</th>\n",
       "      <th>2010.EY33.12</th>\n",
       "      <th>2010.EY33.13</th>\n",
       "      <th>2010.EY33.14</th>\n",
       "      <th>2010.EY33.47</th>\n",
       "      <th>...</th>\n",
       "      <th>2015.ED8.9</th>\n",
       "      <th>2015.PE8.5</th>\n",
       "      <th>2015.PE8.7</th>\n",
       "      <th>2015.RM11.1</th>\n",
       "      <th>2015.CC11.9</th>\n",
       "      <th>2015.MM11.45</th>\n",
       "      <th>2015.MM11.46</th>\n",
       "      <th>2015.TE12.11</th>\n",
       "      <th>2015.CC11.1</th>\n",
       "      <th>2015.PW9.5</th>\n",
       "    </tr>\n",
       "  </thead>\n",
       "  <tbody>\n",
       "    <tr>\n",
       "      <th>Paul Ainslie</th>\n",
       "      <td>0.0</td>\n",
       "      <td>1.0</td>\n",
       "      <td>1.0</td>\n",
       "      <td>1.0</td>\n",
       "      <td>-1.0</td>\n",
       "      <td>-1.0</td>\n",
       "      <td>-1.0</td>\n",
       "      <td>-1.0</td>\n",
       "      <td>-1.0</td>\n",
       "      <td>-1.0</td>\n",
       "      <td>...</td>\n",
       "      <td>1.0</td>\n",
       "      <td>1.0</td>\n",
       "      <td>1.0</td>\n",
       "      <td>1.0</td>\n",
       "      <td>1.0</td>\n",
       "      <td>1.0</td>\n",
       "      <td>1.0</td>\n",
       "      <td>1.0</td>\n",
       "      <td>1.0</td>\n",
       "      <td>1.0</td>\n",
       "    </tr>\n",
       "    <tr>\n",
       "      <th>Brian Ashton</th>\n",
       "      <td>0.0</td>\n",
       "      <td>1.0</td>\n",
       "      <td>1.0</td>\n",
       "      <td>0.0</td>\n",
       "      <td>-1.0</td>\n",
       "      <td>-1.0</td>\n",
       "      <td>-1.0</td>\n",
       "      <td>-1.0</td>\n",
       "      <td>-1.0</td>\n",
       "      <td>-1.0</td>\n",
       "      <td>...</td>\n",
       "      <td>-1.0</td>\n",
       "      <td>-1.0</td>\n",
       "      <td>-1.0</td>\n",
       "      <td>-1.0</td>\n",
       "      <td>-1.0</td>\n",
       "      <td>-1.0</td>\n",
       "      <td>-1.0</td>\n",
       "      <td>-1.0</td>\n",
       "      <td>-1.0</td>\n",
       "      <td>-1.0</td>\n",
       "    </tr>\n",
       "    <tr>\n",
       "      <th>Maria Augimeri</th>\n",
       "      <td>-1.0</td>\n",
       "      <td>-1.0</td>\n",
       "      <td>-1.0</td>\n",
       "      <td>-1.0</td>\n",
       "      <td>1.0</td>\n",
       "      <td>-1.0</td>\n",
       "      <td>-1.0</td>\n",
       "      <td>-1.0</td>\n",
       "      <td>-1.0</td>\n",
       "      <td>-1.0</td>\n",
       "      <td>...</td>\n",
       "      <td>-1.0</td>\n",
       "      <td>-1.0</td>\n",
       "      <td>-1.0</td>\n",
       "      <td>-1.0</td>\n",
       "      <td>-1.0</td>\n",
       "      <td>-1.0</td>\n",
       "      <td>-1.0</td>\n",
       "      <td>-1.0</td>\n",
       "      <td>-1.0</td>\n",
       "      <td>-1.0</td>\n",
       "    </tr>\n",
       "    <tr>\n",
       "      <th>Sandra Bussin</th>\n",
       "      <td>1.0</td>\n",
       "      <td>1.0</td>\n",
       "      <td>-1.0</td>\n",
       "      <td>1.0</td>\n",
       "      <td>-1.0</td>\n",
       "      <td>1.0</td>\n",
       "      <td>-1.0</td>\n",
       "      <td>-1.0</td>\n",
       "      <td>-1.0</td>\n",
       "      <td>-1.0</td>\n",
       "      <td>...</td>\n",
       "      <td>-1.0</td>\n",
       "      <td>-1.0</td>\n",
       "      <td>-1.0</td>\n",
       "      <td>-1.0</td>\n",
       "      <td>-1.0</td>\n",
       "      <td>-1.0</td>\n",
       "      <td>-1.0</td>\n",
       "      <td>-1.0</td>\n",
       "      <td>-1.0</td>\n",
       "      <td>-1.0</td>\n",
       "    </tr>\n",
       "    <tr>\n",
       "      <th>Shelley Carroll</th>\n",
       "      <td>0.0</td>\n",
       "      <td>1.0</td>\n",
       "      <td>-1.0</td>\n",
       "      <td>0.0</td>\n",
       "      <td>-1.0</td>\n",
       "      <td>-1.0</td>\n",
       "      <td>-1.0</td>\n",
       "      <td>-1.0</td>\n",
       "      <td>-1.0</td>\n",
       "      <td>-1.0</td>\n",
       "      <td>...</td>\n",
       "      <td>1.0</td>\n",
       "      <td>1.0</td>\n",
       "      <td>0.0</td>\n",
       "      <td>1.0</td>\n",
       "      <td>1.0</td>\n",
       "      <td>0.0</td>\n",
       "      <td>0.0</td>\n",
       "      <td>-1.0</td>\n",
       "      <td>0.0</td>\n",
       "      <td>1.0</td>\n",
       "    </tr>\n",
       "    <tr>\n",
       "      <th>...</th>\n",
       "      <td>...</td>\n",
       "      <td>...</td>\n",
       "      <td>...</td>\n",
       "      <td>...</td>\n",
       "      <td>...</td>\n",
       "      <td>...</td>\n",
       "      <td>...</td>\n",
       "      <td>...</td>\n",
       "      <td>...</td>\n",
       "      <td>...</td>\n",
       "      <td>...</td>\n",
       "      <td>...</td>\n",
       "      <td>...</td>\n",
       "      <td>...</td>\n",
       "      <td>...</td>\n",
       "      <td>...</td>\n",
       "      <td>...</td>\n",
       "      <td>...</td>\n",
       "      <td>...</td>\n",
       "      <td>...</td>\n",
       "      <td>...</td>\n",
       "    </tr>\n",
       "    <tr>\n",
       "      <th>Amber Morley</th>\n",
       "      <td>-1.0</td>\n",
       "      <td>-1.0</td>\n",
       "      <td>-1.0</td>\n",
       "      <td>-1.0</td>\n",
       "      <td>-1.0</td>\n",
       "      <td>-1.0</td>\n",
       "      <td>-1.0</td>\n",
       "      <td>-1.0</td>\n",
       "      <td>-1.0</td>\n",
       "      <td>-1.0</td>\n",
       "      <td>...</td>\n",
       "      <td>-1.0</td>\n",
       "      <td>-1.0</td>\n",
       "      <td>-1.0</td>\n",
       "      <td>-1.0</td>\n",
       "      <td>-1.0</td>\n",
       "      <td>-1.0</td>\n",
       "      <td>-1.0</td>\n",
       "      <td>-1.0</td>\n",
       "      <td>-1.0</td>\n",
       "      <td>-1.0</td>\n",
       "    </tr>\n",
       "    <tr>\n",
       "      <th>Jamaal Myers</th>\n",
       "      <td>-1.0</td>\n",
       "      <td>-1.0</td>\n",
       "      <td>-1.0</td>\n",
       "      <td>-1.0</td>\n",
       "      <td>-1.0</td>\n",
       "      <td>-1.0</td>\n",
       "      <td>-1.0</td>\n",
       "      <td>-1.0</td>\n",
       "      <td>-1.0</td>\n",
       "      <td>-1.0</td>\n",
       "      <td>...</td>\n",
       "      <td>-1.0</td>\n",
       "      <td>-1.0</td>\n",
       "      <td>-1.0</td>\n",
       "      <td>-1.0</td>\n",
       "      <td>-1.0</td>\n",
       "      <td>-1.0</td>\n",
       "      <td>-1.0</td>\n",
       "      <td>-1.0</td>\n",
       "      <td>-1.0</td>\n",
       "      <td>-1.0</td>\n",
       "    </tr>\n",
       "    <tr>\n",
       "      <th>Dianne Saxe</th>\n",
       "      <td>-1.0</td>\n",
       "      <td>-1.0</td>\n",
       "      <td>-1.0</td>\n",
       "      <td>-1.0</td>\n",
       "      <td>-1.0</td>\n",
       "      <td>-1.0</td>\n",
       "      <td>-1.0</td>\n",
       "      <td>-1.0</td>\n",
       "      <td>-1.0</td>\n",
       "      <td>-1.0</td>\n",
       "      <td>...</td>\n",
       "      <td>-1.0</td>\n",
       "      <td>-1.0</td>\n",
       "      <td>-1.0</td>\n",
       "      <td>-1.0</td>\n",
       "      <td>-1.0</td>\n",
       "      <td>-1.0</td>\n",
       "      <td>-1.0</td>\n",
       "      <td>-1.0</td>\n",
       "      <td>-1.0</td>\n",
       "      <td>-1.0</td>\n",
       "    </tr>\n",
       "    <tr>\n",
       "      <th>Olivia Chow</th>\n",
       "      <td>-1.0</td>\n",
       "      <td>-1.0</td>\n",
       "      <td>-1.0</td>\n",
       "      <td>-1.0</td>\n",
       "      <td>-1.0</td>\n",
       "      <td>-1.0</td>\n",
       "      <td>-1.0</td>\n",
       "      <td>-1.0</td>\n",
       "      <td>-1.0</td>\n",
       "      <td>-1.0</td>\n",
       "      <td>...</td>\n",
       "      <td>-1.0</td>\n",
       "      <td>-1.0</td>\n",
       "      <td>-1.0</td>\n",
       "      <td>-1.0</td>\n",
       "      <td>-1.0</td>\n",
       "      <td>-1.0</td>\n",
       "      <td>-1.0</td>\n",
       "      <td>-1.0</td>\n",
       "      <td>-1.0</td>\n",
       "      <td>-1.0</td>\n",
       "    </tr>\n",
       "    <tr>\n",
       "      <th>Parthi Kandavel</th>\n",
       "      <td>-1.0</td>\n",
       "      <td>-1.0</td>\n",
       "      <td>-1.0</td>\n",
       "      <td>-1.0</td>\n",
       "      <td>-1.0</td>\n",
       "      <td>-1.0</td>\n",
       "      <td>-1.0</td>\n",
       "      <td>-1.0</td>\n",
       "      <td>-1.0</td>\n",
       "      <td>-1.0</td>\n",
       "      <td>...</td>\n",
       "      <td>-1.0</td>\n",
       "      <td>-1.0</td>\n",
       "      <td>-1.0</td>\n",
       "      <td>-1.0</td>\n",
       "      <td>-1.0</td>\n",
       "      <td>-1.0</td>\n",
       "      <td>-1.0</td>\n",
       "      <td>-1.0</td>\n",
       "      <td>-1.0</td>\n",
       "      <td>-1.0</td>\n",
       "    </tr>\n",
       "  </tbody>\n",
       "</table>\n",
       "<p>93 rows × 4610 columns</p>\n",
       "</div>"
      ],
      "text/plain": [
       "                 2010.SC31.8  2010.SC31.14  2010.SC31.4  2010.NY30.49  \\\n",
       "Paul Ainslie             0.0           1.0          1.0           1.0   \n",
       "Brian Ashton             0.0           1.0          1.0           0.0   \n",
       "Maria Augimeri          -1.0          -1.0         -1.0          -1.0   \n",
       "Sandra Bussin            1.0           1.0         -1.0           1.0   \n",
       "Shelley Carroll          0.0           1.0         -1.0           0.0   \n",
       "...                      ...           ...          ...           ...   \n",
       "Amber Morley            -1.0          -1.0         -1.0          -1.0   \n",
       "Jamaal Myers            -1.0          -1.0         -1.0          -1.0   \n",
       "Dianne Saxe             -1.0          -1.0         -1.0          -1.0   \n",
       "Olivia Chow             -1.0          -1.0         -1.0          -1.0   \n",
       "Parthi Kandavel         -1.0          -1.0         -1.0          -1.0   \n",
       "\n",
       "                 2010.NY30.16  2010.TE30.7  2010.EY33.12  2010.EY33.13  \\\n",
       "Paul Ainslie             -1.0         -1.0          -1.0          -1.0   \n",
       "Brian Ashton             -1.0         -1.0          -1.0          -1.0   \n",
       "Maria Augimeri            1.0         -1.0          -1.0          -1.0   \n",
       "Sandra Bussin            -1.0          1.0          -1.0          -1.0   \n",
       "Shelley Carroll          -1.0         -1.0          -1.0          -1.0   \n",
       "...                       ...          ...           ...           ...   \n",
       "Amber Morley             -1.0         -1.0          -1.0          -1.0   \n",
       "Jamaal Myers             -1.0         -1.0          -1.0          -1.0   \n",
       "Dianne Saxe              -1.0         -1.0          -1.0          -1.0   \n",
       "Olivia Chow              -1.0         -1.0          -1.0          -1.0   \n",
       "Parthi Kandavel          -1.0         -1.0          -1.0          -1.0   \n",
       "\n",
       "                 2010.EY33.14  2010.EY33.47  ...  2015.ED8.9  2015.PE8.5  \\\n",
       "Paul Ainslie             -1.0          -1.0  ...         1.0         1.0   \n",
       "Brian Ashton             -1.0          -1.0  ...        -1.0        -1.0   \n",
       "Maria Augimeri           -1.0          -1.0  ...        -1.0        -1.0   \n",
       "Sandra Bussin            -1.0          -1.0  ...        -1.0        -1.0   \n",
       "Shelley Carroll          -1.0          -1.0  ...         1.0         1.0   \n",
       "...                       ...           ...  ...         ...         ...   \n",
       "Amber Morley             -1.0          -1.0  ...        -1.0        -1.0   \n",
       "Jamaal Myers             -1.0          -1.0  ...        -1.0        -1.0   \n",
       "Dianne Saxe              -1.0          -1.0  ...        -1.0        -1.0   \n",
       "Olivia Chow              -1.0          -1.0  ...        -1.0        -1.0   \n",
       "Parthi Kandavel          -1.0          -1.0  ...        -1.0        -1.0   \n",
       "\n",
       "                 2015.PE8.7  2015.RM11.1  2015.CC11.9  2015.MM11.45  \\\n",
       "Paul Ainslie            1.0          1.0          1.0           1.0   \n",
       "Brian Ashton           -1.0         -1.0         -1.0          -1.0   \n",
       "Maria Augimeri         -1.0         -1.0         -1.0          -1.0   \n",
       "Sandra Bussin          -1.0         -1.0         -1.0          -1.0   \n",
       "Shelley Carroll         0.0          1.0          1.0           0.0   \n",
       "...                     ...          ...          ...           ...   \n",
       "Amber Morley           -1.0         -1.0         -1.0          -1.0   \n",
       "Jamaal Myers           -1.0         -1.0         -1.0          -1.0   \n",
       "Dianne Saxe            -1.0         -1.0         -1.0          -1.0   \n",
       "Olivia Chow            -1.0         -1.0         -1.0          -1.0   \n",
       "Parthi Kandavel        -1.0         -1.0         -1.0          -1.0   \n",
       "\n",
       "                 2015.MM11.46  2015.TE12.11  2015.CC11.1  2015.PW9.5  \n",
       "Paul Ainslie              1.0           1.0          1.0         1.0  \n",
       "Brian Ashton             -1.0          -1.0         -1.0        -1.0  \n",
       "Maria Augimeri           -1.0          -1.0         -1.0        -1.0  \n",
       "Sandra Bussin            -1.0          -1.0         -1.0        -1.0  \n",
       "Shelley Carroll           0.0          -1.0          0.0         1.0  \n",
       "...                       ...           ...          ...         ...  \n",
       "Amber Morley             -1.0          -1.0         -1.0        -1.0  \n",
       "Jamaal Myers             -1.0          -1.0         -1.0        -1.0  \n",
       "Dianne Saxe              -1.0          -1.0         -1.0        -1.0  \n",
       "Olivia Chow              -1.0          -1.0         -1.0        -1.0  \n",
       "Parthi Kandavel          -1.0          -1.0         -1.0        -1.0  \n",
       "\n",
       "[93 rows x 4610 columns]"
      ]
     },
     "execution_count": 22,
     "metadata": {},
     "output_type": "execute_result"
    }
   ],
   "source": [
    "councillor_votes_filtered_years_df = councillor_df.drop(columns=columns_to_drop)\n",
    "councillor_votes_filtered_years_df"
   ]
  },
  {
   "cell_type": "code",
   "execution_count": 24,
   "metadata": {},
   "outputs": [
    {
     "data": {
      "text/plain": [
       "True"
      ]
     },
     "execution_count": 24,
     "metadata": {},
     "output_type": "execute_result"
    }
   ],
   "source": [
    "councillor_votes_filtered_years_df.loc['Jamaal Myers'].isin([-1.]).all()"
   ]
  },
  {
   "cell_type": "markdown",
   "metadata": {},
   "source": [
    "# Perform Clustering"
   ]
  },
  {
   "cell_type": "markdown",
   "metadata": {},
   "source": [
    "## Dimensionality Reduction"
   ]
  },
  {
   "cell_type": "code",
   "execution_count": 38,
   "metadata": {},
   "outputs": [
    {
     "data": {
      "text/html": [
       "<style>#sk-container-id-3 {\n",
       "  /* Definition of color scheme common for light and dark mode */\n",
       "  --sklearn-color-text: black;\n",
       "  --sklearn-color-line: gray;\n",
       "  /* Definition of color scheme for unfitted estimators */\n",
       "  --sklearn-color-unfitted-level-0: #fff5e6;\n",
       "  --sklearn-color-unfitted-level-1: #f6e4d2;\n",
       "  --sklearn-color-unfitted-level-2: #ffe0b3;\n",
       "  --sklearn-color-unfitted-level-3: chocolate;\n",
       "  /* Definition of color scheme for fitted estimators */\n",
       "  --sklearn-color-fitted-level-0: #f0f8ff;\n",
       "  --sklearn-color-fitted-level-1: #d4ebff;\n",
       "  --sklearn-color-fitted-level-2: #b3dbfd;\n",
       "  --sklearn-color-fitted-level-3: cornflowerblue;\n",
       "\n",
       "  /* Specific color for light theme */\n",
       "  --sklearn-color-text-on-default-background: var(--sg-text-color, var(--theme-code-foreground, var(--jp-content-font-color1, black)));\n",
       "  --sklearn-color-background: var(--sg-background-color, var(--theme-background, var(--jp-layout-color0, white)));\n",
       "  --sklearn-color-border-box: var(--sg-text-color, var(--theme-code-foreground, var(--jp-content-font-color1, black)));\n",
       "  --sklearn-color-icon: #696969;\n",
       "\n",
       "  @media (prefers-color-scheme: dark) {\n",
       "    /* Redefinition of color scheme for dark theme */\n",
       "    --sklearn-color-text-on-default-background: var(--sg-text-color, var(--theme-code-foreground, var(--jp-content-font-color1, white)));\n",
       "    --sklearn-color-background: var(--sg-background-color, var(--theme-background, var(--jp-layout-color0, #111)));\n",
       "    --sklearn-color-border-box: var(--sg-text-color, var(--theme-code-foreground, var(--jp-content-font-color1, white)));\n",
       "    --sklearn-color-icon: #878787;\n",
       "  }\n",
       "}\n",
       "\n",
       "#sk-container-id-3 {\n",
       "  color: var(--sklearn-color-text);\n",
       "}\n",
       "\n",
       "#sk-container-id-3 pre {\n",
       "  padding: 0;\n",
       "}\n",
       "\n",
       "#sk-container-id-3 input.sk-hidden--visually {\n",
       "  border: 0;\n",
       "  clip: rect(1px 1px 1px 1px);\n",
       "  clip: rect(1px, 1px, 1px, 1px);\n",
       "  height: 1px;\n",
       "  margin: -1px;\n",
       "  overflow: hidden;\n",
       "  padding: 0;\n",
       "  position: absolute;\n",
       "  width: 1px;\n",
       "}\n",
       "\n",
       "#sk-container-id-3 div.sk-dashed-wrapped {\n",
       "  border: 1px dashed var(--sklearn-color-line);\n",
       "  margin: 0 0.4em 0.5em 0.4em;\n",
       "  box-sizing: border-box;\n",
       "  padding-bottom: 0.4em;\n",
       "  background-color: var(--sklearn-color-background);\n",
       "}\n",
       "\n",
       "#sk-container-id-3 div.sk-container {\n",
       "  /* jupyter's `normalize.less` sets `[hidden] { display: none; }`\n",
       "     but bootstrap.min.css set `[hidden] { display: none !important; }`\n",
       "     so we also need the `!important` here to be able to override the\n",
       "     default hidden behavior on the sphinx rendered scikit-learn.org.\n",
       "     See: https://github.com/scikit-learn/scikit-learn/issues/21755 */\n",
       "  display: inline-block !important;\n",
       "  position: relative;\n",
       "}\n",
       "\n",
       "#sk-container-id-3 div.sk-text-repr-fallback {\n",
       "  display: none;\n",
       "}\n",
       "\n",
       "div.sk-parallel-item,\n",
       "div.sk-serial,\n",
       "div.sk-item {\n",
       "  /* draw centered vertical line to link estimators */\n",
       "  background-image: linear-gradient(var(--sklearn-color-text-on-default-background), var(--sklearn-color-text-on-default-background));\n",
       "  background-size: 2px 100%;\n",
       "  background-repeat: no-repeat;\n",
       "  background-position: center center;\n",
       "}\n",
       "\n",
       "/* Parallel-specific style estimator block */\n",
       "\n",
       "#sk-container-id-3 div.sk-parallel-item::after {\n",
       "  content: \"\";\n",
       "  width: 100%;\n",
       "  border-bottom: 2px solid var(--sklearn-color-text-on-default-background);\n",
       "  flex-grow: 1;\n",
       "}\n",
       "\n",
       "#sk-container-id-3 div.sk-parallel {\n",
       "  display: flex;\n",
       "  align-items: stretch;\n",
       "  justify-content: center;\n",
       "  background-color: var(--sklearn-color-background);\n",
       "  position: relative;\n",
       "}\n",
       "\n",
       "#sk-container-id-3 div.sk-parallel-item {\n",
       "  display: flex;\n",
       "  flex-direction: column;\n",
       "}\n",
       "\n",
       "#sk-container-id-3 div.sk-parallel-item:first-child::after {\n",
       "  align-self: flex-end;\n",
       "  width: 50%;\n",
       "}\n",
       "\n",
       "#sk-container-id-3 div.sk-parallel-item:last-child::after {\n",
       "  align-self: flex-start;\n",
       "  width: 50%;\n",
       "}\n",
       "\n",
       "#sk-container-id-3 div.sk-parallel-item:only-child::after {\n",
       "  width: 0;\n",
       "}\n",
       "\n",
       "/* Serial-specific style estimator block */\n",
       "\n",
       "#sk-container-id-3 div.sk-serial {\n",
       "  display: flex;\n",
       "  flex-direction: column;\n",
       "  align-items: center;\n",
       "  background-color: var(--sklearn-color-background);\n",
       "  padding-right: 1em;\n",
       "  padding-left: 1em;\n",
       "}\n",
       "\n",
       "\n",
       "/* Toggleable style: style used for estimator/Pipeline/ColumnTransformer box that is\n",
       "clickable and can be expanded/collapsed.\n",
       "- Pipeline and ColumnTransformer use this feature and define the default style\n",
       "- Estimators will overwrite some part of the style using the `sk-estimator` class\n",
       "*/\n",
       "\n",
       "/* Pipeline and ColumnTransformer style (default) */\n",
       "\n",
       "#sk-container-id-3 div.sk-toggleable {\n",
       "  /* Default theme specific background. It is overwritten whether we have a\n",
       "  specific estimator or a Pipeline/ColumnTransformer */\n",
       "  background-color: var(--sklearn-color-background);\n",
       "}\n",
       "\n",
       "/* Toggleable label */\n",
       "#sk-container-id-3 label.sk-toggleable__label {\n",
       "  cursor: pointer;\n",
       "  display: block;\n",
       "  width: 100%;\n",
       "  margin-bottom: 0;\n",
       "  padding: 0.5em;\n",
       "  box-sizing: border-box;\n",
       "  text-align: center;\n",
       "}\n",
       "\n",
       "#sk-container-id-3 label.sk-toggleable__label-arrow:before {\n",
       "  /* Arrow on the left of the label */\n",
       "  content: \"▸\";\n",
       "  float: left;\n",
       "  margin-right: 0.25em;\n",
       "  color: var(--sklearn-color-icon);\n",
       "}\n",
       "\n",
       "#sk-container-id-3 label.sk-toggleable__label-arrow:hover:before {\n",
       "  color: var(--sklearn-color-text);\n",
       "}\n",
       "\n",
       "/* Toggleable content - dropdown */\n",
       "\n",
       "#sk-container-id-3 div.sk-toggleable__content {\n",
       "  max-height: 0;\n",
       "  max-width: 0;\n",
       "  overflow: hidden;\n",
       "  text-align: left;\n",
       "  /* unfitted */\n",
       "  background-color: var(--sklearn-color-unfitted-level-0);\n",
       "}\n",
       "\n",
       "#sk-container-id-3 div.sk-toggleable__content.fitted {\n",
       "  /* fitted */\n",
       "  background-color: var(--sklearn-color-fitted-level-0);\n",
       "}\n",
       "\n",
       "#sk-container-id-3 div.sk-toggleable__content pre {\n",
       "  margin: 0.2em;\n",
       "  border-radius: 0.25em;\n",
       "  color: var(--sklearn-color-text);\n",
       "  /* unfitted */\n",
       "  background-color: var(--sklearn-color-unfitted-level-0);\n",
       "}\n",
       "\n",
       "#sk-container-id-3 div.sk-toggleable__content.fitted pre {\n",
       "  /* unfitted */\n",
       "  background-color: var(--sklearn-color-fitted-level-0);\n",
       "}\n",
       "\n",
       "#sk-container-id-3 input.sk-toggleable__control:checked~div.sk-toggleable__content {\n",
       "  /* Expand drop-down */\n",
       "  max-height: 200px;\n",
       "  max-width: 100%;\n",
       "  overflow: auto;\n",
       "}\n",
       "\n",
       "#sk-container-id-3 input.sk-toggleable__control:checked~label.sk-toggleable__label-arrow:before {\n",
       "  content: \"▾\";\n",
       "}\n",
       "\n",
       "/* Pipeline/ColumnTransformer-specific style */\n",
       "\n",
       "#sk-container-id-3 div.sk-label input.sk-toggleable__control:checked~label.sk-toggleable__label {\n",
       "  color: var(--sklearn-color-text);\n",
       "  background-color: var(--sklearn-color-unfitted-level-2);\n",
       "}\n",
       "\n",
       "#sk-container-id-3 div.sk-label.fitted input.sk-toggleable__control:checked~label.sk-toggleable__label {\n",
       "  background-color: var(--sklearn-color-fitted-level-2);\n",
       "}\n",
       "\n",
       "/* Estimator-specific style */\n",
       "\n",
       "/* Colorize estimator box */\n",
       "#sk-container-id-3 div.sk-estimator input.sk-toggleable__control:checked~label.sk-toggleable__label {\n",
       "  /* unfitted */\n",
       "  background-color: var(--sklearn-color-unfitted-level-2);\n",
       "}\n",
       "\n",
       "#sk-container-id-3 div.sk-estimator.fitted input.sk-toggleable__control:checked~label.sk-toggleable__label {\n",
       "  /* fitted */\n",
       "  background-color: var(--sklearn-color-fitted-level-2);\n",
       "}\n",
       "\n",
       "#sk-container-id-3 div.sk-label label.sk-toggleable__label,\n",
       "#sk-container-id-3 div.sk-label label {\n",
       "  /* The background is the default theme color */\n",
       "  color: var(--sklearn-color-text-on-default-background);\n",
       "}\n",
       "\n",
       "/* On hover, darken the color of the background */\n",
       "#sk-container-id-3 div.sk-label:hover label.sk-toggleable__label {\n",
       "  color: var(--sklearn-color-text);\n",
       "  background-color: var(--sklearn-color-unfitted-level-2);\n",
       "}\n",
       "\n",
       "/* Label box, darken color on hover, fitted */\n",
       "#sk-container-id-3 div.sk-label.fitted:hover label.sk-toggleable__label.fitted {\n",
       "  color: var(--sklearn-color-text);\n",
       "  background-color: var(--sklearn-color-fitted-level-2);\n",
       "}\n",
       "\n",
       "/* Estimator label */\n",
       "\n",
       "#sk-container-id-3 div.sk-label label {\n",
       "  font-family: monospace;\n",
       "  font-weight: bold;\n",
       "  display: inline-block;\n",
       "  line-height: 1.2em;\n",
       "}\n",
       "\n",
       "#sk-container-id-3 div.sk-label-container {\n",
       "  text-align: center;\n",
       "}\n",
       "\n",
       "/* Estimator-specific */\n",
       "#sk-container-id-3 div.sk-estimator {\n",
       "  font-family: monospace;\n",
       "  border: 1px dotted var(--sklearn-color-border-box);\n",
       "  border-radius: 0.25em;\n",
       "  box-sizing: border-box;\n",
       "  margin-bottom: 0.5em;\n",
       "  /* unfitted */\n",
       "  background-color: var(--sklearn-color-unfitted-level-0);\n",
       "}\n",
       "\n",
       "#sk-container-id-3 div.sk-estimator.fitted {\n",
       "  /* fitted */\n",
       "  background-color: var(--sklearn-color-fitted-level-0);\n",
       "}\n",
       "\n",
       "/* on hover */\n",
       "#sk-container-id-3 div.sk-estimator:hover {\n",
       "  /* unfitted */\n",
       "  background-color: var(--sklearn-color-unfitted-level-2);\n",
       "}\n",
       "\n",
       "#sk-container-id-3 div.sk-estimator.fitted:hover {\n",
       "  /* fitted */\n",
       "  background-color: var(--sklearn-color-fitted-level-2);\n",
       "}\n",
       "\n",
       "/* Specification for estimator info (e.g. \"i\" and \"?\") */\n",
       "\n",
       "/* Common style for \"i\" and \"?\" */\n",
       "\n",
       ".sk-estimator-doc-link,\n",
       "a:link.sk-estimator-doc-link,\n",
       "a:visited.sk-estimator-doc-link {\n",
       "  float: right;\n",
       "  font-size: smaller;\n",
       "  line-height: 1em;\n",
       "  font-family: monospace;\n",
       "  background-color: var(--sklearn-color-background);\n",
       "  border-radius: 1em;\n",
       "  height: 1em;\n",
       "  width: 1em;\n",
       "  text-decoration: none !important;\n",
       "  margin-left: 1ex;\n",
       "  /* unfitted */\n",
       "  border: var(--sklearn-color-unfitted-level-1) 1pt solid;\n",
       "  color: var(--sklearn-color-unfitted-level-1);\n",
       "}\n",
       "\n",
       ".sk-estimator-doc-link.fitted,\n",
       "a:link.sk-estimator-doc-link.fitted,\n",
       "a:visited.sk-estimator-doc-link.fitted {\n",
       "  /* fitted */\n",
       "  border: var(--sklearn-color-fitted-level-1) 1pt solid;\n",
       "  color: var(--sklearn-color-fitted-level-1);\n",
       "}\n",
       "\n",
       "/* On hover */\n",
       "div.sk-estimator:hover .sk-estimator-doc-link:hover,\n",
       ".sk-estimator-doc-link:hover,\n",
       "div.sk-label-container:hover .sk-estimator-doc-link:hover,\n",
       ".sk-estimator-doc-link:hover {\n",
       "  /* unfitted */\n",
       "  background-color: var(--sklearn-color-unfitted-level-3);\n",
       "  color: var(--sklearn-color-background);\n",
       "  text-decoration: none;\n",
       "}\n",
       "\n",
       "div.sk-estimator.fitted:hover .sk-estimator-doc-link.fitted:hover,\n",
       ".sk-estimator-doc-link.fitted:hover,\n",
       "div.sk-label-container:hover .sk-estimator-doc-link.fitted:hover,\n",
       ".sk-estimator-doc-link.fitted:hover {\n",
       "  /* fitted */\n",
       "  background-color: var(--sklearn-color-fitted-level-3);\n",
       "  color: var(--sklearn-color-background);\n",
       "  text-decoration: none;\n",
       "}\n",
       "\n",
       "/* Span, style for the box shown on hovering the info icon */\n",
       ".sk-estimator-doc-link span {\n",
       "  display: none;\n",
       "  z-index: 9999;\n",
       "  position: relative;\n",
       "  font-weight: normal;\n",
       "  right: .2ex;\n",
       "  padding: .5ex;\n",
       "  margin: .5ex;\n",
       "  width: min-content;\n",
       "  min-width: 20ex;\n",
       "  max-width: 50ex;\n",
       "  color: var(--sklearn-color-text);\n",
       "  box-shadow: 2pt 2pt 4pt #999;\n",
       "  /* unfitted */\n",
       "  background: var(--sklearn-color-unfitted-level-0);\n",
       "  border: .5pt solid var(--sklearn-color-unfitted-level-3);\n",
       "}\n",
       "\n",
       ".sk-estimator-doc-link.fitted span {\n",
       "  /* fitted */\n",
       "  background: var(--sklearn-color-fitted-level-0);\n",
       "  border: var(--sklearn-color-fitted-level-3);\n",
       "}\n",
       "\n",
       ".sk-estimator-doc-link:hover span {\n",
       "  display: block;\n",
       "}\n",
       "\n",
       "/* \"?\"-specific style due to the `<a>` HTML tag */\n",
       "\n",
       "#sk-container-id-3 a.estimator_doc_link {\n",
       "  float: right;\n",
       "  font-size: 1rem;\n",
       "  line-height: 1em;\n",
       "  font-family: monospace;\n",
       "  background-color: var(--sklearn-color-background);\n",
       "  border-radius: 1rem;\n",
       "  height: 1rem;\n",
       "  width: 1rem;\n",
       "  text-decoration: none;\n",
       "  /* unfitted */\n",
       "  color: var(--sklearn-color-unfitted-level-1);\n",
       "  border: var(--sklearn-color-unfitted-level-1) 1pt solid;\n",
       "}\n",
       "\n",
       "#sk-container-id-3 a.estimator_doc_link.fitted {\n",
       "  /* fitted */\n",
       "  border: var(--sklearn-color-fitted-level-1) 1pt solid;\n",
       "  color: var(--sklearn-color-fitted-level-1);\n",
       "}\n",
       "\n",
       "/* On hover */\n",
       "#sk-container-id-3 a.estimator_doc_link:hover {\n",
       "  /* unfitted */\n",
       "  background-color: var(--sklearn-color-unfitted-level-3);\n",
       "  color: var(--sklearn-color-background);\n",
       "  text-decoration: none;\n",
       "}\n",
       "\n",
       "#sk-container-id-3 a.estimator_doc_link.fitted:hover {\n",
       "  /* fitted */\n",
       "  background-color: var(--sklearn-color-fitted-level-3);\n",
       "}\n",
       "</style><div id=\"sk-container-id-3\" class=\"sk-top-container\"><div class=\"sk-text-repr-fallback\"><pre>PCA(n_components=3)</pre><b>In a Jupyter environment, please rerun this cell to show the HTML representation or trust the notebook. <br />On GitHub, the HTML representation is unable to render, please try loading this page with nbviewer.org.</b></div><div class=\"sk-container\" hidden><div class=\"sk-item\"><div class=\"sk-estimator fitted sk-toggleable\"><input class=\"sk-toggleable__control sk-hidden--visually\" id=\"sk-estimator-id-3\" type=\"checkbox\" checked><label for=\"sk-estimator-id-3\" class=\"sk-toggleable__label fitted sk-toggleable__label-arrow fitted\">&nbsp;&nbsp;PCA<a class=\"sk-estimator-doc-link fitted\" rel=\"noreferrer\" target=\"_blank\" href=\"https://scikit-learn.org/1.4/modules/generated/sklearn.decomposition.PCA.html\">?<span>Documentation for PCA</span></a><span class=\"sk-estimator-doc-link fitted\">i<span>Fitted</span></span></label><div class=\"sk-toggleable__content fitted\"><pre>PCA(n_components=3)</pre></div> </div></div></div></div>"
      ],
      "text/plain": [
       "PCA(n_components=3)"
      ]
     },
     "execution_count": 38,
     "metadata": {},
     "output_type": "execute_result"
    }
   ],
   "source": [
    "# https://scikit-learn.org/stable/modules/generated/sklearn.decomposition.PCA.html\n",
    "from sklearn.decomposition import PCA\n",
    "\n",
    "pca = PCA(n_components=3)\n",
    "pca.fit(councillor_df)"
   ]
  },
  {
   "cell_type": "code",
   "execution_count": 39,
   "metadata": {},
   "outputs": [],
   "source": [
    "reduced_councillor_df = pca.transform(councillor_df)"
   ]
  },
  {
   "cell_type": "code",
   "execution_count": 40,
   "metadata": {},
   "outputs": [
    {
     "data": {
      "text/plain": [
       "array([[ 18.6168528 ,   6.00717193,   7.87137556],\n",
       "       [-13.39444659,  -2.82609788,  -0.15288436],\n",
       "       [ 14.46739965,  -3.94174855,  -7.16546944],\n",
       "       [-13.17984699,  -3.10578522,  -0.44655365],\n",
       "       [ 15.64831148,   1.38405378,   8.29922124],\n",
       "       [  8.43159996, -10.63907043,  -0.10743461],\n",
       "       [ 16.77674617,  -3.57398857,  -8.20437855],\n",
       "       [ 18.33929071,  -3.26889508,  -9.04259378],\n",
       "       [  0.89128749, -13.0538705 ,   5.41458486],\n",
       "       [ 14.43408028,  -5.36381043,  -5.85225304]])"
      ]
     },
     "execution_count": 40,
     "metadata": {},
     "output_type": "execute_result"
    }
   ],
   "source": [
    "reduced_councillor_df[:10]"
   ]
  },
  {
   "cell_type": "code",
   "execution_count": 9,
   "metadata": {},
   "outputs": [
    {
     "data": {
      "text/plain": [
       "93"
      ]
     },
     "execution_count": 9,
     "metadata": {},
     "output_type": "execute_result"
    }
   ],
   "source": [
    "len(reduced_councillor_df)"
   ]
  },
  {
   "cell_type": "code",
   "execution_count": 10,
   "metadata": {},
   "outputs": [
    {
     "data": {
      "text/plain": [
       "'Brian Ashton'"
      ]
     },
     "execution_count": 10,
     "metadata": {},
     "output_type": "execute_result"
    }
   ],
   "source": [
    "councillor_df.iloc[1].name"
   ]
  },
  {
   "cell_type": "code",
   "execution_count": 26,
   "metadata": {},
   "outputs": [
    {
     "data": {
      "image/png": "[encoded data removed]",
      "text/plain": [
       "<Figure size 640x480 with 1 Axes>"
      ]
     },
     "metadata": {},
     "output_type": "display_data"
    }
   ],
   "source": [
    "# Graphing\n",
    "import matplotlib.pyplot as plt\n",
    "\n",
    "fig = plt.figure()\n",
    "ax = fig.add_subplot(projection='3d')\n",
    "\n",
    "\n",
    "for i in range(len(reduced_councillor_df)):\n",
    "    point = reduced_councillor_df[i,0], reduced_councillor_df[i,1], reduced_councillor_df[i,2]\n",
    "    ax.scatter(*point)\n",
    "    # ax.text(*point, councillor_df.iloc[i].name)\n",
    "\n",
    "plt.show()"
   ]
  },
  {
   "cell_type": "markdown",
   "metadata": {},
   "source": [
    "## Clustering"
   ]
  },
  {
   "cell_type": "code",
   "execution_count": 41,
   "metadata": {},
   "outputs": [
    {
     "data": {
      "text/plain": [
       "array([1, 0, 2, 0, 1, 4, 2, 2, 4, 2, 0, 1, 1, 4, 0, 1, 0, 0, 4, 0, 2, 2,\n",
       "       4, 4, 2, 2, 4, 0, 1, 4, 0, 1, 0, 2, 0, 4, 1, 1, 0, 0, 2, 4, 1, 4,\n",
       "       0, 4, 2, 1, 2, 2, 4, 2, 1, 1, 2, 1, 1, 1, 0, 0, 0, 3, 3, 3, 3, 3,\n",
       "       3, 3, 3, 3, 3, 3, 3, 0, 0, 0, 0, 0, 0, 0, 0, 0, 0, 0, 0, 0, 0, 0,\n",
       "       0, 0, 0, 0, 1], dtype=int32)"
      ]
     },
     "execution_count": 41,
     "metadata": {},
     "output_type": "execute_result"
    }
   ],
   "source": [
    "from sklearn.cluster import KMeans\n",
    "\n",
    "kmeans = KMeans(n_clusters=5, random_state=42, n_init=\"auto\").fit(reduced_councillor_df)\n",
    "kmeans.labels_\n"
   ]
  },
  {
   "cell_type": "code",
   "execution_count": 42,
   "metadata": {},
   "outputs": [
    {
     "data": {
      "application/vnd.plotly.v1+json": {
       "config": {
        "plotlyServerURL": "https://plot.ly"
       },
       "data": [
        {
         "hovertemplate": "<b>%{hovertext}</b><br><br>mayor=Was mayor<br>cluster=%{marker.color}<extra></extra>",
         "hovertext": [
          "Rob Ford",
          "David Miller",
          "John Tory",
          "Olivia Chow"
         ],
         "legendgroup": "Was mayor",
         "marker": {
          "color": [
           4,
           0,
           3,
           0
          ],
          "coloraxis": "coloraxis",
          "opacity": 0.75,
          "symbol": "circle"
         },
         "mode": "markers",
         "name": "Was mayor",
         "scene": "scene",
         "showlegend": true,
         "type": "scatter3d",
         "x": [
          -3.230527028592565,
          -13.457935862806087,
          -1.8685780308555324,
          -13.93847661090703
         ],
         "y": [
          -8.320165852228286,
          -2.2232604461825254,
          16.38782422024917,
          -0.29878801791805154
         ],
         "z": [
          3.6416171450091768,
          -0.5727388840198837,
          -0.6442807281922143,
          0.06264861772451363
         ]
        },
        {
         "hovertemplate": "<b>%{hovertext}</b><br><br>mayor=Was not mayor<br>cluster=%{marker.color}<extra></extra>",
         "hovertext": [
          "Paul Ainslie",
          "Brian Ashton",
          "Maria Augimeri",
          "Sandra Bussin",
          "Shelley Carroll",
          "Raymond Cho",
          "Janet Davis",
          "Glenn De Baeremaeker",
          "Mike Del Grande",
          "Frank Di Giorgio",
          "Mike Feldman",
          "John Filion",
          "Paula Fletcher",
          "Adam Giambrone",
          "Mark Grimes",
          "Suzan Hall",
          "A.A. Heaps",
          "Doug Holyday",
          "Cliff Jenkins",
          "Norman Kelly",
          "Chin Lee",
          "Gloria Lindsay Luby",
          "Giorgio Mammoliti",
          "Pam McConnell",
          "Joe Mihevc",
          "Peter Milczyn",
          "Denzil Minnan-Wong",
          "Ron Moeser",
          "Howard Moscoe",
          "Frances Nunziata",
          "Case Ootes",
          "Cesar Palacio",
          "Joe Pantalone",
          "John Parker",
          "Gord Perks",
          "Anthony Perruzza",
          "Kyle Rae",
          "Bill Saundercook",
          "David Shiner",
          "Karen Stintz",
          "Michael Thompson",
          "Adam Vaughan",
          "Michael Walker",
          "Michelle Berardinetti",
          "Josh Colle",
          "Gary Crawford",
          "Vincent Crisanti",
          "Sarah Doucette",
          "Doug Ford",
          "Mary Fragedakis",
          "Mike Layton",
          "Josh Matlow",
          "Mary-Margaret McMahon",
          "James Pasternak",
          "Jaye Robinson",
          "Kristyn Wong-Tam",
          "Peter Leon",
          "James Maloney",
          "Ceta Ramkhalawansingh",
          "Jon Burnside",
          "John Campbell",
          "Christin Carmichael Greb",
          "Joe Cressy",
          "Justin J. Di Ciano",
          "Stephen Holyday",
          "Jim Karygiannis",
          "Michelle Holland",
          "Michael Ford",
          "Neethan Shan",
          "Jim Hart",
          "Lucy Troisi",
          "Jonathan Tsao",
          "Miganoush Megardichian",
          "Brad Bradford",
          "Mike Colle",
          "Cynthia Lai",
          "Jennifer McKelvie",
          "Nick Mantas",
          "Robin Buxton Potts",
          "Rose Milczyn",
          "Alejandra Bravo",
          "Lily Cheng",
          "Ausma Malik",
          "Chris Moise",
          "Amber Morley",
          "Jamaal Myers",
          "Dianne Saxe",
          "Parthi Kandavel",
          "Ana Bailão"
         ],
         "legendgroup": "Was not mayor",
         "marker": {
          "color": [
           1,
           0,
           2,
           0,
           1,
           4,
           2,
           2,
           4,
           2,
           0,
           1,
           1,
           0,
           1,
           0,
           0,
           4,
           0,
           2,
           2,
           4,
           4,
           2,
           2,
           4,
           1,
           4,
           0,
           1,
           0,
           2,
           0,
           4,
           1,
           1,
           0,
           0,
           2,
           4,
           1,
           4,
           0,
           4,
           2,
           1,
           2,
           2,
           4,
           2,
           1,
           1,
           2,
           1,
           1,
           1,
           0,
           0,
           0,
           3,
           3,
           3,
           3,
           3,
           3,
           3,
           3,
           3,
           3,
           3,
           0,
           0,
           0,
           0,
           0,
           0,
           0,
           0,
           0,
           0,
           0,
           0,
           0,
           0,
           0,
           0,
           0,
           0,
           1
          ],
          "coloraxis": "coloraxis",
          "opacity": 0.75,
          "symbol": "diamond"
         },
         "mode": "markers",
         "name": "Was not mayor",
         "scene": "scene",
         "showlegend": true,
         "type": "scatter3d",
         "x": [
          18.616852796184354,
          -13.394446594113726,
          14.46739965468415,
          -13.179846985855216,
          15.648311479445237,
          8.431599960497211,
          16.776746166317558,
          18.33929071433812,
          0.8912874875219206,
          14.434080280024894,
          -13.59814749391201,
          15.579559824488298,
          15.639855362528982,
          -13.500419754923774,
          14.700436234685442,
          -13.146550621591457,
          -13.24221733714265,
          -3.1797570562927797,
          -13.42438511807885,
          13.816576765501049,
          14.464212424987688,
          3.5993301913999733,
          -1.5507947443101837,
          11.915573893344392,
          17.200267179025126,
          1.755646280099995,
          12.700075392598695,
          2.107045832528325,
          -13.155059408188462,
          21.972115689837548,
          -13.714677258777895,
          16.660685986354178,
          -13.228044982179545,
          3.132784941028112,
          22.361437696365904,
          14.173098346368365,
          -13.322843741515568,
          -13.317187074663467,
          9.792448998749743,
          1.452539900999856,
          13.839981740271936,
          3.1559543668667875,
          -13.446066612301747,
          4.414144956744435,
          12.154501687651239,
          16.74309103194726,
          11.216529574310215,
          18.603342252063253,
          -3.654734728231152,
          15.433360252875485,
          20.67169013642966,
          19.710219036968024,
          18.526461883871537,
          13.17995373292535,
          13.929395282127947,
          18.51921873871559,
          -6.983843922404223,
          -11.780132642443965,
          -11.587412001779017,
          -3.2333038874469135,
          -4.3491275153951,
          -4.805185939516782,
          0.8182581466069476,
          -4.942956234974698,
          -5.615908916464876,
          -3.8041826559685914,
          -9.443024087024716,
          -7.55386319492149,
          -8.767753853888552,
          -9.634957212846155,
          -10.575133586916797,
          -12.576110454369855,
          -12.843342483495851,
          -10.87735604045286,
          -11.17942485502693,
          -11.21085046866447,
          -10.858095560084982,
          -12.977729021326905,
          -13.701501494642873,
          -13.91588591950359,
          -13.916848097479912,
          -13.920478710906368,
          -13.913245458229104,
          -13.905320628303327,
          -13.900076801042063,
          -13.915480758804192,
          -13.915077835517671,
          -13.934840516992955,
          17.54378550179451
         ],
         "y": [
          6.00717192877283,
          -2.826097880968347,
          -3.941748547578128,
          -3.105785220325303,
          1.3840537793537941,
          -10.63907043353492,
          -3.573988565961023,
          -3.2688950782684083,
          -13.053870495177982,
          -5.363810431671628,
          -2.267697676259628,
          6.202263902074619,
          5.916014333180678,
          -1.9251249522599299,
          4.604843756012122,
          -3.284553098179747,
          -2.775741187797877,
          -11.183495822845515,
          -2.87424811770716,
          -5.023523965911302,
          -7.027678289486274,
          -14.329631966636466,
          -4.790961409071704,
          -8.947557969704857,
          -2.335064409595171,
          -14.061636153878549,
          2.729142686229766,
          -8.359342927141464,
          -3.1707275126504486,
          5.552521251056371,
          -1.9985341086761048,
          -6.212902271058694,
          -2.930793947035675,
          -14.209580820737251,
          4.738535092438012,
          2.903919726275524,
          -2.6943203016388244,
          -2.8448110611377215,
          -4.097628960912435,
          -12.812178393810775,
          5.260616031784683,
          -13.454909878896398,
          -2.7744439637379097,
          -9.499198599640138,
          -2.383521942465981,
          7.18465121886741,
          -4.659656813439252,
          -1.822038321539233,
          -9.144040350659564,
          -2.6166440032094638,
          6.825869965865338,
          6.485039726872006,
          -1.9333487992824612,
          7.013835059051611,
          3.974132747039944,
          6.3804239246886505,
          -4.218525265424307,
          -1.6349078267453248,
          -1.6271211185029815,
          10.216372883618966,
          9.204985474475993,
          8.417890205079578,
          18.079867610137764,
          7.771439599125321,
          13.573352205266096,
          11.539069762968454,
          4.07294176034898,
          11.733046901093724,
          5.451748616302612,
          4.800779592500158,
          3.6797518445806716,
          1.1453016706975165,
          0.7592855991647448,
          8.786643504362228,
          8.009913002132983,
          7.365224153191086,
          9.127285736846254,
          2.780096717413487,
          -0.2124935487861577,
          -0.689342111218965,
          0.13632243928962565,
          0.05537541739681784,
          0.14771374901263162,
          0.13585069342894002,
          0.21810272961059163,
          0.2044071247889319,
          0.1568671322889671,
          -0.5066770548757343,
          6.829590417436274
         ],
         "z": [
          7.871375561070739,
          -0.1528843587880444,
          -7.165469435866961,
          -0.4465536480977885,
          8.299221236698571,
          -0.10743461173291685,
          -8.204378545720083,
          -9.042593777560496,
          5.4145848583766805,
          -5.852253036270862,
          -0.21707435443502066,
          3.2038610426102,
          5.035866074525165,
          -0.6061374027202916,
          4.492176129849364,
          -0.22681021138733337,
          -0.4610152655961901,
          4.963179381707803,
          -0.027202921681598158,
          -5.7595963895014215,
          -4.283227261840401,
          4.834602775518971,
          -1.4680424023038736,
          -2.78892216894865,
          -7.953280321309165,
          5.03677303329165,
          5.356911422993906,
          0.4969746671798671,
          -0.331069761555566,
          7.08274717580727,
          -0.1530237920857016,
          -5.140521322854711,
          -0.5106867577540881,
          5.412327262019224,
          4.150407977561328,
          7.562204691486835,
          -0.5651694493731458,
          -0.3294581965597847,
          -4.681887826924056,
          4.548307630576214,
          8.158445098395134,
          3.039166572649357,
          -0.02811348034514577,
          1.785446861895607,
          -6.80858717048284,
          5.534700334100843,
          -2.2907473011374107,
          -8.57710815983983,
          4.011404289098201,
          -7.230002906140631,
          3.0593170187745926,
          4.579471569751294,
          -8.085135158014872,
          6.253998763667808,
          1.3208679689172917,
          1.1292985244199831,
          0.42647059940222615,
          -0.41528779117696013,
          -0.4720145440931347,
          -10.662783900679715,
          -11.490852213614822,
          -10.695752678671912,
          -2.7557578776973033,
          -10.128532821780501,
          -3.4070431898400457,
          -5.730931942010354,
          -5.81687668028948,
          0.717030840924167,
          -6.849414246151379,
          -6.0271658538080715,
          -5.094338591712171,
          -2.600639891868508,
          -2.195145970730707,
          11.391508500918082,
          10.559855118479547,
          9.156883033842254,
          11.953800245875378,
          4.378297858193228,
          0.011531453604707365,
          -0.6999745879607975,
          0.9173781157426919,
          0.694771540075801,
          0.9331681970223448,
          0.8692582228550644,
          1.0213386848078807,
          0.9904292695904044,
          0.9042912379031633,
          -0.33833061555864274,
          4.82833380177092
         ]
        }
       ],
       "layout": {
        "coloraxis": {
         "colorbar": {
          "title": {
           "text": "cluster"
          }
         },
         "colorscale": [
          [
           0,
           "#0d0887"
          ],
          [
           0.1111111111111111,
           "#46039f"
          ],
          [
           0.2222222222222222,
           "#7201a8"
          ],
          [
           0.3333333333333333,
           "#9c179e"
          ],
          [
           0.4444444444444444,
           "#bd3786"
          ],
          [
           0.5555555555555556,
           "#d8576b"
          ],
          [
           0.6666666666666666,
           "#ed7953"
          ],
          [
           0.7777777777777778,
           "#fb9f3a"
          ],
          [
           0.8888888888888888,
           "#fdca26"
          ],
          [
           1,
           "#f0f921"
          ]
         ]
        },
        "height": 500,
        "legend": {
         "title": {
          "text": "Legend"
         },
         "tracegroupgap": 0,
         "x": 0.05,
         "xanchor": "left",
         "y": 0.95,
         "yanchor": "top"
        },
        "scene": {
         "domain": {
          "x": [
           0,
           1
          ],
          "y": [
           0,
           1
          ]
         },
         "xaxis": {
          "nticks": 1,
          "tickfont": {
           "size": 1
          },
          "title": {
           "text": ""
          }
         },
         "yaxis": {
          "title": {
           "text": ""
          }
         },
         "zaxis": {
          "title": {
           "text": ""
          }
         }
        },
        "template": {
         "data": {
          "bar": [
           {
            "error_x": {
             "color": "#2a3f5f"
            },
            "error_y": {
             "color": "#2a3f5f"
            },
            "marker": {
             "line": {
              "color": "#E5ECF6",
              "width": 0.5
             },
             "pattern": {
              "fillmode": "overlay",
              "size": 10,
              "solidity": 0.2
             }
            },
            "type": "bar"
           }
          ],
          "barpolar": [
           {
            "marker": {
             "line": {
              "color": "#E5ECF6",
              "width": 0.5
             },
             "pattern": {
              "fillmode": "overlay",
              "size": 10,
              "solidity": 0.2
             }
            },
            "type": "barpolar"
           }
          ],
          "carpet": [
           {
            "aaxis": {
             "endlinecolor": "#2a3f5f",
             "gridcolor": "white",
             "linecolor": "white",
             "minorgridcolor": "white",
             "startlinecolor": "#2a3f5f"
            },
            "baxis": {
             "endlinecolor": "#2a3f5f",
             "gridcolor": "white",
             "linecolor": "white",
             "minorgridcolor": "white",
             "startlinecolor": "#2a3f5f"
            },
            "type": "carpet"
           }
          ],
          "choropleth": [
           {
            "colorbar": {
             "outlinewidth": 0,
             "ticks": ""
            },
            "type": "choropleth"
           }
          ],
          "contour": [
           {
            "colorbar": {
             "outlinewidth": 0,
             "ticks": ""
            },
            "colorscale": [
             [
              0,
              "#0d0887"
             ],
             [
              0.1111111111111111,
              "#46039f"
             ],
             [
              0.2222222222222222,
              "#7201a8"
             ],
             [
              0.3333333333333333,
              "#9c179e"
             ],
             [
              0.4444444444444444,
              "#bd3786"
             ],
             [
              0.5555555555555556,
              "#d8576b"
             ],
             [
              0.6666666666666666,
              "#ed7953"
             ],
             [
              0.7777777777777778,
              "#fb9f3a"
             ],
             [
              0.8888888888888888,
              "#fdca26"
             ],
             [
              1,
              "#f0f921"
             ]
            ],
            "type": "contour"
           }
          ],
          "contourcarpet": [
           {
            "colorbar": {
             "outlinewidth": 0,
             "ticks": ""
            },
            "type": "contourcarpet"
           }
          ],
          "heatmap": [
           {
            "colorbar": {
             "outlinewidth": 0,
             "ticks": ""
            },
            "colorscale": [
             [
              0,
              "#0d0887"
             ],
             [
              0.1111111111111111,
              "#46039f"
             ],
             [
              0.2222222222222222,
              "#7201a8"
             ],
             [
              0.3333333333333333,
              "#9c179e"
             ],
             [
              0.4444444444444444,
              "#bd3786"
             ],
             [
              0.5555555555555556,
              "#d8576b"
             ],
             [
              0.6666666666666666,
              "#ed7953"
             ],
             [
              0.7777777777777778,
              "#fb9f3a"
             ],
             [
              0.8888888888888888,
              "#fdca26"
             ],
             [
              1,
              "#f0f921"
             ]
            ],
            "type": "heatmap"
           }
          ],
          "heatmapgl": [
           {
            "colorbar": {
             "outlinewidth": 0,
             "ticks": ""
            },
            "colorscale": [
             [
              0,
              "#0d0887"
             ],
             [
              0.1111111111111111,
              "#46039f"
             ],
             [
              0.2222222222222222,
              "#7201a8"
             ],
             [
              0.3333333333333333,
              "#9c179e"
             ],
             [
              0.4444444444444444,
              "#bd3786"
             ],
             [
              0.5555555555555556,
              "#d8576b"
             ],
             [
              0.6666666666666666,
              "#ed7953"
             ],
             [
              0.7777777777777778,
              "#fb9f3a"
             ],
             [
              0.8888888888888888,
              "#fdca26"
             ],
             [
              1,
              "#f0f921"
             ]
            ],
            "type": "heatmapgl"
           }
          ],
          "histogram": [
           {
            "marker": {
             "pattern": {
              "fillmode": "overlay",
              "size": 10,
              "solidity": 0.2
             }
            },
            "type": "histogram"
           }
          ],
          "histogram2d": [
           {
            "colorbar": {
             "outlinewidth": 0,
             "ticks": ""
            },
            "colorscale": [
             [
              0,
              "#0d0887"
             ],
             [
              0.1111111111111111,
              "#46039f"
             ],
             [
              0.2222222222222222,
              "#7201a8"
             ],
             [
              0.3333333333333333,
              "#9c179e"
             ],
             [
              0.4444444444444444,
              "#bd3786"
             ],
             [
              0.5555555555555556,
              "#d8576b"
             ],
             [
              0.6666666666666666,
              "#ed7953"
             ],
             [
              0.7777777777777778,
              "#fb9f3a"
             ],
             [
              0.8888888888888888,
              "#fdca26"
             ],
             [
              1,
              "#f0f921"
             ]
            ],
            "type": "histogram2d"
           }
          ],
          "histogram2dcontour": [
           {
            "colorbar": {
             "outlinewidth": 0,
             "ticks": ""
            },
            "colorscale": [
             [
              0,
              "#0d0887"
             ],
             [
              0.1111111111111111,
              "#46039f"
             ],
             [
              0.2222222222222222,
              "#7201a8"
             ],
             [
              0.3333333333333333,
              "#9c179e"
             ],
             [
              0.4444444444444444,
              "#bd3786"
             ],
             [
              0.5555555555555556,
              "#d8576b"
             ],
             [
              0.6666666666666666,
              "#ed7953"
             ],
             [
              0.7777777777777778,
              "#fb9f3a"
             ],
             [
              0.8888888888888888,
              "#fdca26"
             ],
             [
              1,
              "#f0f921"
             ]
            ],
            "type": "histogram2dcontour"
           }
          ],
          "mesh3d": [
           {
            "colorbar": {
             "outlinewidth": 0,
             "ticks": ""
            },
            "type": "mesh3d"
           }
          ],
          "parcoords": [
           {
            "line": {
             "colorbar": {
              "outlinewidth": 0,
              "ticks": ""
             }
            },
            "type": "parcoords"
           }
          ],
          "pie": [
           {
            "automargin": true,
            "type": "pie"
           }
          ],
          "scatter": [
           {
            "fillpattern": {
             "fillmode": "overlay",
             "size": 10,
             "solidity": 0.2
            },
            "type": "scatter"
           }
          ],
          "scatter3d": [
           {
            "line": {
             "colorbar": {
              "outlinewidth": 0,
              "ticks": ""
             }
            },
            "marker": {
             "colorbar": {
              "outlinewidth": 0,
              "ticks": ""
             }
            },
            "type": "scatter3d"
           }
          ],
          "scattercarpet": [
           {
            "marker": {
             "colorbar": {
              "outlinewidth": 0,
              "ticks": ""
             }
            },
            "type": "scattercarpet"
           }
          ],
          "scattergeo": [
           {
            "marker": {
             "colorbar": {
              "outlinewidth": 0,
              "ticks": ""
             }
            },
            "type": "scattergeo"
           }
          ],
          "scattergl": [
           {
            "marker": {
             "colorbar": {
              "outlinewidth": 0,
              "ticks": ""
             }
            },
            "type": "scattergl"
           }
          ],
          "scattermapbox": [
           {
            "marker": {
             "colorbar": {
              "outlinewidth": 0,
              "ticks": ""
             }
            },
            "type": "scattermapbox"
           }
          ],
          "scatterpolar": [
           {
            "marker": {
             "colorbar": {
              "outlinewidth": 0,
              "ticks": ""
             }
            },
            "type": "scatterpolar"
           }
          ],
          "scatterpolargl": [
           {
            "marker": {
             "colorbar": {
              "outlinewidth": 0,
              "ticks": ""
             }
            },
            "type": "scatterpolargl"
           }
          ],
          "scatterternary": [
           {
            "marker": {
             "colorbar": {
              "outlinewidth": 0,
              "ticks": ""
             }
            },
            "type": "scatterternary"
           }
          ],
          "surface": [
           {
            "colorbar": {
             "outlinewidth": 0,
             "ticks": ""
            },
            "colorscale": [
             [
              0,
              "#0d0887"
             ],
             [
              0.1111111111111111,
              "#46039f"
             ],
             [
              0.2222222222222222,
              "#7201a8"
             ],
             [
              0.3333333333333333,
              "#9c179e"
             ],
             [
              0.4444444444444444,
              "#bd3786"
             ],
             [
              0.5555555555555556,
              "#d8576b"
             ],
             [
              0.6666666666666666,
              "#ed7953"
             ],
             [
              0.7777777777777778,
              "#fb9f3a"
             ],
             [
              0.8888888888888888,
              "#fdca26"
             ],
             [
              1,
              "#f0f921"
             ]
            ],
            "type": "surface"
           }
          ],
          "table": [
           {
            "cells": {
             "fill": {
              "color": "#EBF0F8"
             },
             "line": {
              "color": "white"
             }
            },
            "header": {
             "fill": {
              "color": "#C8D4E3"
             },
             "line": {
              "color": "white"
             }
            },
            "type": "table"
           }
          ]
         },
         "layout": {
          "annotationdefaults": {
           "arrowcolor": "#2a3f5f",
           "arrowhead": 0,
           "arrowwidth": 1
          },
          "autotypenumbers": "strict",
          "coloraxis": {
           "colorbar": {
            "outlinewidth": 0,
            "ticks": ""
           }
          },
          "colorscale": {
           "diverging": [
            [
             0,
             "#8e0152"
            ],
            [
             0.1,
             "#c51b7d"
            ],
            [
             0.2,
             "#de77ae"
            ],
            [
             0.3,
             "#f1b6da"
            ],
            [
             0.4,
             "#fde0ef"
            ],
            [
             0.5,
             "#f7f7f7"
            ],
            [
             0.6,
             "#e6f5d0"
            ],
            [
             0.7,
             "#b8e186"
            ],
            [
             0.8,
             "#7fbc41"
            ],
            [
             0.9,
             "#4d9221"
            ],
            [
             1,
             "#276419"
            ]
           ],
           "sequential": [
            [
             0,
             "#0d0887"
            ],
            [
             0.1111111111111111,
             "#46039f"
            ],
            [
             0.2222222222222222,
             "#7201a8"
            ],
            [
             0.3333333333333333,
             "#9c179e"
            ],
            [
             0.4444444444444444,
             "#bd3786"
            ],
            [
             0.5555555555555556,
             "#d8576b"
            ],
            [
             0.6666666666666666,
             "#ed7953"
            ],
            [
             0.7777777777777778,
             "#fb9f3a"
            ],
            [
             0.8888888888888888,
             "#fdca26"
            ],
            [
             1,
             "#f0f921"
            ]
           ],
           "sequentialminus": [
            [
             0,
             "#0d0887"
            ],
            [
             0.1111111111111111,
             "#46039f"
            ],
            [
             0.2222222222222222,
             "#7201a8"
            ],
            [
             0.3333333333333333,
             "#9c179e"
            ],
            [
             0.4444444444444444,
             "#bd3786"
            ],
            [
             0.5555555555555556,
             "#d8576b"
            ],
            [
             0.6666666666666666,
             "#ed7953"
            ],
            [
             0.7777777777777778,
             "#fb9f3a"
            ],
            [
             0.8888888888888888,
             "#fdca26"
            ],
            [
             1,
             "#f0f921"
            ]
           ]
          },
          "colorway": [
           "#636efa",
           "#EF553B",
           "#00cc96",
           "#ab63fa",
           "#FFA15A",
           "#19d3f3",
           "#FF6692",
           "#B6E880",
           "#FF97FF",
           "#FECB52"
          ],
          "font": {
           "color": "#2a3f5f"
          },
          "geo": {
           "bgcolor": "white",
           "lakecolor": "white",
           "landcolor": "#E5ECF6",
           "showlakes": true,
           "showland": true,
           "subunitcolor": "white"
          },
          "hoverlabel": {
           "align": "left"
          },
          "hovermode": "closest",
          "mapbox": {
           "style": "light"
          },
          "paper_bgcolor": "white",
          "plot_bgcolor": "#E5ECF6",
          "polar": {
           "angularaxis": {
            "gridcolor": "white",
            "linecolor": "white",
            "ticks": ""
           },
           "bgcolor": "#E5ECF6",
           "radialaxis": {
            "gridcolor": "white",
            "linecolor": "white",
            "ticks": ""
           }
          },
          "scene": {
           "xaxis": {
            "backgroundcolor": "#E5ECF6",
            "gridcolor": "white",
            "gridwidth": 2,
            "linecolor": "white",
            "showbackground": true,
            "ticks": "",
            "zerolinecolor": "white"
           },
           "yaxis": {
            "backgroundcolor": "#E5ECF6",
            "gridcolor": "white",
            "gridwidth": 2,
            "linecolor": "white",
            "showbackground": true,
            "ticks": "",
            "zerolinecolor": "white"
           },
           "zaxis": {
            "backgroundcolor": "#E5ECF6",
            "gridcolor": "white",
            "gridwidth": 2,
            "linecolor": "white",
            "showbackground": true,
            "ticks": "",
            "zerolinecolor": "white"
           }
          },
          "shapedefaults": {
           "line": {
            "color": "#2a3f5f"
           }
          },
          "ternary": {
           "aaxis": {
            "gridcolor": "white",
            "linecolor": "white",
            "ticks": ""
           },
           "baxis": {
            "gridcolor": "white",
            "linecolor": "white",
            "ticks": ""
           },
           "bgcolor": "#E5ECF6",
           "caxis": {
            "gridcolor": "white",
            "linecolor": "white",
            "ticks": ""
           }
          },
          "title": {
           "x": 0.05
          },
          "xaxis": {
           "automargin": true,
           "gridcolor": "white",
           "linecolor": "white",
           "ticks": "",
           "title": {
            "standoff": 15
           },
           "zerolinecolor": "white",
           "zerolinewidth": 2
          },
          "yaxis": {
           "automargin": true,
           "gridcolor": "white",
           "linecolor": "white",
           "ticks": "",
           "title": {
            "standoff": 15
           },
           "zerolinecolor": "white",
           "zerolinewidth": 2
          }
         }
        },
        "title": {
         "text": "Toronto City Councillors by Voting Record"
        }
       }
      }
     },
     "metadata": {},
     "output_type": "display_data"
    }
   ],
   "source": [
    "import plotly.express as px\n",
    "import plotly.graph_objects as go\n",
    "\n",
    "# Prepare for visualization\n",
    "headers = ['councillor', 'x', 'y', 'z', 'cluster', 'mayor']\n",
    "plotly_rows = []\n",
    "past_mayors = 'Olivia Chow', 'John Tory', 'Rob Ford', 'David Miller'\n",
    "for i, name in enumerate(rows):\n",
    "    row = [name] + list(reduced_councillor_df[i])\n",
    "    row.append(kmeans.labels_[i])\n",
    "    row.append('Was mayor' if name in past_mayors else 'Was not mayor')\n",
    "    plotly_rows.append(row)\n",
    "plotly_df = pd.DataFrame(plotly_rows, columns=headers)\n",
    "del plotly_rows, headers\n",
    "\n",
    "# Plot\n",
    "fig = go.Figure(px.scatter_3d(\n",
    "    plotly_df, x='x', y='y', z='z', hover_name='councillor', hover_data={'x': False, 'y': False, 'z': False}, color='cluster', symbol='mayor', title='Toronto City Councillors by Voting Record',\n",
    "    opacity = 0.75,\n",
    "    # width=800,\n",
    "    height=500,\n",
    "    labels={\n",
    "        'x': '',\n",
    "        'y': '',\n",
    "        'z': ''\n",
    "    },\n",
    "    category_orders={'mayor': ['Was mayor', 'Was not mayor']}\n",
    "))\n",
    "fig.update_layout(\n",
    "    scene={\n",
    "        'xaxis': {\n",
    "            'nticks': 1,\n",
    "            'tickfont': {'size': 1}\n",
    "        }\n",
    "    },\n",
    "    legend={\n",
    "        'yanchor': 'top',\n",
    "        'y': 0.95,\n",
    "        'xanchor': 'left',\n",
    "        'x': 0.05,\n",
    "        'title': 'Legend'\n",
    "    },\n",
    "    # legend_title_text=\"Was mayor?\"\n",
    "    # showlegend=False\n",
    ")\n",
    "\n",
    "fig.show()"
   ]
  },
  {
   "cell_type": "code",
   "execution_count": 15,
   "metadata": {},
   "outputs": [],
   "source": [
    "plotly_df.to_csv(\"output/plotly_df.csv\")"
   ]
  },
  {
   "cell_type": "markdown",
   "metadata": {},
   "source": [
    "## Try 2D"
   ]
  },
  {
   "cell_type": "code",
   "execution_count": 27,
   "metadata": {},
   "outputs": [
    {
     "data": {
      "text/plain": [
       "array([[ 77.02632139,  22.19760375],\n",
       "       [-57.56500086, -14.18898116],\n",
       "       [ 59.15672247, -16.98256536],\n",
       "       [-56.96623483, -16.15862067],\n",
       "       [ 64.77246078,   3.91665639],\n",
       "       [ 32.50265623, -46.4893434 ],\n",
       "       [ 69.41096725, -17.90910851],\n",
       "       [ 74.0487915 , -16.13204194],\n",
       "       [ 11.60785339, -59.58468167],\n",
       "       [ 61.81976312, -20.13134851]])"
      ]
     },
     "execution_count": 27,
     "metadata": {},
     "output_type": "execute_result"
    }
   ],
   "source": [
    "pca = PCA(n_components=2)\n",
    "pca.fit(councillor_df)\n",
    "reduced_councillor_df = pca.transform(councillor_df)\n",
    "reduced_councillor_df[:10]"
   ]
  },
  {
   "cell_type": "code",
   "execution_count": 28,
   "metadata": {},
   "outputs": [
    {
     "data": {
      "image/png": "[encoded data removed]",
      "text/plain": [
       "<Figure size 640x480 with 1 Axes>"
      ]
     },
     "metadata": {},
     "output_type": "display_data"
    }
   ],
   "source": [
    "# Graphing\n",
    "fig = plt.figure()\n",
    "ax = fig.add_subplot()\n",
    "\n",
    "\n",
    "for i in range(len(reduced_councillor_df)):\n",
    "    point = reduced_councillor_df[i,0], reduced_councillor_df[i,1]\n",
    "    ax.scatter(*point)\n",
    "\n",
    "plt.show()"
   ]
  },
  {
   "cell_type": "code",
   "execution_count": 33,
   "metadata": {},
   "outputs": [
    {
     "data": {
      "application/vnd.plotly.v1+json": {
       "config": {
        "plotlyServerURL": "https://plot.ly"
       },
       "data": [
        {
         "hovertemplate": "<b>%{hovertext}</b><br><br>mayor=Was mayor<br>cluster=%{marker.color}<extra></extra>",
         "hovertext": [
          "Rob Ford",
          "David Miller",
          "John Tory",
          "Olivia Chow"
         ],
         "legendgroup": "Was mayor",
         "marker": {
          "color": [
           2,
           0,
           3,
           0
          ],
          "coloraxis": "coloraxis",
          "opacity": 0.5,
          "symbol": "circle"
         },
         "mode": "markers",
         "name": "Was mayor",
         "orientation": "v",
         "showlegend": true,
         "type": "scatter",
         "x": [
          9.230055201234743,
          -58.443083143887144,
          -8.97668228273002,
          -60.514122570928805
         ],
         "xaxis": "x",
         "y": [
          -48.04726504136136,
          -10.909996388927906,
          66.95289641251142,
          -0.10325297928534083
         ],
         "yaxis": "y"
        },
        {
         "hovertemplate": "<b>%{hovertext}</b><br><br>mayor=Was not mayor<br>cluster=%{marker.color}<extra></extra>",
         "hovertext": [
          "Paul Ainslie",
          "Brian Ashton",
          "Maria Augimeri",
          "Sandra Bussin",
          "Shelley Carroll",
          "Raymond Cho",
          "Janet Davis",
          "Glenn De Baeremaeker",
          "Mike Del Grande",
          "Frank Di Giorgio",
          "Mike Feldman",
          "John Filion",
          "Paula Fletcher",
          "Adam Giambrone",
          "Mark Grimes",
          "Suzan Hall",
          "A.A. Heaps",
          "Doug Holyday",
          "Cliff Jenkins",
          "Norman Kelly",
          "Chin Lee",
          "Gloria Lindsay Luby",
          "Giorgio Mammoliti",
          "Pam McConnell",
          "Joe Mihevc",
          "Peter Milczyn",
          "Denzil Minnan-Wong",
          "Ron Moeser",
          "Howard Moscoe",
          "Frances Nunziata",
          "Case Ootes",
          "Cesar Palacio",
          "Joe Pantalone",
          "John Parker",
          "Gord Perks",
          "Anthony Perruzza",
          "Kyle Rae",
          "Bill Saundercook",
          "David Shiner",
          "Karen Stintz",
          "Michael Thompson",
          "Adam Vaughan",
          "Michael Walker",
          "Michelle Berardinetti",
          "Josh Colle",
          "Gary Crawford",
          "Vincent Crisanti",
          "Sarah Doucette",
          "Doug Ford",
          "Mary Fragedakis",
          "Mike Layton",
          "Josh Matlow",
          "Mary-Margaret McMahon",
          "James Pasternak",
          "Jaye Robinson",
          "Kristyn Wong-Tam",
          "Peter Leon",
          "James Maloney",
          "Ceta Ramkhalawansingh",
          "Jon Burnside",
          "John Campbell",
          "Christin Carmichael Greb",
          "Joe Cressy",
          "Justin J. Di Ciano",
          "Stephen Holyday",
          "Jim Karygiannis",
          "Michelle Holland",
          "Michael Ford",
          "Neethan Shan",
          "Jim Hart",
          "Lucy Troisi",
          "Jonathan Tsao",
          "Miganoush Megardichian",
          "Brad Bradford",
          "Mike Colle",
          "Cynthia Lai",
          "Jennifer McKelvie",
          "Nick Mantas",
          "Robin Buxton Potts",
          "Rose Milczyn",
          "Alejandra Bravo",
          "Lily Cheng",
          "Ausma Malik",
          "Chris Moise",
          "Amber Morley",
          "Jamaal Myers",
          "Dianne Saxe",
          "Parthi Kandavel",
          "Ana Bailão"
         ],
         "legendgroup": "Was not mayor",
         "marker": {
          "color": [
           1,
           0,
           4,
           0,
           1,
           2,
           4,
           4,
           2,
           4,
           0,
           1,
           1,
           0,
           1,
           0,
           0,
           2,
           0,
           4,
           4,
           2,
           2,
           4,
           4,
           2,
           1,
           2,
           0,
           1,
           0,
           4,
           0,
           2,
           1,
           1,
           0,
           0,
           4,
           2,
           1,
           2,
           0,
           2,
           4,
           1,
           4,
           4,
           2,
           4,
           1,
           1,
           4,
           1,
           1,
           1,
           0,
           0,
           0,
           3,
           3,
           3,
           3,
           3,
           3,
           3,
           3,
           3,
           3,
           3,
           0,
           0,
           0,
           0,
           0,
           0,
           0,
           0,
           0,
           0,
           0,
           0,
           0,
           0,
           0,
           0,
           0,
           0,
           1
          ],
          "coloraxis": "coloraxis",
          "opacity": 0.5,
          "symbol": "diamond"
         },
         "mode": "markers",
         "name": "Was not mayor",
         "orientation": "v",
         "showlegend": true,
         "type": "scatter",
         "x": [
          77.0263213877699,
          -57.56500085819758,
          59.156722468328674,
          -56.96623483243753,
          64.7724607829343,
          32.50265622573797,
          69.41096725210356,
          74.04879150390428,
          11.607853390767717,
          61.81976312132035,
          -58.28436966063824,
          63.43313737171324,
          64.62749421872253,
          -58.601534794615446,
          63.28977216532063,
          -56.72700357957445,
          -57.49595444658709,
          -5.299909643363096,
          -57.112181293286866,
          59.45612716693269,
          57.900855199165726,
          13.492929561036133,
          6.949578597693029,
          46.73986071373705,
          67.7140302492152,
          6.216200722229526,
          61.61758609592406,
          9.74934805464825,
          -56.78929464862671,
          93.21595063176478,
          -58.19907094695155,
          68.63165639498358,
          -57.470439385349835,
          13.90440167171433,
          93.03216204105259,
          61.05172678081712,
          -57.73439214309768,
          -57.31611102598387,
          47.1960014340481,
          4.400154335239858,
          58.47798867263295,
          12.717923820454976,
          -57.26674854501508,
          15.586038456816107,
          50.00375692647773,
          69.76691046585636,
          47.629647418421165,
          74.00737509525688,
          -5.877580770587899,
          62.59787768622725,
          82.39340651150737,
          83.45217271123524,
          73.90136726462002,
          57.36052658819474,
          59.42265596949354,
          75.03051248279219,
          -32.069462744762724,
          -51.84293819842601,
          -51.142930688173564,
          -12.439861705493435,
          -13.81792943955015,
          -17.059676173096623,
          0.9138034729919818,
          -20.644838247249048,
          -0.9956824021528597,
          -14.509696947688182,
          -40.37935181250948,
          -24.618328427292386,
          -39.01887734503998,
          -42.72369232561898,
          -46.64965656760746,
          -54.99217132794599,
          -56.055549907353836,
          -47.35158035156501,
          -47.83796948471716,
          -48.441450676167584,
          -47.20206860311868,
          -56.093888172865945,
          -59.43200966382322,
          -60.44290184450046,
          -60.25657616531197,
          -60.30380925121994,
          -60.2564700491867,
          -60.24629078469818,
          -60.23142305206585,
          -60.248478152156395,
          -60.266424069645716,
          -60.50804904210406,
          69.263219911927
         ],
         "xaxis": "x",
         "y": [
          22.197603754536967,
          -14.188981162039914,
          -16.982565356880457,
          -16.15862066986028,
          3.9166563935987786,
          -46.48934339907415,
          -17.909108510976218,
          -16.132041942647287,
          -59.584681671068346,
          -20.131348509083576,
          -11.433988479401465,
          22.22479043597619,
          21.076574669469384,
          -9.46460382672535,
          16.72060225968736,
          -17.088507316343616,
          -14.156151938929083,
          -52.286190437767615,
          -15.873068609530955,
          -20.472059350682567,
          -29.48860656485842,
          -61.46115911615482,
          -11.990685800951749,
          -40.43216654957594,
          -12.840938227397245,
          -59.8354198509273,
          14.709476610888752,
          -37.12005492020361,
          -16.866649637654685,
          20.754146949889478,
          -11.652158048829962,
          -24.123316006942485,
          -14.536435660868156,
          -61.02066811626471,
          18.5260164705575,
          11.332454723612614,
          -13.389343923748642,
          -15.035538245493173,
          -18.65604234564172,
          -55.00048867780316,
          19.918792079312333,
          -63.11036223381731,
          -15.29514526993504,
          -37.17775814216401,
          -7.077044304336589,
          31.589574278941623,
          -11.839394412550847,
          -5.734369799418692,
          -39.15358518766893,
          -9.004941675555878,
          28.055493080798563,
          31.193848969249387,
          -6.169947226000904,
          33.31499804999077,
          21.0828988969463,
          25.96399282304815,
          -16.455382817891866,
          -5.800382926558523,
          -5.9503995347429814,
          46.618231721363685,
          42.09975721459653,
          38.5876546716679,
          75.43905054958752,
          34.86589041643739,
          78.01758677147657,
          50.46033338058911,
          19.610173577323177,
          56.00068775366349,
          24.108407406219424,
          20.84612433923365,
          16.137345232618546,
          5.529228003335399,
          3.958949001482022,
          35.64678334166612,
          34.753247697492256,
          29.699685634410145,
          36.844911850803,
          12.85943400235314,
          0.20254244681183126,
          -1.986292898290055,
          2.4925578430325177,
          2.151915831182687,
          2.4837737411958214,
          2.2214241103955894,
          2.5959049031041435,
          2.474949800012355,
          2.435057722279626,
          -0.9834673960861827,
          27.92749528557005
         ],
         "yaxis": "y"
        }
       ],
       "layout": {
        "coloraxis": {
         "colorbar": {
          "title": {
           "text": "cluster"
          }
         },
         "colorscale": [
          [
           0,
           "#0d0887"
          ],
          [
           0.1111111111111111,
           "#46039f"
          ],
          [
           0.2222222222222222,
           "#7201a8"
          ],
          [
           0.3333333333333333,
           "#9c179e"
          ],
          [
           0.4444444444444444,
           "#bd3786"
          ],
          [
           0.5555555555555556,
           "#d8576b"
          ],
          [
           0.6666666666666666,
           "#ed7953"
          ],
          [
           0.7777777777777778,
           "#fb9f3a"
          ],
          [
           0.8888888888888888,
           "#fdca26"
          ],
          [
           1,
           "#f0f921"
          ]
         ]
        },
        "height": 500,
        "legend": {
         "title": {
          "text": "Legend"
         },
         "tracegroupgap": 0,
         "x": 0.05,
         "xanchor": "left",
         "y": 0.95,
         "yanchor": "top"
        },
        "scene": {
         "xaxis": {
          "nticks": 1,
          "tickfont": {
           "size": 1
          }
         },
         "yaxis": {
          "nticks": 1,
          "tickfont": {
           "size": 1
          }
         }
        },
        "template": {
         "data": {
          "bar": [
           {
            "error_x": {
             "color": "#2a3f5f"
            },
            "error_y": {
             "color": "#2a3f5f"
            },
            "marker": {
             "line": {
              "color": "#E5ECF6",
              "width": 0.5
             },
             "pattern": {
              "fillmode": "overlay",
              "size": 10,
              "solidity": 0.2
             }
            },
            "type": "bar"
           }
          ],
          "barpolar": [
           {
            "marker": {
             "line": {
              "color": "#E5ECF6",
              "width": 0.5
             },
             "pattern": {
              "fillmode": "overlay",
              "size": 10,
              "solidity": 0.2
             }
            },
            "type": "barpolar"
           }
          ],
          "carpet": [
           {
            "aaxis": {
             "endlinecolor": "#2a3f5f",
             "gridcolor": "white",
             "linecolor": "white",
             "minorgridcolor": "white",
             "startlinecolor": "#2a3f5f"
            },
            "baxis": {
             "endlinecolor": "#2a3f5f",
             "gridcolor": "white",
             "linecolor": "white",
             "minorgridcolor": "white",
             "startlinecolor": "#2a3f5f"
            },
            "type": "carpet"
           }
          ],
          "choropleth": [
           {
            "colorbar": {
             "outlinewidth": 0,
             "ticks": ""
            },
            "type": "choropleth"
           }
          ],
          "contour": [
           {
            "colorbar": {
             "outlinewidth": 0,
             "ticks": ""
            },
            "colorscale": [
             [
              0,
              "#0d0887"
             ],
             [
              0.1111111111111111,
              "#46039f"
             ],
             [
              0.2222222222222222,
              "#7201a8"
             ],
             [
              0.3333333333333333,
              "#9c179e"
             ],
             [
              0.4444444444444444,
              "#bd3786"
             ],
             [
              0.5555555555555556,
              "#d8576b"
             ],
             [
              0.6666666666666666,
              "#ed7953"
             ],
             [
              0.7777777777777778,
              "#fb9f3a"
             ],
             [
              0.8888888888888888,
              "#fdca26"
             ],
             [
              1,
              "#f0f921"
             ]
            ],
            "type": "contour"
           }
          ],
          "contourcarpet": [
           {
            "colorbar": {
             "outlinewidth": 0,
             "ticks": ""
            },
            "type": "contourcarpet"
           }
          ],
          "heatmap": [
           {
            "colorbar": {
             "outlinewidth": 0,
             "ticks": ""
            },
            "colorscale": [
             [
              0,
              "#0d0887"
             ],
             [
              0.1111111111111111,
              "#46039f"
             ],
             [
              0.2222222222222222,
              "#7201a8"
             ],
             [
              0.3333333333333333,
              "#9c179e"
             ],
             [
              0.4444444444444444,
              "#bd3786"
             ],
             [
              0.5555555555555556,
              "#d8576b"
             ],
             [
              0.6666666666666666,
              "#ed7953"
             ],
             [
              0.7777777777777778,
              "#fb9f3a"
             ],
             [
              0.8888888888888888,
              "#fdca26"
             ],
             [
              1,
              "#f0f921"
             ]
            ],
            "type": "heatmap"
           }
          ],
          "heatmapgl": [
           {
            "colorbar": {
             "outlinewidth": 0,
             "ticks": ""
            },
            "colorscale": [
             [
              0,
              "#0d0887"
             ],
             [
              0.1111111111111111,
              "#46039f"
             ],
             [
              0.2222222222222222,
              "#7201a8"
             ],
             [
              0.3333333333333333,
              "#9c179e"
             ],
             [
              0.4444444444444444,
              "#bd3786"
             ],
             [
              0.5555555555555556,
              "#d8576b"
             ],
             [
              0.6666666666666666,
              "#ed7953"
             ],
             [
              0.7777777777777778,
              "#fb9f3a"
             ],
             [
              0.8888888888888888,
              "#fdca26"
             ],
             [
              1,
              "#f0f921"
             ]
            ],
            "type": "heatmapgl"
           }
          ],
          "histogram": [
           {
            "marker": {
             "pattern": {
              "fillmode": "overlay",
              "size": 10,
              "solidity": 0.2
             }
            },
            "type": "histogram"
           }
          ],
          "histogram2d": [
           {
            "colorbar": {
             "outlinewidth": 0,
             "ticks": ""
            },
            "colorscale": [
             [
              0,
              "#0d0887"
             ],
             [
              0.1111111111111111,
              "#46039f"
             ],
             [
              0.2222222222222222,
              "#7201a8"
             ],
             [
              0.3333333333333333,
              "#9c179e"
             ],
             [
              0.4444444444444444,
              "#bd3786"
             ],
             [
              0.5555555555555556,
              "#d8576b"
             ],
             [
              0.6666666666666666,
              "#ed7953"
             ],
             [
              0.7777777777777778,
              "#fb9f3a"
             ],
             [
              0.8888888888888888,
              "#fdca26"
             ],
             [
              1,
              "#f0f921"
             ]
            ],
            "type": "histogram2d"
           }
          ],
          "histogram2dcontour": [
           {
            "colorbar": {
             "outlinewidth": 0,
             "ticks": ""
            },
            "colorscale": [
             [
              0,
              "#0d0887"
             ],
             [
              0.1111111111111111,
              "#46039f"
             ],
             [
              0.2222222222222222,
              "#7201a8"
             ],
             [
              0.3333333333333333,
              "#9c179e"
             ],
             [
              0.4444444444444444,
              "#bd3786"
             ],
             [
              0.5555555555555556,
              "#d8576b"
             ],
             [
              0.6666666666666666,
              "#ed7953"
             ],
             [
              0.7777777777777778,
              "#fb9f3a"
             ],
             [
              0.8888888888888888,
              "#fdca26"
             ],
             [
              1,
              "#f0f921"
             ]
            ],
            "type": "histogram2dcontour"
           }
          ],
          "mesh3d": [
           {
            "colorbar": {
             "outlinewidth": 0,
             "ticks": ""
            },
            "type": "mesh3d"
           }
          ],
          "parcoords": [
           {
            "line": {
             "colorbar": {
              "outlinewidth": 0,
              "ticks": ""
             }
            },
            "type": "parcoords"
           }
          ],
          "pie": [
           {
            "automargin": true,
            "type": "pie"
           }
          ],
          "scatter": [
           {
            "fillpattern": {
             "fillmode": "overlay",
             "size": 10,
             "solidity": 0.2
            },
            "type": "scatter"
           }
          ],
          "scatter3d": [
           {
            "line": {
             "colorbar": {
              "outlinewidth": 0,
              "ticks": ""
             }
            },
            "marker": {
             "colorbar": {
              "outlinewidth": 0,
              "ticks": ""
             }
            },
            "type": "scatter3d"
           }
          ],
          "scattercarpet": [
           {
            "marker": {
             "colorbar": {
              "outlinewidth": 0,
              "ticks": ""
             }
            },
            "type": "scattercarpet"
           }
          ],
          "scattergeo": [
           {
            "marker": {
             "colorbar": {
              "outlinewidth": 0,
              "ticks": ""
             }
            },
            "type": "scattergeo"
           }
          ],
          "scattergl": [
           {
            "marker": {
             "colorbar": {
              "outlinewidth": 0,
              "ticks": ""
             }
            },
            "type": "scattergl"
           }
          ],
          "scattermapbox": [
           {
            "marker": {
             "colorbar": {
              "outlinewidth": 0,
              "ticks": ""
             }
            },
            "type": "scattermapbox"
           }
          ],
          "scatterpolar": [
           {
            "marker": {
             "colorbar": {
              "outlinewidth": 0,
              "ticks": ""
             }
            },
            "type": "scatterpolar"
           }
          ],
          "scatterpolargl": [
           {
            "marker": {
             "colorbar": {
              "outlinewidth": 0,
              "ticks": ""
             }
            },
            "type": "scatterpolargl"
           }
          ],
          "scatterternary": [
           {
            "marker": {
             "colorbar": {
              "outlinewidth": 0,
              "ticks": ""
             }
            },
            "type": "scatterternary"
           }
          ],
          "surface": [
           {
            "colorbar": {
             "outlinewidth": 0,
             "ticks": ""
            },
            "colorscale": [
             [
              0,
              "#0d0887"
             ],
             [
              0.1111111111111111,
              "#46039f"
             ],
             [
              0.2222222222222222,
              "#7201a8"
             ],
             [
              0.3333333333333333,
              "#9c179e"
             ],
             [
              0.4444444444444444,
              "#bd3786"
             ],
             [
              0.5555555555555556,
              "#d8576b"
             ],
             [
              0.6666666666666666,
              "#ed7953"
             ],
             [
              0.7777777777777778,
              "#fb9f3a"
             ],
             [
              0.8888888888888888,
              "#fdca26"
             ],
             [
              1,
              "#f0f921"
             ]
            ],
            "type": "surface"
           }
          ],
          "table": [
           {
            "cells": {
             "fill": {
              "color": "#EBF0F8"
             },
             "line": {
              "color": "white"
             }
            },
            "header": {
             "fill": {
              "color": "#C8D4E3"
             },
             "line": {
              "color": "white"
             }
            },
            "type": "table"
           }
          ]
         },
         "layout": {
          "annotationdefaults": {
           "arrowcolor": "#2a3f5f",
           "arrowhead": 0,
           "arrowwidth": 1
          },
          "autotypenumbers": "strict",
          "coloraxis": {
           "colorbar": {
            "outlinewidth": 0,
            "ticks": ""
           }
          },
          "colorscale": {
           "diverging": [
            [
             0,
             "#8e0152"
            ],
            [
             0.1,
             "#c51b7d"
            ],
            [
             0.2,
             "#de77ae"
            ],
            [
             0.3,
             "#f1b6da"
            ],
            [
             0.4,
             "#fde0ef"
            ],
            [
             0.5,
             "#f7f7f7"
            ],
            [
             0.6,
             "#e6f5d0"
            ],
            [
             0.7,
             "#b8e186"
            ],
            [
             0.8,
             "#7fbc41"
            ],
            [
             0.9,
             "#4d9221"
            ],
            [
             1,
             "#276419"
            ]
           ],
           "sequential": [
            [
             0,
             "#0d0887"
            ],
            [
             0.1111111111111111,
             "#46039f"
            ],
            [
             0.2222222222222222,
             "#7201a8"
            ],
            [
             0.3333333333333333,
             "#9c179e"
            ],
            [
             0.4444444444444444,
             "#bd3786"
            ],
            [
             0.5555555555555556,
             "#d8576b"
            ],
            [
             0.6666666666666666,
             "#ed7953"
            ],
            [
             0.7777777777777778,
             "#fb9f3a"
            ],
            [
             0.8888888888888888,
             "#fdca26"
            ],
            [
             1,
             "#f0f921"
            ]
           ],
           "sequentialminus": [
            [
             0,
             "#0d0887"
            ],
            [
             0.1111111111111111,
             "#46039f"
            ],
            [
             0.2222222222222222,
             "#7201a8"
            ],
            [
             0.3333333333333333,
             "#9c179e"
            ],
            [
             0.4444444444444444,
             "#bd3786"
            ],
            [
             0.5555555555555556,
             "#d8576b"
            ],
            [
             0.6666666666666666,
             "#ed7953"
            ],
            [
             0.7777777777777778,
             "#fb9f3a"
            ],
            [
             0.8888888888888888,
             "#fdca26"
            ],
            [
             1,
             "#f0f921"
            ]
           ]
          },
          "colorway": [
           "#636efa",
           "#EF553B",
           "#00cc96",
           "#ab63fa",
           "#FFA15A",
           "#19d3f3",
           "#FF6692",
           "#B6E880",
           "#FF97FF",
           "#FECB52"
          ],
          "font": {
           "color": "#2a3f5f"
          },
          "geo": {
           "bgcolor": "white",
           "lakecolor": "white",
           "landcolor": "#E5ECF6",
           "showlakes": true,
           "showland": true,
           "subunitcolor": "white"
          },
          "hoverlabel": {
           "align": "left"
          },
          "hovermode": "closest",
          "mapbox": {
           "style": "light"
          },
          "paper_bgcolor": "white",
          "plot_bgcolor": "#E5ECF6",
          "polar": {
           "angularaxis": {
            "gridcolor": "white",
            "linecolor": "white",
            "ticks": ""
           },
           "bgcolor": "#E5ECF6",
           "radialaxis": {
            "gridcolor": "white",
            "linecolor": "white",
            "ticks": ""
           }
          },
          "scene": {
           "xaxis": {
            "backgroundcolor": "#E5ECF6",
            "gridcolor": "white",
            "gridwidth": 2,
            "linecolor": "white",
            "showbackground": true,
            "ticks": "",
            "zerolinecolor": "white"
           },
           "yaxis": {
            "backgroundcolor": "#E5ECF6",
            "gridcolor": "white",
            "gridwidth": 2,
            "linecolor": "white",
            "showbackground": true,
            "ticks": "",
            "zerolinecolor": "white"
           },
           "zaxis": {
            "backgroundcolor": "#E5ECF6",
            "gridcolor": "white",
            "gridwidth": 2,
            "linecolor": "white",
            "showbackground": true,
            "ticks": "",
            "zerolinecolor": "white"
           }
          },
          "shapedefaults": {
           "line": {
            "color": "#2a3f5f"
           }
          },
          "ternary": {
           "aaxis": {
            "gridcolor": "white",
            "linecolor": "white",
            "ticks": ""
           },
           "baxis": {
            "gridcolor": "white",
            "linecolor": "white",
            "ticks": ""
           },
           "bgcolor": "#E5ECF6",
           "caxis": {
            "gridcolor": "white",
            "linecolor": "white",
            "ticks": ""
           }
          },
          "title": {
           "x": 0.05
          },
          "xaxis": {
           "automargin": true,
           "gridcolor": "white",
           "linecolor": "white",
           "ticks": "",
           "title": {
            "standoff": 15
           },
           "zerolinecolor": "white",
           "zerolinewidth": 2
          },
          "yaxis": {
           "automargin": true,
           "gridcolor": "white",
           "linecolor": "white",
           "ticks": "",
           "title": {
            "standoff": 15
           },
           "zerolinecolor": "white",
           "zerolinewidth": 2
          }
         }
        },
        "title": {
         "text": "Toronto City Councillors by Voting Record"
        },
        "xaxis": {
         "anchor": "y",
         "domain": [
          0,
          1
         ],
         "title": {
          "text": ""
         }
        },
        "yaxis": {
         "anchor": "x",
         "domain": [
          0,
          1
         ],
         "title": {
          "text": ""
         }
        }
       }
      }
     },
     "metadata": {},
     "output_type": "display_data"
    }
   ],
   "source": [
    "# Prepare for visualization\n",
    "headers = ['councillor', 'x', 'y', 'cluster', 'mayor']\n",
    "plotly_rows = []\n",
    "past_mayors = 'Olivia Chow', 'John Tory', 'Rob Ford', 'David Miller'\n",
    "for i, name in enumerate(rows):\n",
    "    row = [name] + list(reduced_councillor_df[i])\n",
    "    row.append(kmeans.labels_[i])\n",
    "    row.append('Was mayor' if name in past_mayors else 'Was not mayor')\n",
    "    plotly_rows.append(row)\n",
    "plotly_df = pd.DataFrame(plotly_rows, columns=headers)\n",
    "del plotly_rows, headers\n",
    "\n",
    "# Plot\n",
    "fig = go.Figure(px.scatter(\n",
    "    plotly_df, x='x', y='y', hover_name='councillor', hover_data={'x': False, 'y': False}, color='cluster', symbol='mayor', title='Toronto City Councillors by Voting Record',\n",
    "    opacity = 0.5,\n",
    "    # width=800,\n",
    "    height=500,\n",
    "    labels={\n",
    "        'x': '',\n",
    "        'y': '',\n",
    "    },\n",
    "    category_orders={'mayor': ['Was mayor', 'Was not mayor']}\n",
    "))\n",
    "fig.update_layout(\n",
    "    scene={\n",
    "        'xaxis': {\n",
    "            'nticks': 1,\n",
    "            'tickfont': {'size': 1}\n",
    "        },\n",
    "        'yaxis': {\n",
    "            'nticks': 1,\n",
    "            'tickfont': {'size': 1}\n",
    "        },\n",
    "    },\n",
    "    legend={\n",
    "        'yanchor': 'top',\n",
    "        'y': 0.95,\n",
    "        'xanchor': 'left',\n",
    "        'x': 0.05,\n",
    "        'title': 'Legend'\n",
    "    },\n",
    "    # legend_title_text=\"Was mayor?\"\n",
    "    # showlegend=False\n",
    ")\n",
    "\n",
    "fig.show()"
   ]
  },
  {
   "cell_type": "markdown",
   "metadata": {},
   "source": [
    "# Compare numericalization methods\n",
    "Code copied and based on the above"
   ]
  },
  {
   "cell_type": "code",
   "execution_count": 3,
   "metadata": {},
   "outputs": [
    {
     "data": {
      "application/vnd.jupyter.widget-view+json": {
       "model_id": "b1a8406994bf4ffe8d6acb19d29f7ae9",
       "version_major": 2,
       "version_minor": 0
      },
      "text/plain": [
       "Loading Agenda Items:   0%|          | 0/5 [00:00<?, ?it/s]"
      ]
     },
     "metadata": {},
     "output_type": "display_data"
    },
    {
     "data": {
      "application/vnd.jupyter.widget-view+json": {
       "model_id": "6aab720ade484d0cbbd621c2129bb8f1",
       "version_major": 2,
       "version_minor": 0
      },
      "text/plain": [
       "0it [00:00, ?it/s]"
      ]
     },
     "metadata": {},
     "output_type": "display_data"
    },
    {
     "data": {
      "application/vnd.jupyter.widget-view+json": {
       "model_id": "04efbf87f7aa4415aef14917291a3bc7",
       "version_major": 2,
       "version_minor": 0
      },
      "text/plain": [
       "0it [00:00, ?it/s]"
      ]
     },
     "metadata": {},
     "output_type": "display_data"
    },
    {
     "data": {
      "application/vnd.jupyter.widget-view+json": {
       "model_id": "cd755cf9fbfc407aae4845d17f113257",
       "version_major": 2,
       "version_minor": 0
      },
      "text/plain": [
       "0it [00:00, ?it/s]"
      ]
     },
     "metadata": {},
     "output_type": "display_data"
    },
    {
     "data": {
      "application/vnd.jupyter.widget-view+json": {
       "model_id": "3f6896dba963442097a962b6c221dd1e",
       "version_major": 2,
       "version_minor": 0
      },
      "text/plain": [
       "0it [00:00, ?it/s]"
      ]
     },
     "metadata": {},
     "output_type": "display_data"
    },
    {
     "data": {
      "application/vnd.jupyter.widget-view+json": {
       "model_id": "44f36917d8504a9eb07b9294365402ee",
       "version_major": 2,
       "version_minor": 0
      },
      "text/plain": [
       "0it [00:00, ?it/s]"
      ]
     },
     "metadata": {},
     "output_type": "display_data"
    },
    {
     "name": "stdout",
     "output_type": "stream",
     "text": [
      "Found 8708 unique Agenda Items.\n"
     ]
    },
    {
     "data": {
      "application/vnd.jupyter.widget-view+json": {
       "model_id": "4c165eb9e22f4fd4906f31ddeae63d12",
       "version_major": 2,
       "version_minor": 0
      },
      "text/plain": [
       "Loading Councillor Votes:   0%|          | 0/5 [00:00<?, ?it/s]"
      ]
     },
     "metadata": {},
     "output_type": "display_data"
    },
    {
     "data": {
      "application/vnd.jupyter.widget-view+json": {
       "model_id": "7d4f99312c6b4edd9caa8e7c9e5c74d3",
       "version_major": 2,
       "version_minor": 0
      },
      "text/plain": [
       "0it [00:00, ?it/s]"
      ]
     },
     "metadata": {},
     "output_type": "display_data"
    },
    {
     "data": {
      "application/vnd.jupyter.widget-view+json": {
       "model_id": "f314ce9d4a5648fda0b4145b38de6e9c",
       "version_major": 2,
       "version_minor": 0
      },
      "text/plain": [
       "0it [00:00, ?it/s]"
      ]
     },
     "metadata": {},
     "output_type": "display_data"
    },
    {
     "data": {
      "application/vnd.jupyter.widget-view+json": {
       "model_id": "45c3d81099ae4a3cbfbb82b55ca92bd6",
       "version_major": 2,
       "version_minor": 0
      },
      "text/plain": [
       "0it [00:00, ?it/s]"
      ]
     },
     "metadata": {},
     "output_type": "display_data"
    },
    {
     "data": {
      "application/vnd.jupyter.widget-view+json": {
       "model_id": "fb916c4d99c74594b2a7105a75f35912",
       "version_major": 2,
       "version_minor": 0
      },
      "text/plain": [
       "0it [00:00, ?it/s]"
      ]
     },
     "metadata": {},
     "output_type": "display_data"
    },
    {
     "data": {
      "application/vnd.jupyter.widget-view+json": {
       "model_id": "5c0567524a9c4a5e8a83e2858f6a8b6a",
       "version_major": 2,
       "version_minor": 0
      },
      "text/plain": [
       "0it [00:00, ?it/s]"
      ]
     },
     "metadata": {},
     "output_type": "display_data"
    },
    {
     "name": "stdout",
     "output_type": "stream",
     "text": [
      "Votes tallied.\n"
     ]
    }
   ],
   "source": [
    "# Read each file\n",
    "rows_method_1 = {}  # Councillor[str] -> Votes[list]\n",
    "rows_method_2 = {}  # Councillor[str] -> Votes[list]\n",
    "rows_method_3 = {}  # Councillor[str] -> Votes[list]\n",
    "indices = {}  # Voting item[str] -> Index[int]\n",
    "next_index = 0\n",
    "\n",
    "# First pass: Obtain set of Agenda Items\n",
    "for filename in tqdm(records, desc='Loading Agenda Items', position=0):\n",
    "    with open(filename, 'r', encoding='utf-8', newline='') as file:\n",
    "        reader = csv.DictReader(file)\n",
    "        for row in tqdm(reader, position=1):\n",
    "            assert row['Agenda Item #'], row\n",
    "            if row['Agenda Item #'] not in indices:\n",
    "                indices[row['Agenda Item #']] = next_index\n",
    "                next_index += 1\n",
    "print(\"Found\", len(indices), \"unique Agenda Items.\")\n",
    "\n",
    "# Second pass: Obtain councillor votes\n",
    "for filename in tqdm(records, desc='Loading Councillor Votes', position=0):\n",
    "    with open(filename, 'r', encoding='utf-8', newline='') as file:\n",
    "        reader = csv.DictReader(file)\n",
    "        for row in tqdm(reader, position=1):\n",
    "\n",
    "            assert row['First Name'], row\n",
    "            assert row['Last Name'], row\n",
    "            assert row['Vote'], row\n",
    "\n",
    "            name = f\"{row['First Name'].strip()} {row['Last Name'].strip()}\"\n",
    "            index = indices[row['Agenda Item #']]\n",
    "\n",
    "            # Initialize councillor\n",
    "            \"\"\"\n",
    "            Method 1:\n",
    "                Yes: 1.0\n",
    "                No: 0.0\n",
    "                Absent: -1.0\n",
    "                N/A: -1.0 (similar results with -2)\n",
    "\n",
    "            Method 2:\n",
    "                Yes: 1.0\n",
    "                No: 0.0\n",
    "                Absent: 0.5\n",
    "                N/A: -1.0\n",
    "\n",
    "            Method 3:\n",
    "                Yes: 1.0\n",
    "                No: 0.0\n",
    "                Absent: 0.5\n",
    "                N/A: 0.5\n",
    "            \"\"\"\n",
    "            # N/A vote\n",
    "            if name not in rows_method_1:  # All rows_ dicts should have the same names, so just check one\n",
    "                rows_method_1[name] = [-1.0 for __ in range(len(indices))]\n",
    "                rows_method_2[name] = [-1.0 for __ in range(len(indices))]\n",
    "                rows_method_3[name] = [0.5 for __ in range(len(indices))]\n",
    "\n",
    "            # Other votes\n",
    "            if row['Vote'] == 'Yes':\n",
    "                rows_method_1[name][index] = 1.\n",
    "                rows_method_2[name][index] = 1.\n",
    "                rows_method_3[name][index] = 1.\n",
    "            elif row['Vote'] == 'No':\n",
    "                rows_method_1[name][index] = 0.\n",
    "                rows_method_2[name][index] = 0.\n",
    "                rows_method_3[name][index] = 0.\n",
    "            elif row['Vote'] == 'Absent':\n",
    "                rows_method_1[name][index] = -1.\n",
    "                rows_method_2[name][index] = 0.5\n",
    "                rows_method_3[name][index] = 0.5\n",
    "            else:\n",
    "                raise ValueError(f\"Invalid vote type: {row['Vote']}\")\n",
    "\n",
    "# Correct encoding issue with Ana Bailão\n",
    "rows_method_1['Ana Bailão'] = rows_method_1['Ana BailÃ£o']\n",
    "rows_method_2['Ana Bailão'] = rows_method_2['Ana BailÃ£o']\n",
    "rows_method_3['Ana Bailão'] = rows_method_3['Ana BailÃ£o']\n",
    "del rows_method_1['Ana BailÃ£o']\n",
    "del rows_method_2['Ana BailÃ£o']\n",
    "del rows_method_3['Ana BailÃ£o']\n",
    "\n",
    "print(\"Votes tallied.\")"
   ]
  },
  {
   "cell_type": "code",
   "execution_count": 4,
   "metadata": {},
   "outputs": [],
   "source": [
    "# Convert to DataFrame\n",
    "councillor_df_method_1 = pd.DataFrame(\n",
    "    [rows_method_1[name] for name in rows_method_1],\n",
    "    columns=[agenda_item for agenda_item in indices],\n",
    "    index=[name for name in rows_method_1]\n",
    ")\n",
    "councillor_df_method_2 = pd.DataFrame(\n",
    "    [rows_method_2[name] for name in rows_method_2],\n",
    "    columns=[agenda_item for agenda_item in indices],\n",
    "    index=[name for name in rows_method_1]\n",
    ")\n",
    "councillor_df_method_3 = pd.DataFrame(\n",
    "    [rows_method_3[name] for name in rows_method_3],\n",
    "    columns=[agenda_item for agenda_item in indices],\n",
    "    index=[name for name in rows_method_1]\n",
    ")"
   ]
  },
  {
   "cell_type": "code",
   "execution_count": 6,
   "metadata": {},
   "outputs": [],
   "source": [
    "from sklearn.decomposition import PCA\n",
    "\n",
    "# Reduce dimensionality\n",
    "pca = PCA(n_components=3)\n",
    "pca.fit(councillor_df_method_1)\n",
    "reduced_councillor_df_method_1 = pca.transform(councillor_df_method_1)\n",
    "\n",
    "pca = PCA(n_components=3)\n",
    "pca.fit(councillor_df_method_2)\n",
    "reduced_councillor_df_method_2 = pca.transform(councillor_df_method_2)\n",
    "\n",
    "pca = PCA(n_components=3)\n",
    "pca.fit(councillor_df_method_3)\n",
    "reduced_councillor_df_method_3 = pca.transform(councillor_df_method_3)"
   ]
  },
  {
   "cell_type": "code",
   "execution_count": 8,
   "metadata": {},
   "outputs": [
    {
     "data": {
      "image/png": "[encoded data removed]",
      "text/plain": [
       "<Figure size 1454.55x480 with 3 Axes>"
      ]
     },
     "metadata": {},
     "output_type": "display_data"
    }
   ],
   "source": [
    "import matplotlib.pyplot as plt\n",
    "fig = plt.figure(figsize=plt.figaspect(0.33))\n",
    "\n",
    "ax = fig.add_subplot(1,3,1, projection='3d')\n",
    "# axs[0] = fig.add_subplot(projection='3d')\n",
    "for i in range(len(reduced_councillor_df_method_1)):\n",
    "    point = reduced_councillor_df_method_1[i,0], reduced_councillor_df_method_1[i,1], reduced_councillor_df_method_1[i,2]\n",
    "    ax.scatter(*point)\n",
    "    ax.set_title(\"Method 1\")\n",
    "\n",
    "ax = fig.add_subplot(1,3,2, projection='3d')\n",
    "for i in range(len(reduced_councillor_df_method_2)):\n",
    "    point = reduced_councillor_df_method_2[i,0], reduced_councillor_df_method_2[i,1], reduced_councillor_df_method_2[i,2]\n",
    "    ax.scatter(*point)\n",
    "    ax.set_title(\"Method 2\")\n",
    "\n",
    "ax = fig.add_subplot(1,3,3, projection='3d')\n",
    "for i in range(len(reduced_councillor_df_method_3)):\n",
    "    point = reduced_councillor_df_method_3[i,0], reduced_councillor_df_method_3[i,1], reduced_councillor_df_method_3[i,2]\n",
    "    ax.scatter(*point)\n",
    "    ax.set_title(\"Method 3\")\n",
    "\n",
    "plt.show()"
   ]
  },
  {
   "cell_type": "code",
   "execution_count": 13,
   "metadata": {},
   "outputs": [
    {
     "name": "stdout",
     "output_type": "stream",
     "text": [
      "Paul Ainslie\n",
      "Brian Ashton\n",
      "Maria Augimeri\n",
      "Sandra Bussin\n",
      "Shelley Carroll\n",
      "Raymond Cho\n",
      "Janet Davis\n",
      "Glenn De Baeremaeker\n",
      "Mike Del Grande\n",
      "Frank Di Giorgio\n",
      "Mike Feldman\n",
      "John Filion\n",
      "Paula Fletcher\n",
      "Rob Ford\n",
      "Adam Giambrone\n",
      "Mark Grimes\n",
      "Suzan Hall\n",
      "A.A. Heaps\n",
      "Doug Holyday\n",
      "Cliff Jenkins\n",
      "Norman Kelly\n",
      "Chin Lee\n",
      "Gloria Lindsay Luby\n",
      "Giorgio Mammoliti\n",
      "Pam McConnell\n",
      "Joe Mihevc\n",
      "Peter Milczyn\n",
      "David Miller\n",
      "Denzil Minnan-Wong\n",
      "Ron Moeser\n",
      "Howard Moscoe\n",
      "Frances Nunziata\n",
      "Case Ootes\n",
      "Cesar Palacio\n",
      "Joe Pantalone\n",
      "John Parker\n",
      "Gord Perks\n",
      "Anthony Perruzza\n",
      "Kyle Rae\n",
      "Bill Saundercook\n",
      "David Shiner\n",
      "Karen Stintz\n",
      "Michael Thompson\n",
      "Adam Vaughan\n",
      "Michael Walker\n",
      "Michelle Berardinetti\n",
      "Josh Colle\n",
      "Gary Crawford\n",
      "Vincent Crisanti\n",
      "Sarah Doucette\n",
      "Doug Ford\n",
      "Mary Fragedakis\n",
      "Mike Layton\n",
      "Josh Matlow\n",
      "Mary-Margaret McMahon\n",
      "James Pasternak\n",
      "Jaye Robinson\n",
      "Kristyn Wong-Tam\n",
      "Peter Leon\n",
      "James Maloney\n",
      "Ceta Ramkhalawansingh\n",
      "Jon Burnside\n",
      "John Campbell\n",
      "Christin Carmichael Greb\n",
      "Joe Cressy\n",
      "Justin J. Di Ciano\n",
      "Stephen Holyday\n",
      "Jim Karygiannis\n",
      "John Tory\n",
      "Michelle Holland\n",
      "Michael Ford\n",
      "Neethan Shan\n",
      "Jim Hart\n",
      "Lucy Troisi\n",
      "Jonathan Tsao\n",
      "Miganoush Megardichian\n",
      "Brad Bradford\n",
      "Mike Colle\n",
      "Cynthia Lai\n",
      "Jennifer McKelvie\n",
      "Nick Mantas\n",
      "Robin Buxton Potts\n",
      "Rose Milczyn\n",
      "Alejandra Bravo\n",
      "Lily Cheng\n",
      "Ausma Malik\n",
      "Chris Moise\n",
      "Amber Morley\n",
      "Jamaal Myers\n",
      "Dianne Saxe\n",
      "Olivia Chow\n",
      "Parthi Kandavel\n",
      "Ana Bailão\n"
     ]
    }
   ],
   "source": [
    "for name in councillor_df_method_1.index:\n",
    "    print(name)"
   ]
  },
  {
   "cell_type": "code",
   "execution_count": 17,
   "metadata": {},
   "outputs": [
    {
     "data": {
      "text/plain": [
       "False"
      ]
     },
     "execution_count": 17,
     "metadata": {},
     "output_type": "execute_result"
    }
   ],
   "source": [
    "councillor_df_method_1.loc['Paul Ainslie'].isin([-1.]).all()"
   ]
  },
  {
   "cell_type": "code",
   "execution_count": null,
   "metadata": {},
   "outputs": [],
   "source": []
  }
 ],
 "metadata": {
  "kernelspec": {
   "display_name": ".venv",
   "language": "python",
   "name": "python3"
  },
  "language_info": {
   "codemirror_mode": {
    "name": "ipython",
    "version": 3
   },
   "file_extension": ".py",
   "mimetype": "text/x-python",
   "name": "python",
   "nbconvert_exporter": "python",
   "pygments_lexer": "ipython3",
   "version": "3.11.9"
  }
 },
 "nbformat": 4,
 "nbformat_minor": 2
}
